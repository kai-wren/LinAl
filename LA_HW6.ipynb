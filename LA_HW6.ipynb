{
 "cells": [
  {
   "cell_type": "markdown",
   "metadata": {},
   "source": [
    "Importing required libraries"
   ]
  },
  {
   "cell_type": "code",
   "execution_count": 1,
   "metadata": {},
   "outputs": [],
   "source": [
    "import numpy as np"
   ]
  },
  {
   "cell_type": "markdown",
   "metadata": {},
   "source": [
    "# Problem 1"
   ]
  },
  {
   "cell_type": "markdown",
   "metadata": {},
   "source": [
    "Defining re-usable method to split matrix $A$ into sum of three matrices $L$, $D$ and $U$."
   ]
  },
  {
   "cell_type": "code",
   "execution_count": 2,
   "metadata": {},
   "outputs": [],
   "source": [
    "def LDU_decomp(M):\n",
    "    L = np.tril(M, -1)\n",
    "    U = np.triu(M, 1)\n",
    "    D = np.diag(np.diag(M))\n",
    "    \n",
    "    return L, D, U"
   ]
  },
  {
   "cell_type": "markdown",
   "metadata": {},
   "source": [
    "## Task (c)\n",
    "\n",
    "Here I have defined single iteration for Jacobi method and overall method to execute Jacobi algorithm for 10 iterations. On each step, we check Euclidian norm to compare old and new solution and determine error $E_k$.\n",
    "\n",
    "Decay rate $dr$ could be found using formula $dr = \\frac{E_k}{E_{k-1}}$. "
   ]
  },
  {
   "cell_type": "code",
   "execution_count": 3,
   "metadata": {},
   "outputs": [],
   "source": [
    "def Jacobi_Iter_Single(Bj, dj, x_old): #single iteration of Jacobi method using pre-calculated matrix Bj and vector dj\n",
    "    x_new = np.dot(Bj, x_old) + dj\n",
    "    return x_new #return of method is new value for x\n",
    "\n",
    "def Jacobi_Iter (L, D, U, b, x0): #method for Jacobi iteration which uses single step method within\n",
    "    Bj = np.dot(-np.linalg.inv(D), (L+U)) #calculating matrix Bj using Jacobi method formula based on L, D and U input\n",
    "    dj = np.dot(np.linalg.inv(D), b) #calculating vector dj using Jacobi method formula based on D and b input\n",
    "    x_old = x0 #setting x0 to start with first iteration\n",
    "    E_old = 1 #setting initial value for old error E value\n",
    "    \n",
    "    for i in range(0, 10): #performing 10 iterations for Jacobi method\n",
    "        x_new = Jacobi_Iter_Single(Bj, dj, x_old) #calling single step method to calculate new value for x\n",
    "        E = np.linalg.norm(x_new - x_old) #calculating error between old and new values of x using Euclidian norm\n",
    "        dr = E/E_old #calculating decay rate dr as relation between current and previous steps error\n",
    "        print(\"\\nError E=%.5f\" %E, \"for iteration %s\" %(i+1))\n",
    "        print(\"Decay rate for iteration %s\" %(i+1), \"equal to %.5f\" %dr)\n",
    "        \n",
    "        #updating old values for next iteration \n",
    "        E_old = E\n",
    "        x_old = x_new\n",
    "    return x_new"
   ]
  },
  {
   "cell_type": "code",
   "execution_count": 4,
   "metadata": {},
   "outputs": [
    {
     "name": "stdout",
     "output_type": "stream",
     "text": [
      "Solving system Ax=b using Jacobi method executed for 10 iterations only:\n",
      "\n",
      "Error E=0.70711 for iteration 1\n",
      "Decay rate for iteration 1 equal to 0.70711\n",
      "\n",
      "Error E=0.50000 for iteration 2\n",
      "Decay rate for iteration 2 equal to 0.70711\n",
      "\n",
      "Error E=0.35355 for iteration 3\n",
      "Decay rate for iteration 3 equal to 0.70711\n",
      "\n",
      "Error E=0.25000 for iteration 4\n",
      "Decay rate for iteration 4 equal to 0.70711\n",
      "\n",
      "Error E=0.17678 for iteration 5\n",
      "Decay rate for iteration 5 equal to 0.70711\n",
      "\n",
      "Error E=0.12500 for iteration 6\n",
      "Decay rate for iteration 6 equal to 0.70711\n",
      "\n",
      "Error E=0.08839 for iteration 7\n",
      "Decay rate for iteration 7 equal to 0.70711\n",
      "\n",
      "Error E=0.06250 for iteration 8\n",
      "Decay rate for iteration 8 equal to 0.70711\n",
      "\n",
      "Error E=0.04419 for iteration 9\n",
      "Decay rate for iteration 9 equal to 0.70711\n",
      "\n",
      "Error E=0.03125 for iteration 10\n",
      "Decay rate for iteration 10 equal to 0.70711\n",
      "\n",
      "Solution for system Ax=b is x=[0.96875 0.96875 0.96875]\n",
      "Solution residual is 0.05413\n",
      "\n",
      "Spectral radius p(Bj)=1/sqrt(2)= 0.70711\n"
     ]
    }
   ],
   "source": [
    "A = np.array([[2, -1, 0], [-1, 2, -1], [0, -1, 2]]) #setting given matrix A\n",
    "b=np.array([1, 0, 1]) #setting given vector b\n",
    "x0=np.array([0, 0, 0]) #setting given starting vector x0 \n",
    "\n",
    "L, D, U = LDU_decomp(A) #retriving L, D and U matrices\n",
    "\n",
    "print(\"Solving system Ax=b using Jacobi method executed for 10 iterations only:\")\n",
    "solution = Jacobi_Iter(L, D, U, b, x0)\n",
    "print(\"\\nSolution for system Ax=b is x=%s\" %solution.round(5)) #solution found using Jacobi method\n",
    "print(\"Solution residual is %.5f\" %np.linalg.norm([1, 1, 1]-solution))\n",
    "print(\"\\nSpectral radius p(Bj)=1/sqrt(2)= %.5f\" %(1/np.sqrt(2))) #printing spectral radius of Bj for convinience"
   ]
  },
  {
   "cell_type": "markdown",
   "metadata": {},
   "source": [
    "For Jacobi method decay rate dr equal to spectral radius $p(B_j)$ which is largest in absolute eigenvalue of matrix $B_j$. Sceptral radius $p(B_j)$ was calcualted in companion PDF file."
   ]
  },
  {
   "cell_type": "markdown",
   "metadata": {},
   "source": [
    "## Task(d)\n",
    "\n",
    "Here I have defined single iteration for Gauss-Seidel (GS) method and overall method to execute GS algorithm for 10 iterations. On each step, we check Euclidian norm to compare old and new solution and determine error $E_k$.\n",
    "\n",
    "Decay rate $dr$ could be found using formula $dr = \\frac{E_k}{E_{k-1}}$. "
   ]
  },
  {
   "cell_type": "code",
   "execution_count": 5,
   "metadata": {},
   "outputs": [],
   "source": [
    "def GS_Iter_Single(Bgs, dgs, x_old): #single iteration of GS method using pre-calculated matrix Bgs and vector dgs\n",
    "    x_new = np.dot(Bgs, x_old) + dgs\n",
    "    return x_new #return of method is new value for x\n",
    "\n",
    "def GS_Iter (L, D, U, b, x0): #method for GS iteration which uses single step method within\n",
    "    Bgs = np.dot(-np.linalg.inv(L+D), U) #calculating matrix Bgs using GS method formula based on L, D and U input\n",
    "    dgs = np.dot(np.linalg.inv(L+D), b) #calculating vector dgs using GS method formula based on L, D and b input\n",
    "    x_old = x0 #setting x0 to start with first iteration\n",
    "    E_old = 1 #setting initial value for old error E value\n",
    "    \n",
    "    for i in range(0, 10): #performing 10 iterations for GS method\n",
    "        x_new = GS_Iter_Single(Bgs, dgs, x_old) #calling single step method to calculate new value for x\n",
    "        E = np.linalg.norm(x_new - x_old) #calculating error between old and new values of x using Euclidian norm\n",
    "        dr = E/E_old #calculating decay rate dr as relation between current and previous steps error\n",
    "        print(\"\\nError E=%.5f\" %E, \"for iteration %s\" %(i+1))\n",
    "        print(\"Decay rate for iteration %s\" %(i+1), \"equal to %.5f\" %dr)\n",
    "        \n",
    "        #updating old values for next iteration \n",
    "        E_old = E\n",
    "        x_old = x_new\n",
    "    return x_new"
   ]
  },
  {
   "cell_type": "code",
   "execution_count": 6,
   "metadata": {
    "scrolled": false
   },
   "outputs": [
    {
     "name": "stdout",
     "output_type": "stream",
     "text": [
      "Solving system Ax=b using Gauss-Seidel method executed for 10 iterations only:\n",
      "\n",
      "Error E=0.83853 for iteration 1\n",
      "Decay rate for iteration 1 equal to 0.83853\n",
      "\n",
      "Error E=0.43750 for iteration 2\n",
      "Decay rate for iteration 2 equal to 0.52175\n",
      "\n",
      "Error E=0.28125 for iteration 3\n",
      "Decay rate for iteration 3 equal to 0.64286\n",
      "\n",
      "Error E=0.14062 for iteration 4\n",
      "Decay rate for iteration 4 equal to 0.50000\n",
      "\n",
      "Error E=0.07031 for iteration 5\n",
      "Decay rate for iteration 5 equal to 0.50000\n",
      "\n",
      "Error E=0.03516 for iteration 6\n",
      "Decay rate for iteration 6 equal to 0.50000\n",
      "\n",
      "Error E=0.01758 for iteration 7\n",
      "Decay rate for iteration 7 equal to 0.50000\n",
      "\n",
      "Error E=0.00879 for iteration 8\n",
      "Decay rate for iteration 8 equal to 0.50000\n",
      "\n",
      "Error E=0.00439 for iteration 9\n",
      "Decay rate for iteration 9 equal to 0.50000\n",
      "\n",
      "Error E=0.00220 for iteration 10\n",
      "Decay rate for iteration 10 equal to 0.50000\n",
      "\n",
      "Solution for system Ax=b is x=[0.99854 0.99854 0.99927]\n",
      "Solution residual is 0.00220\n",
      "\n",
      "Spectral radius p(Bgs)=1/2= 0.50000\n"
     ]
    }
   ],
   "source": [
    "A = np.array([[2, -1, 0], [-1, 2, -1], [0, -1, 2]]) #setting given matrix A\n",
    "b=np.array([1, 0, 1]) #setting given vector b\n",
    "x0=np.array([0, 0, 0]) #setting given starting vector x0 \n",
    "\n",
    "L, D, U = LDU_decomp(A) #retriving L, D and U matrices\n",
    "\n",
    "print(\"Solving system Ax=b using Gauss-Seidel method executed for 10 iterations only:\")\n",
    "solution = GS_Iter(L, D, U, b, x0)\n",
    "print(\"\\nSolution for system Ax=b is x=%s\" %solution.round(5)) #solution found using GS method\n",
    "print(\"Solution residual is %.5f\" %np.linalg.norm([1, 1, 1]-solution))\n",
    "print(\"\\nSpectral radius p(Bgs)=1/2= %.5f\" %(1/2)) #printing spectral radius of Bgs for convinience"
   ]
  },
  {
   "cell_type": "markdown",
   "metadata": {},
   "source": [
    "For Gauss-Seidel (GS) method decay rate dr equal to spectral radius $p(B_{GS})$ which is largest in absolute eigenvalue of matrix $B_{GS}$. But this happens only from 4th iteration onwards. Till iteration 4, decay rate fluctuates around value 0.5 and eventually converges to it. From decay rate we could judge that overall convergens speed for GS method is higher that for Jacobi under same conditions. Spectral radius $p(B_{GS})=\\frac{1}{2}$ calculated in companion PDF file.\n",
    "\n",
    "Also worth to mentioned that solution retrieved by GS method is closer to true value after 10 iterations compare to Jacobi method."
   ]
  },
  {
   "cell_type": "markdown",
   "metadata": {},
   "source": [
    "## Task (e)"
   ]
  },
  {
   "cell_type": "markdown",
   "metadata": {},
   "source": [
    "Here I have defined single iteration for successive overrelaxation (SOR) method and overall method to execute SOR algorithm for 10 iterations. On each step, we check Euclidian norm to compare old and new solution and determine error $E_k$.\n",
    "\n",
    "Decay rate $dr$ could be found using formula $dr = \\frac{E_k}{E_{k-1}}$. "
   ]
  },
  {
   "cell_type": "code",
   "execution_count": 7,
   "metadata": {},
   "outputs": [],
   "source": [
    "def SOR_Iter_Single(Bsor, dsor, x_old): #single iteration of SOR method using pre-calculated matrix Bsor and vector dsor\n",
    "    x_new = np.dot(Bsor, x_old) + dsor\n",
    "    return x_new #return of method is new value for x\n",
    "\n",
    "def SOR_Iter (L, D, U, b, x0, w): #method for SOR iteration which uses single step method within\n",
    "    Bsor = np.dot(np.linalg.inv(w*L+D), ((1-w)*D-w*U)) #calculating matrix Bsor using SOR method formula based on L, D, U and w input\n",
    "    dsor = w*np.dot(np.linalg.inv(w*L+D), b) #calculating vector dsor using SOR method formula based on L, D, b and w input\n",
    "    x_old = x0 #setting x0 to start with first iteration\n",
    "    E_old = 1 #setting initial value for old error E value\n",
    "    sr,_ = np.linalg.eig(Bsor)\n",
    "    sr = sr.max()\n",
    "    \n",
    "    for i in range(0, 10): #performing 10 iterations for SOR method\n",
    "        x_new = SOR_Iter_Single(Bsor, dsor, x_old) #calling single step method to calculate new value for x\n",
    "        E = np.linalg.norm(x_new - x_old) #calculating error between old and new values of x using Euclidian norm\n",
    "        dr = E/E_old #calculating decay rate dr as relation between current and previous steps error\n",
    "        print(\"\\nError E=%.5f\" %E, \"for iteration %s\" %(i+1))\n",
    "        print(\"Decay rate for iteration %s\" %(i+1), \"equal to %.5f\" %dr)\n",
    "        \n",
    "        #updating old values for next iteration \n",
    "        E_old = E\n",
    "        x_old = x_new\n",
    "    \n",
    "    return x_new, sr"
   ]
  },
  {
   "cell_type": "code",
   "execution_count": 8,
   "metadata": {},
   "outputs": [
    {
     "name": "stdout",
     "output_type": "stream",
     "text": [
      "Solving system Ax=b using successive overrelaxation method executed for 10 iterations only:\n",
      "Solving system with w=0.1\n",
      "\n",
      "Error E=0.07084 for iteration 1\n",
      "Decay rate for iteration 1 equal to 0.07084\n",
      "\n",
      "Error E=0.06444 for iteration 2\n",
      "Decay rate for iteration 2 equal to 0.90959\n",
      "\n",
      "Error E=0.05924 for iteration 3\n",
      "Decay rate for iteration 3 equal to 0.91928\n",
      "\n",
      "Error E=0.05499 for iteration 4\n",
      "Decay rate for iteration 4 equal to 0.92827\n",
      "\n",
      "Error E=0.05148 for iteration 5\n",
      "Decay rate for iteration 5 equal to 0.93629\n",
      "\n",
      "Error E=0.04856 for iteration 6\n",
      "Decay rate for iteration 6 equal to 0.94320\n",
      "\n",
      "Error E=0.04608 for iteration 7\n",
      "Decay rate for iteration 7 equal to 0.94898\n",
      "\n",
      "Error E=0.04395 for iteration 8\n",
      "Decay rate for iteration 8 equal to 0.95368\n",
      "\n",
      "Error E=0.04208 for iteration 9\n",
      "Decay rate for iteration 9 equal to 0.95743\n",
      "\n",
      "Error E=0.04041 for iteration 10\n",
      "Decay rate for iteration 10 equal to 0.96037\n",
      "\n",
      "Solution for system Ax=b is x=[0.34608 0.14725 0.3514 ]\n",
      "Solution residual is 1.25518\n",
      "\n",
      "Spectral radius for Bsor is p(Bsor)=0.96963 \n",
      "\n",
      "Solving system with w=1.1\n",
      "\n",
      "Error E=0.95247 for iteration 1\n",
      "Decay rate for iteration 1 equal to 0.95247\n",
      "\n",
      "Error E=0.46832 for iteration 2\n",
      "Decay rate for iteration 2 equal to 0.49169\n",
      "\n",
      "Error E=0.28992 for iteration 3\n",
      "Decay rate for iteration 3 equal to 0.61906\n",
      "\n",
      "Error E=0.09948 for iteration 4\n",
      "Decay rate for iteration 4 equal to 0.34312\n",
      "\n",
      "Error E=0.03877 for iteration 5\n",
      "Decay rate for iteration 5 equal to 0.38969\n",
      "\n",
      "Error E=0.01457 for iteration 6\n",
      "Decay rate for iteration 6 equal to 0.37578\n",
      "\n",
      "Error E=0.00553 for iteration 7\n",
      "Decay rate for iteration 7 equal to 0.37933\n",
      "\n",
      "Error E=0.00209 for iteration 8\n",
      "Decay rate for iteration 8 equal to 0.37839\n",
      "\n",
      "Error E=0.00079 for iteration 9\n",
      "Decay rate for iteration 9 equal to 0.37864\n",
      "\n",
      "Error E=0.00030 for iteration 10\n",
      "Decay rate for iteration 10 equal to 0.37857\n",
      "\n",
      "Solution for system Ax=b is x=[0.99987 0.99988 0.99995]\n",
      "Solution residual is 0.00018\n",
      "\n",
      "Spectral radius for Bsor is p(Bsor)=0.37859 \n",
      "\n"
     ]
    }
   ],
   "source": [
    "A = np.array([[2, -1, 0], [-1, 2, -1], [0, -1, 2]]) #setting given matrix A\n",
    "b=np.array([1, 0, 1]) #setting given vector b\n",
    "x0=np.array([0, 0, 0]) #setting given starting vector x0 \n",
    "ws=[0.1, 1.1] #setting list of given w values\n",
    "\n",
    "L, D, U = LDU_decomp(A) #retriving L, D and U matrices\n",
    "\n",
    "print(\"Solving system Ax=b using successive overrelaxation method executed for 10 iterations only:\")\n",
    "for w in ws:\n",
    "    print(\"Solving system with w=%s\" %w)\n",
    "    solution, sr = SOR_Iter(L, D, U, b, x0, w)\n",
    "    print(\"\\nSolution for system Ax=b is x=%s\" %solution.round(5)) #solution found using GS method\n",
    "    print(\"Solution residual is %.5f\" %np.linalg.norm([1, 1, 1]-solution))\n",
    "    print(\"\\nSpectral radius for Bsor is p(Bsor)=%.5f\" %sr, \"\\n\")"
   ]
  },
  {
   "cell_type": "markdown",
   "metadata": {},
   "source": [
    "For successive overrelaxation (SOR) method decay rate dr equal to spectral radius $p(B_{SOR})$ which is largest in absolute eigenvalue of matrix $B_{SOR}$. Since I did not found this value manually in companion PDF file, I have used built-in function to find it. \n",
    "\n",
    "With $w=0.1$ convergence speed is slow, that is why solution found is quite far away from true value. This is indicated by respective norm. Also convergence speed is low because spectral radius is close to 1, it means with each iteration we have very minor improvement. We could notice it by observing respective errors. Finally, decay rate converges to spectral radius of $p(B_{SOR})$ only on iteration 10. So eventually system will be solved with $w=0.1$, but not within 10 iterations.\n",
    "\n",
    "For $w=1.1$ convergence speed is high. We could observe, that decay rate converges to spectral radius of $p(B_{SOR})$. But this happens only from 4th iteration onwards. Till iteration 4, decay rate fluctuates and eventually converges to spectral radius. From decay rate we could judge that overall convergens speed for SOR method is higher that for Jacobi and Gauss-Seidel methods under same conditions $p(B_{SOR})<p(B_{GS})<p(B_j)$. Also, worth to mentioned that solution retrieved by SOR method with $w=1.1$ is closer to true value after 10 iterations compare to Jacobi and GS methods.\n",
    "\n",
    "Successive overrelaxation (SOR) method has higher convergence speed compare to previous methods with $w>1$ "
   ]
  },
  {
   "cell_type": "markdown",
   "metadata": {},
   "source": [
    "# Problem 2"
   ]
  },
  {
   "cell_type": "markdown",
   "metadata": {},
   "source": [
    "Defining auxilary mthod to create column vector from row vector."
   ]
  },
  {
   "cell_type": "code",
   "execution_count": 9,
   "metadata": {},
   "outputs": [],
   "source": [
    "def colvec(rowvec):\n",
    "    v = np.asarray(rowvec)\n",
    "    return v.reshape(v.size,1)"
   ]
  },
  {
   "cell_type": "markdown",
   "metadata": {},
   "source": [
    "## Task (c)\n",
    "Here I defined iteration scheme for Jacobi method using formula I have written down in companion PDF file under Task (b) and test it for four different $\\alpha$ from convergence interval $\\alpha \\in (-\\infty; -3) \\cup (1; \\infty)$. I choose two values from each sides. "
   ]
  },
  {
   "cell_type": "code",
   "execution_count": 34,
   "metadata": {},
   "outputs": [],
   "source": [
    "def Jacobi_Alpha(x0, acc, alpha, u): #method to execute Jacobi method using formula I have write down in PDF Task (b)\n",
    "    x_old = x0\n",
    "    iter = 0\n",
    "    \n",
    "    while True: #execute iteration until accuracy achieved\n",
    "\n",
    "        x_new = (1/(alpha+1))*(np.dot((-colvec(u)*u+np.identity(3)), x_old) + u) #formula written in Task (b)\n",
    "        if (np.linalg.norm(x_new - x_old) < acc): #stop execution if accuracy achieved - difference between new and old value less that accuracy\n",
    "            print(\"Solution found in %s\" %(iter+1), \"iterations with accuracy %.3f\" %acc)\n",
    "            print(\"Solution is %s\" %x_new.round(5))\n",
    "            break\n",
    "        iter += 1\n",
    "        x_old = x_new"
   ]
  },
  {
   "cell_type": "code",
   "execution_count": 35,
   "metadata": {
    "scrolled": true
   },
   "outputs": [
    {
     "name": "stdout",
     "output_type": "stream",
     "text": [
      "Solving system Ax=b using Jacobi method executed untill accuracy 0.001 achieved:\n",
      "\n",
      "Solving for alpha = 2\n",
      "Solution found in 17 iterations with accuracy 0.001\n",
      "Solution is [ 0.2002 -0.2002  0.2002]\n",
      "\n",
      "Solving for alpha = -4\n",
      "Solution found in 17 iterations with accuracy 0.001\n",
      "Solution is [-0.99899  0.99899 -0.99899]\n",
      "\n",
      "Solving for alpha = 5\n",
      "Solution found in 7 iterations with accuracy 0.001\n",
      "Solution is [ 0.12506 -0.12506  0.12506]\n",
      "\n",
      "Solving for alpha = -7\n",
      "Solution found in 7 iterations with accuracy 0.001\n",
      "Solution is [-0.24989  0.24989 -0.24989]\n"
     ]
    }
   ],
   "source": [
    "u=np.array([1, -1, 1]) #setting vector u\n",
    "x0=np.array([0, 0, 0]) #setting x0 vector\n",
    "alphas = [2, -4, 5, -7] #list of possible alpha values\n",
    "acc = 0.001 #setting accuracy\n",
    "\n",
    "print(\"Solving system Ax=b using Jacobi method executed untill accuracy %.3f achieved:\" %acc)\n",
    "for alpha in alphas: #solving system with different values of alpha\n",
    "    print(\"\\nSolving for alpha = %.0f\" %alpha)\n",
    "    Jacobi_Alpha(x0, acc, alpha, u)"
   ]
  },
  {
   "cell_type": "markdown",
   "metadata": {},
   "source": [
    "From result of Jacobi method we could see that it converges faster when $\\alpha$ is further from edge of convergence range $\\alpha \\in (-\\infty; -3) \\cup (1; \\infty)$. So that, the bigger difference between the faster solution will be found. You could spot that with $\\alpha=2$ or $\\alpha=-4$ it needs 17 iterations, but with 5 and -7 number of iterations become more than twise less - just 7.\n",
    "\n",
    "Also, formula I have written down in Task (b) is applicable and works properly."
   ]
  },
  {
   "cell_type": "markdown",
   "metadata": {},
   "source": [
    "## Task (d)\n",
    "Here I have defined iteration scheme for Gauss-Seidel method using formula I have written in Task (b) in companion PDF file. I test it with four different $\\alpha$ from convergence interval $\\alpha \\in (-\\infty; -3) \\cup (1; \\infty)$. I choose two values from each sides."
   ]
  },
  {
   "cell_type": "code",
   "execution_count": 51,
   "metadata": {},
   "outputs": [],
   "source": [
    "def GS_Alpha(x0, acc, alpha): #iteration method for Gass-Seidel\n",
    "    x_old = x0\n",
    "    iter = 0\n",
    "    Bgs =  -1 * np.array([[0, -(alpha+1)**2, (alpha+1)**2], #writting down matrix Bgs as in Task (b) dependent from alpha value\n",
    "                                       [0, -(alpha+1), (alpha+1)-(alpha+1)**2], \n",
    "                                       [0, alpha, -2*alpha-1]])\n",
    "    \n",
    "    dgs=np.array([[(alpha+1)**2], [(alpha+1)-(alpha+1)**2], [-2*alpha-1+(alpha+1)**2]]) #same with dgs - writting it down as in Task(b) depending on alpha\n",
    "    \n",
    "    while True: #execute till accuracy achieved\n",
    "        \n",
    "        x_new = (1/(alpha+1)**3)*(np.dot(Bgs, colvec(x_old))+dgs) #calculating new value for x using formula from Taks (b)\n",
    "        if (np.linalg.norm(x_new - x_old) < acc): #if accuracy achieved stop execution - difference between new and old values less than accuracy\n",
    "            print(\"Solution found in %s\" %(iter+1), \"with accuracy %.3f\" %acc)\n",
    "            print(\"Solution is %s\" %x_new.T.round(5))\n",
    "            break\n",
    "        iter += 1\n",
    "        x_old = x_new"
   ]
  },
  {
   "cell_type": "code",
   "execution_count": 55,
   "metadata": {
    "scrolled": true
   },
   "outputs": [
    {
     "name": "stdout",
     "output_type": "stream",
     "text": [
      "Solving system Ax=b using Gauss-Seidel method executed untill accuracy 0.001 achieved:\n",
      "\n",
      "Solving for alpha = 2\n",
      "Solution found in 5 with accuracy 0.001\n",
      "Solution is [[ 0.19979 -0.20002  0.20007]]\n",
      "\n",
      "Solving for alpha = -4\n",
      "Solution found in 10 with accuracy 0.001\n",
      "Solution is [[-0.99944  0.99957 -0.99967]]\n",
      "\n",
      "Solving for alpha = 5\n",
      "Solution found in 4 with accuracy 0.001\n",
      "Solution is [[ 0.12498 -0.125    0.125  ]]\n",
      "\n",
      "Solving for alpha = -7\n",
      "Solution found in 5 with accuracy 0.001\n",
      "Solution is [[-0.24998  0.24999 -0.24999]]\n"
     ]
    }
   ],
   "source": [
    "x0=np.array([0, 0, 0]) #setting initial x0\n",
    "alphas = [2, -4, 5, -7] #list possible values of alpha\n",
    "acc = 0.001 #setting accuracy\n",
    "\n",
    "print(\"Solving system Ax=b using Gauss-Seidel method executed untill accuracy %.3f achieved:\" %acc)\n",
    "for alpha in alphas: #solving system with different values of alpha\n",
    "    print(\"\\nSolving for alpha = %.0f\" %alpha)\n",
    "    GS_Alpha(x0, acc, alpha)"
   ]
  },
  {
   "cell_type": "markdown",
   "metadata": {},
   "source": [
    "From result of this method execution we could see that GS method converges faster than Jacobi method. For same values of $\\alpha$ we need less amount of iterations. Intresting observation - this method converges faster for positive values of $\\alpha$ than for negative. For example 2 and -4 are equaly away from edges of converges interval $\\alpha \\in (-\\infty; -3) \\cup (1; \\infty)$, but method able to find correct solution with 2 times less iterations. Also, same as with Jacobi, the bigger difference between $\\alpha$ and edge of interval the faster method will converge to true solution value."
   ]
  },
  {
   "cell_type": "markdown",
   "metadata": {},
   "source": [
    "## Task (e)\n",
    "Here I have defined iteration scheme for successive overrelaxation (SOR) method using usuall formula and performing decomposition of $A$ nto $L$, $D$ and $U$. I test it with four different $\\alpha$ from convergence interval $\\alpha \\in (-\\infty; -3) \\cup (1; \\infty)$. I choose two values from each sides."
   ]
  },
  {
   "cell_type": "code",
   "execution_count": 67,
   "metadata": {},
   "outputs": [],
   "source": [
    "def SOR_Iter_Single(Bsor, dsor, x_old): #single iteration method for SOR\n",
    "    x_new = np.dot(Bsor, x_old) + dsor\n",
    "    return x_new\n",
    "\n",
    "def SOR_Iter (L, D, U, b, x0, w): #iteration method for SOR using single method within\n",
    "    Bsor = np.dot(np.linalg.inv(w*L+D), ((1-w)*D-w*U)) #calculatin matrix Bsor using usual formula\n",
    "    dsor = w*np.dot(np.linalg.inv(w*L+D), b) #calculatin vector dsor as per usual formula\n",
    "    x_old = x0\n",
    "    iter = 0\n",
    "    \n",
    "    while True: #iterating over untill accuracy achieved - difference between new and old value les than accuracy\n",
    "        x_new = SOR_Iter_Single(Bsor, dsor, x_old) #calculating new value for x\n",
    "        if (np.linalg.norm(x_new - x_old) < acc): #stop eecution when accuracy achieved\n",
    "            print(\"Solution found in %s\" %(iter+1), \"with accuracy %.3f\" %acc)\n",
    "            print(\"Solution is %s\" %x_new.T.round(5))\n",
    "            break\n",
    "        iter += 1 #updating old values\n",
    "        x_old = x_new"
   ]
  },
  {
   "cell_type": "code",
   "execution_count": 68,
   "metadata": {},
   "outputs": [
    {
     "name": "stdout",
     "output_type": "stream",
     "text": [
      "Solving system Ax=b using successive overrelaxation method executed untill accuracy 0.001 achieved:\n",
      "\n",
      "Solving for w=0.1 and alpha = 2\n",
      "Solution found in 24 with accuracy 0.001\n",
      "Solution is [ 0.19907 -0.19708  0.19508]\n",
      "\n",
      "Solving for w=0.1 and alpha = -4\n",
      "Solution found in 118 with accuracy 0.001\n",
      "Solution is [-0.98392  0.9841  -0.98429]\n",
      "\n",
      "Solving for w=0.1 and alpha = 5\n",
      "Solution found in 25 with accuracy 0.001\n",
      "Solution is [ 0.12176 -0.12128  0.1208 ]\n",
      "\n",
      "Solving for w=0.1 and alpha = -7\n",
      "Solution found in 50 with accuracy 0.001\n",
      "Solution is [-0.24237  0.24253 -0.24269]\n",
      "\n",
      "Solving for w=1.1 and alpha = 2\n",
      "Solution found in 5 with accuracy 0.001\n",
      "Solution is [ 0.20026 -0.19994  0.19991]\n",
      "\n",
      "Solving for w=1.1 and alpha = -4\n",
      "Solution found in 8 with accuracy 0.001\n",
      "Solution is [-0.99973  0.99981 -0.99987]\n",
      "\n",
      "Solving for w=1.1 and alpha = 5\n",
      "Solution found in 4 with accuracy 0.001\n",
      "Solution is [ 0.12507 -0.12508  0.125  ]\n",
      "\n",
      "Solving for w=1.1 and alpha = -7\n",
      "Solution found in 4 with accuracy 0.001\n",
      "Solution is [-0.24988  0.25001 -0.24998]\n"
     ]
    }
   ],
   "source": [
    "b=np.array([1, -1, 1]) #setting value of b\n",
    "x0=np.array([0, 0, 0]) #setting initial value of x0\n",
    "ws=[0.1, 1.1] #list possible values of w\n",
    "alphas = [2, -4, 5, -7] #list possible values of alpha\n",
    "acc = 0.001 #setting accuracy\n",
    "\n",
    "print(\"Solving system Ax=b using successive overrelaxation method executed untill accuracy %.3f achieved:\" %acc)\n",
    "for w in ws: #execute for each value of w\n",
    "    for alpha in alphas: #execute for each value of alpha\n",
    "        print(\"\\nSolving for w=%.1f\" %w, \"and alpha = %.0f\" %alpha)\n",
    "        A = np.array([[alpha+1, -1, 1], [-1, alpha+1, -1], [1, -1, alpha+1]]) #calculatin matrix A ase don alpha\n",
    "\n",
    "        L, D, U = LDU_decomp(A) #decompose A into L, D and U\n",
    "\n",
    "        SOR_Iter(L, D, U, b, x0, w) #execute SOR method"
   ]
  },
  {
   "cell_type": "markdown",
   "metadata": {},
   "source": [
    "From result of this method execution we could see that successive overrelaxation method converges faster than Jacobi and Gauss-Seidel method when $w>1$ - for same values of $\\alpha$ we need less amount of iterations. Otherwise speed of convergence is slower as we could see with $w=0.1$.  Intresting observation - this method converges faster for positive values of $\\alpha$ than for negative. For example 2 and -4 are equaly away from edges of converges interval $\\alpha \\in (-\\infty; -3) \\cup (1; \\infty)$, but method able to find correct solution with 2 times less iterations. Also, same as with previous methods, the bigger difference between $\\alpha$ and edge of interval the faster method will converge to true solution value."
   ]
  },
  {
   "cell_type": "markdown",
   "metadata": {},
   "source": [
    "# Problem 3"
   ]
  },
  {
   "cell_type": "markdown",
   "metadata": {},
   "source": [
    "Here I have defined iteration algorithm for Conjugate Gradient method (CGM)."
   ]
  },
  {
   "cell_type": "code",
   "execution_count": 85,
   "metadata": {},
   "outputs": [],
   "source": [
    "def CGM(b, A, x0, acc): #iteratin algorithm for CGM\n",
    "    \n",
    "    x_old=x0#setting initial value for x0\n",
    "    r0 = b-np.dot(A, x_old) #setting value for residual r0\n",
    "    r_old=r0 #set initial residual and conjugate gradient values\n",
    "    p_old=r0\n",
    "    iter=0\n",
    "    \n",
    "    while True: #execute method until accuracy achieved\n",
    "        print(\"\\nIteration number %s\" %(iter+1))\n",
    "        alpha_k=(np.dot(np.transpose(r_old), r_old))/(np.dot(np.transpose(p_old),np.dot(A, p_old))) #calculating new alpha_k for current step as per CGM formula\n",
    "        x_new = x_old + np.dot(alpha_k, p_old) #calculating new value for x based on value of alpha_k calcualted above\n",
    "        print(\"Conjugate gradient is p=%s\" %p_old.round(5)) #printing out conjugate gradient of current iteration\n",
    "        r_new = r_old - alpha_k*np.dot(A, p_old) #calculating new residual\n",
    "        if (np.linalg.norm(r_new) < acc): #check if norm of new residual is less than accuracy\n",
    "            print(\"\\nSolution is %s\" %x_new, \"found in %s\" %(iter+1), \"iterations\")\n",
    "            break\n",
    "        beta = (np.dot(np.transpose(r_new), r_new))/(np.dot(np.transpose(r_old), r_old)) #calculating value for beta\n",
    "        p_new = r_new + np.dot(beta, p_old) #calculating new conjugate gradient to be used on next step\n",
    "        iter+=1 \n",
    "        x_old=x_new #updating old values for next iteration\n",
    "        r_old=r_new\n",
    "        p_old=p_new\n"
   ]
  },
  {
   "cell_type": "markdown",
   "metadata": {},
   "source": [
    "## Task(a)"
   ]
  },
  {
   "cell_type": "markdown",
   "metadata": {},
   "source": [
    "Using CGM defined above solving system given by $A=\\begin{pmatrix}2 & -1 & 0 \\\\ -1 & 2 & -1 \\\\ 0 & -1 & 2\n",
    "\t\\end{pmatrix}$ and $b=\\begin{pmatrix} \t1 \\\\ 0 \\\\ 1  \\end{pmatrix}$"
   ]
  },
  {
   "cell_type": "code",
   "execution_count": 86,
   "metadata": {},
   "outputs": [
    {
     "name": "stdout",
     "output_type": "stream",
     "text": [
      "Solving system Ax=b from Problem 1 using conjugate gradient method executed untill accuracy 0.001 achieved:\n",
      "\n",
      "Iteration number 1\n",
      "Conjugate gradient is p=[1 0 1]\n",
      "\n",
      "Iteration number 2\n",
      "Conjugate gradient is p=[0.5 1.  0.5]\n",
      "\n",
      "Solution is [1. 1. 1.] found in 2 iterations\n"
     ]
    }
   ],
   "source": [
    "A = np.array([[2, -1, 0], [-1, 2, -1], [0, -1, 2]]) #setting matrix A as in Problem 1\n",
    "b=np.array([1, 0, 1]) #setting vector b\n",
    "x0=np.array([0, 0, 0]) #setting initial value for x0\n",
    "acc = 0.001 #setting accuracy.\n",
    "\n",
    "print(\"Solving system Ax=b from Problem 1 using conjugate gradient method executed untill accuracy %.3f achieved:\" %acc)\n",
    "CGM(b, A, x0, acc) #executing CGM "
   ]
  },
  {
   "cell_type": "markdown",
   "metadata": {},
   "source": [
    "Conjugate gradient method converges to true solution very fast and with high precission. It only needs two iterations with conjugate gradients $p_1=\\begin{pmatrix} \t1 \\\\ 0 \\\\ 1  \\end{pmatrix}$ and $p_2=\\begin{pmatrix} \t1/2 \\\\ 1 \\\\ 1/2  \\end{pmatrix}$ to find a solution with given accuracy."
   ]
  },
  {
   "cell_type": "markdown",
   "metadata": {},
   "source": [
    "## Task (b)"
   ]
  },
  {
   "cell_type": "markdown",
   "metadata": {},
   "source": [
    "Using CGM defined above solving system given by $A=\\begin{pmatrix}\\alpha+1 & -1 & 1 \\\\ -1 & \\alpha+1 & -1 \\\\ 1 & -1 & \\alpha+1\n",
    "\t\\end{pmatrix}$ and $b=\\begin{pmatrix} \t1 \\\\ 0 \\\\ 1  \\end{pmatrix}$"
   ]
  },
  {
   "cell_type": "code",
   "execution_count": 87,
   "metadata": {
    "scrolled": true
   },
   "outputs": [
    {
     "name": "stdout",
     "output_type": "stream",
     "text": [
      "Solving system Ax=b from Problem 2 using conjugate gradient method executed untill accuracy 0.001 achieved:\n",
      "\n",
      "Iteration number 1\n",
      "Conjugate gradient is p=[1 0 1]\n",
      "\n",
      "Iteration number 2\n",
      "Conjugate gradient is p=[0.22222 0.66667 0.22222]\n",
      "\n",
      "Solution is [0.5 0.5 0.5] found in 2 iterations\n"
     ]
    }
   ],
   "source": [
    "alpha=1 #setting value for alpha \n",
    "A = np.array([[alpha+1, -1, 1], [-1, alpha+1, -1], [1, -1, alpha+1]]) #setting matrix A as in Problem 2\n",
    "b=np.array([1, 0, 1]) #setting vector b\n",
    "x0=np.array([0, 0, 0]) #setting initial value for x0\n",
    "acc = 0.001 #setting accuracy.\n",
    "  \n",
    "print(\"Solving system Ax=b from Problem 2 using conjugate gradient method executed untill accuracy %.3f achieved:\" %acc)    \n",
    "CGM(b, A, x0, acc)"
   ]
  },
  {
   "cell_type": "markdown",
   "metadata": {},
   "source": [
    "Again, conjugate gradient method was able to find solution within 2 iterations and with hih precission. Conjugate gradients are $p_1=\\begin{pmatrix} \t1 \\\\ 0 \\\\ 1  \\end{pmatrix}$  and $p_2=\\begin{pmatrix} \t2/9 \\\\ 2/3 \\\\ 2/9  \\end{pmatrix}$"
   ]
  },
  {
   "cell_type": "markdown",
   "metadata": {},
   "source": [
    "# Problem 4"
   ]
  },
  {
   "cell_type": "markdown",
   "metadata": {},
   "source": [
    "Setting up matrix $A=PDP^{-1}$ for given $D=diag\\{1,2,3,4,5,6,7,8,9,10\\}$ and random matrix $P$ of size $10 \\times 10$."
   ]
  },
  {
   "cell_type": "code",
   "execution_count": null,
   "metadata": {},
   "outputs": [],
   "source": [
    "np.random.seed=7 #setting random seed\n",
    "\n",
    "D = np.diag([1,2,3,4,5,6,7,8,9,10]) #defining matrix D\n",
    "\n",
    "# P = np.random.randint(1, 10, size=(10, 10))\n",
    "P=np.random.rand(10, 10) #creating random matrix P of size 10*10\n",
    "\n",
    "A4 = np.dot(np.dot(P, D),np.linalg.inv(P)) #calculating matrix A"
   ]
  },
  {
   "cell_type": "markdown",
   "metadata": {},
   "source": [
    "## Task (a)"
   ]
  },
  {
   "cell_type": "code",
   "execution_count": null,
   "metadata": {},
   "outputs": [],
   "source": [
    "def power_eigen(A, x0, acc):\n",
    "    x_old=x0\n",
    "    iter=0\n",
    "    alpha_k_old=0\n",
    "    \n",
    "    while True:\n",
    "        alpha_k=np.absolute(x_old).max()\n",
    "        x_new = np.dot(A, x_old)/alpha_k\n",
    "        \n",
    "        if np.linalg.norm(alpha_k-alpha_k_old) < acc:\n",
    "            print(\"Solution found in %s\" %iter, \"iterations\")\n",
    "            print(\"Dominating eigenvalue is %.5f\" %alpha_k)\n",
    "            print(\"Dominating eigenvector is %s\" %((x_new/np.linalg.norm(x_new)).round(4)))\n",
    "            return alpha_k\n",
    "            break\n",
    "            \n",
    "        alpha_k_old=alpha_k\n",
    "        x_old=x_new\n",
    "        iter+=1"
   ]
  },
  {
   "cell_type": "code",
   "execution_count": null,
   "metadata": {
    "scrolled": false
   },
   "outputs": [],
   "source": [
    "np.random.seed=7\n",
    "# x0=np.random.randint(1, A4.shape[0], size=A4.shape[0])\n",
    "x0 = np.random.rand(A4.shape[0])\n",
    "acc=0.0001\n",
    "\n",
    "power_eigen(A4, x0, acc)\n",
    "\n",
    "print(\"Checking result...\")\n",
    "print(\"Maximal eigenvalue via built-in function is \", max(np.linalg.eig(A4)[0]).round(4))"
   ]
  },
  {
   "cell_type": "markdown",
   "metadata": {},
   "source": [
    "## Task (b)"
   ]
  },
  {
   "cell_type": "code",
   "execution_count": null,
   "metadata": {},
   "outputs": [],
   "source": [
    "def inverse_power_eigen(A, mu, x0, acc):\n",
    "    Amu = (A-mu*np.identity(A.shape[0]))\n",
    "    A_inv = np.linalg.inv(Amu)\n",
    "    \n",
    "    lambd_mu = power_eigen(A_inv, x0, acc)\n",
    "    \n",
    "    lambd = (1 + mu*lambd_mu)/lambd_mu\n",
    "    return lambd"
   ]
  },
  {
   "cell_type": "code",
   "execution_count": null,
   "metadata": {
    "scrolled": false
   },
   "outputs": [],
   "source": [
    "np.random.seed=7\n",
    "# mus = [4.8, 6.2, 7.5, 2.5]\n",
    "mus = [8]\n",
    "# x0=np.random.randint(1, A4.shape[0], size=A4.shape[0])\n",
    "x0=np.random.rand(A4.shape[0])\n",
    "acc=0.0001\n",
    "\n",
    "for mu in mus:\n",
    "    print(\"For inversed matrix:\")\n",
    "    res = inverse_power_eigen(A4, mu, x0, acc)\n",
    "    print(\"Closes eigenvector aproximately equal to %.5f\" %res)"
   ]
  },
  {
   "cell_type": "markdown",
   "metadata": {},
   "source": [
    "# Problem 5"
   ]
  },
  {
   "cell_type": "markdown",
   "metadata": {},
   "source": [
    "## Task (a)"
   ]
  },
  {
   "cell_type": "code",
   "execution_count": null,
   "metadata": {},
   "outputs": [],
   "source": [
    "np.random.seed=7\n",
    "\n",
    "D = np.diag([1,2,3,4,5,6,7,8,9,10])\n",
    "\n",
    "# u=np.random.randint(1, D.shape[0], size=D.shape[0])\n",
    "\n",
    "u=np.random.rand(D.shape[0])\n",
    "\n",
    "A5 = D + colvec(u)*u"
   ]
  },
  {
   "cell_type": "code",
   "execution_count": null,
   "metadata": {},
   "outputs": [],
   "source": [
    "def QR_eigens(A, acc):\n",
    "    A_old=A\n",
    "    iter=0\n",
    "    EVcs=np.identity(A.shape[0])\n",
    "    \n",
    "    while True:\n",
    "        Q, R = np.linalg.qr(A_old)\n",
    "        A_new = np.dot(R, Q)\n",
    "        if iter == 0:\n",
    "            EVcs = Q\n",
    "        else:\n",
    "            EVcs = np.dot(EVcs, Q)\n",
    "        \n",
    "        if np.linalg.norm(A_new-A_old) < acc:\n",
    "            print(\"Solution found in %s\" %(iter+1), \"iteration(s) with accuracy %s\" %acc)\n",
    "            print(\"Eigenvalues of matrix A are: \\n %s\" %np.diag(A_new).round(4))\n",
    "            print(\"Eigenvectors are: \\n %s\" %EVcs.round(4))\n",
    "            break\n",
    "        \n",
    "        A_old=A_new\n",
    "        iter+=1"
   ]
  },
  {
   "cell_type": "code",
   "execution_count": null,
   "metadata": {
    "scrolled": false
   },
   "outputs": [],
   "source": [
    "acc=0.0001\n",
    "\n",
    "QR_eigens(A5, acc)"
   ]
  },
  {
   "cell_type": "markdown",
   "metadata": {},
   "source": [
    "## Task (b)\n"
   ]
  },
  {
   "cell_type": "code",
   "execution_count": null,
   "metadata": {},
   "outputs": [],
   "source": [
    "np.random.seed=7\n",
    "x0=np.random.randint(1, A5.shape[0], size=A5.shape[0])\n",
    "acc=0.0001\n",
    "\n",
    "power_eigen(A5, x0, acc)\n"
   ]
  }
 ],
 "metadata": {
  "kernelspec": {
   "display_name": "Python 3",
   "language": "python",
   "name": "python3"
  },
  "language_info": {
   "codemirror_mode": {
    "name": "ipython",
    "version": 3
   },
   "file_extension": ".py",
   "mimetype": "text/x-python",
   "name": "python",
   "nbconvert_exporter": "python",
   "pygments_lexer": "ipython3",
   "version": "3.7.3"
  }
 },
 "nbformat": 4,
 "nbformat_minor": 2
}
