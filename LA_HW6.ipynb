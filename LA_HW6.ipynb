{
 "cells": [
  {
   "cell_type": "code",
   "execution_count": 2,
   "metadata": {},
   "outputs": [],
   "source": [
    "import numpy as np"
   ]
  },
  {
   "cell_type": "markdown",
   "metadata": {},
   "source": [
    "# Problem 1"
   ]
  },
  {
   "cell_type": "markdown",
   "metadata": {},
   "source": [
    "## Task (c)"
   ]
  },
  {
   "cell_type": "code",
   "execution_count": 3,
   "metadata": {},
   "outputs": [],
   "source": [
    "def LDU_matrixes(M):\n",
    "    L = np.tril(M, -1)\n",
    "    U = np.triu(M, 1)\n",
    "    D = np.diag(np.diag(M))\n",
    "    \n",
    "    return L, D, U"
   ]
  },
  {
   "cell_type": "code",
   "execution_count": 4,
   "metadata": {},
   "outputs": [],
   "source": [
    "def Jacobi_Iter_Single(Bj, dj, x_old):\n",
    "    x_new = np.dot(Bj, x_old) + dj\n",
    "    return x_new\n",
    "\n",
    "def Jacobi_Iter (L, D, U, b, x0):\n",
    "    Bj = np.dot(-np.linalg.inv(D), (L+U))\n",
    "    dj = np.dot(np.linalg.inv(D), b)\n",
    "    x_old = x0\n",
    "    \n",
    "    for i in range(0, 10):\n",
    "        x_new = Jacobi_Iter_Single(Bj, dj, x_old)\n",
    "        print(x_new)\n",
    "        print(np.linalg.norm(x_new - x_old))\n",
    "        x_old = x_new"
   ]
  },
  {
   "cell_type": "code",
   "execution_count": 5,
   "metadata": {},
   "outputs": [
    {
     "name": "stdout",
     "output_type": "stream",
     "text": [
      "[0.5 0.  0.5]\n",
      "0.7071067811865476\n",
      "[0.5 0.5 0.5]\n",
      "0.5\n",
      "[0.75 0.5  0.75]\n",
      "0.3535533905932738\n",
      "[0.75 0.75 0.75]\n",
      "0.25\n",
      "[0.875 0.75  0.875]\n",
      "0.1767766952966369\n",
      "[0.875 0.875 0.875]\n",
      "0.125\n",
      "[0.9375 0.875  0.9375]\n",
      "0.08838834764831845\n",
      "[0.9375 0.9375 0.9375]\n",
      "0.0625\n",
      "[0.96875 0.9375  0.96875]\n",
      "0.04419417382415922\n",
      "[0.96875 0.96875 0.96875]\n",
      "0.03125\n"
     ]
    }
   ],
   "source": [
    "A = np.array([[2, -1, 0], [-1, 2, -1], [0, -1, 2]])\n",
    "b=np.array([1, 0, 1])\n",
    "x0=np.array([0, 0, 0])\n",
    "\n",
    "L, D, U = LDU_matrixes(A)\n",
    "\n",
    "Jacobi_Iter(L, D, U, b, x0)\n"
   ]
  },
  {
   "cell_type": "markdown",
   "metadata": {},
   "source": [
    "Jacobi decay rate equals to p(A)**k"
   ]
  },
  {
   "cell_type": "markdown",
   "metadata": {},
   "source": [
    "## Task(d)"
   ]
  },
  {
   "cell_type": "code",
   "execution_count": 226,
   "metadata": {},
   "outputs": [],
   "source": [
    "def GS_Iter_Single(Bgs, dgs, x_old):\n",
    "    x_new = np.dot(Bgs, x_old) + dgs\n",
    "    return x_new\n",
    "\n",
    "def GS_Iter (L, D, U, b, x0):\n",
    "    Bgs = np.dot(-np.linalg.inv(L+D), U)\n",
    "    dgs = np.dot(np.linalg.inv(L+D), b)\n",
    "    x_old = x0\n",
    "    norms=[]\n",
    "#     xs.append(x_old)\n",
    "    \n",
    "    for i in range(0, 10):\n",
    "        x_new = GS_Iter_Single(Bgs, dgs, x_old)\n",
    "#         print(x_new)\n",
    "#         xs.append(x_new)\n",
    "#         print(xs[i-2])\n",
    "        norms.append(np.linalg.norm(x_new - x_old))\n",
    "#         print(np.linalg.norm(x_new - x_old))\n",
    "        print(norms[i]/norms[i-1])\n",
    "        x_old = x_new\n",
    "    \n",
    "    print(norms)"
   ]
  },
  {
   "cell_type": "code",
   "execution_count": 227,
   "metadata": {
    "scrolled": true
   },
   "outputs": [
    {
     "name": "stdout",
     "output_type": "stream",
     "text": [
      "1.0\n",
      "0.5217491947499509\n",
      "0.6428571428571429\n",
      "0.5\n",
      "0.5\n",
      "0.5\n",
      "0.5\n",
      "0.5\n",
      "0.5\n",
      "0.5\n",
      "[0.8385254915624212, 0.4375, 0.28125, 0.140625, 0.0703125, 0.03515625, 0.017578125, 0.0087890625, 0.00439453125, 0.002197265625]\n"
     ]
    }
   ],
   "source": [
    "A = np.array([[2, -1, 0], [-1, 2, -1], [0, -1, 2]])\n",
    "b=np.array([1, 0, 1])\n",
    "x0=np.array([0, 0, 0])\n",
    "\n",
    "L, D, U = LDU_matrixes(A)\n",
    "\n",
    "GS_Iter(L, D, U, b, x0)"
   ]
  },
  {
   "cell_type": "markdown",
   "metadata": {},
   "source": [
    "## Task (e)"
   ]
  },
  {
   "cell_type": "code",
   "execution_count": 8,
   "metadata": {},
   "outputs": [],
   "source": [
    "def SOR_Iter_Single(Bsor, dsor, x_old):\n",
    "    x_new = np.dot(Bsor, x_old) + dsor\n",
    "    return x_new\n",
    "\n",
    "def SOR_Iter (L, D, U, b, x0, w):\n",
    "    Bsor = np.dot(np.linalg.inv(w*L+D), ((1-w)*D-w*U))\n",
    "    dsor = w*np.dot(np.linalg.inv(w*L+D), b)\n",
    "    x_old = x0\n",
    "    \n",
    "    for i in range(0, 10):\n",
    "        x_new = SOR_Iter_Single(Bsor, dsor, x_old)\n",
    "        print(x_new)\n",
    "        print(np.linalg.norm(x_new - x_old))\n",
    "        x_old = x_new"
   ]
  },
  {
   "cell_type": "code",
   "execution_count": 9,
   "metadata": {},
   "outputs": [
    {
     "name": "stdout",
     "output_type": "stream",
     "text": [
      "[0.55     0.3025   0.716375]\n",
      "0.9524701520913924\n",
      "[0.661375   0.7275125  0.87849438]\n",
      "0.4683190232433876\n",
      "[0.88399437 0.89661756 0.95529022]\n",
      "0.2899198344124941\n",
      "[0.95474022 0.96085499 0.98294122]\n",
      "0.09947863800585222\n",
      "[0.98299622 0.98518009 0.99355493]\n",
      "0.03876548874894403\n",
      "[0.99354943 0.99438939 0.99755867]\n",
      "0.014567472303895528\n",
      "[0.99755922 0.9978759  0.99907588]\n",
      "0.005525949257535369\n",
      "[0.99907582 0.99919585 0.99965013]\n",
      "0.0020909569304179846\n",
      "[0.99965013 0.99969556 0.99986754]\n",
      "0.000791715843896457\n",
      "[0.99986754 0.99988474 0.99994985]\n",
      "0.00029972156950813696\n"
     ]
    }
   ],
   "source": [
    "A = np.array([[2, -1, 0], [-1, 2, -1], [0, -1, 2]])\n",
    "b=np.array([1, 0, 1])\n",
    "x0=np.array([0, 0, 0])\n",
    "w=1.1\n",
    "\n",
    "L, D, U = LDU_matrixes(A)\n",
    "\n",
    "SOR_Iter(L, D, U, b, x0, w)"
   ]
  },
  {
   "cell_type": "markdown",
   "metadata": {},
   "source": [
    "# Problem 2"
   ]
  },
  {
   "cell_type": "markdown",
   "metadata": {},
   "source": [
    "## Task (c)"
   ]
  },
  {
   "cell_type": "code",
   "execution_count": 10,
   "metadata": {},
   "outputs": [],
   "source": [
    "def colvec(rowvec):\n",
    "    v = np.asarray(rowvec)\n",
    "    return v.reshape(v.size,1)"
   ]
  },
  {
   "cell_type": "code",
   "execution_count": 35,
   "metadata": {},
   "outputs": [],
   "source": [
    "def Jacobi_Alpha(x0, acc, alpha, u):\n",
    "    x_old = x0\n",
    "    iter = 0\n",
    "    \n",
    "    while True:\n",
    "#         print('Iteration=', iter)\n",
    "        x_new = (1/(alpha+1))*(np.dot((-colvec(u)*u+np.identity(3)), x_old) + u)\n",
    "#         print('1=',(1/(alpha+1)))\n",
    "#         print('2=', np.dot((colvec(u)*u+np.identity(3)), x_old))\n",
    "#         print('3=', u)\n",
    "#         print('4=', x_new)\n",
    "#         print(np.linalg.norm(x_new - x_old))\n",
    "        if (np.linalg.norm(x_new - x_old) < acc) and (iter > 0):\n",
    "            print(\"Solution found in %s\" %(iter+1), \"iterations with accuracy %.3f\" %acc)\n",
    "            print(\"Solution is %s\" %x_new)\n",
    "            break\n",
    "        iter += 1\n",
    "        x_old = x_new"
   ]
  },
  {
   "cell_type": "code",
   "execution_count": 36,
   "metadata": {
    "scrolled": true
   },
   "outputs": [
    {
     "name": "stdout",
     "output_type": "stream",
     "text": [
      "Alpha = 2\n",
      "Solution found in 17 iterations with accuracy 0.001\n",
      "Solution is [ 0.20020299 -0.20020299  0.20020299]\n",
      "Alpha = -4\n",
      "Solution found in 17 iterations with accuracy 0.001\n",
      "Solution is [-0.99898504  0.99898504 -0.99898504]\n",
      "Alpha = 5\n",
      "Solution found in 7 iterations with accuracy 0.001\n",
      "Solution is [ 0.12505716 -0.12505716  0.12505716]\n",
      "Alpha = -7\n",
      "Solution found in 7 iterations with accuracy 0.001\n",
      "Solution is [-0.24988569  0.24988569 -0.24988569]\n"
     ]
    }
   ],
   "source": [
    "u=np.array([1, -1, 1])\n",
    "x0=np.array([0, 0, 0])\n",
    "alphas = [2, -4, 5, -7]\n",
    "acc = 0.001\n",
    "\n",
    "for alpha in alphas:\n",
    "    print(\"Alpha = %.0f\" %alpha)\n",
    "    Jacobi_Alpha(x0, acc, alpha, u)"
   ]
  },
  {
   "cell_type": "markdown",
   "metadata": {},
   "source": [
    "## Task (d)\n"
   ]
  },
  {
   "cell_type": "code",
   "execution_count": 33,
   "metadata": {},
   "outputs": [],
   "source": [
    "def GS_Alpha(x0, acc, alpha):\n",
    "    x_old = x0\n",
    "    iter = 0\n",
    "    Bgs =  -1 * np.array([[0, -(alpha+1)**2, (alpha+1)**2], \n",
    "                                       [0, -(alpha+1), (alpha+1)-(alpha+1)**2], \n",
    "                                       [0, alpha, -2*alpha-1]])\n",
    "    \n",
    "    dgs=np.array([[(alpha+1)**2], [(alpha+1)-(alpha+1)**2], [-2*alpha-1+(alpha+1)**2]])\n",
    "    \n",
    "    while True:\n",
    "        \n",
    "        x_new = (1/(alpha+1)**3)*(np.dot(Bgs, colvec(x_old))+dgs)\n",
    "#         print(np.dot(Bgs, colvec(x_old)))\n",
    "#         print(x_new)\n",
    "        if (np.linalg.norm(x_new - x_old) < acc) and (iter > 0):\n",
    "            print(\"Solution found in %s\" %(iter+1), \"with accuracy %.3f\" %acc)\n",
    "            print(\"Solution is %s\" %x_new.T)\n",
    "            break\n",
    "        iter += 1\n",
    "        x_old = x_new"
   ]
  },
  {
   "cell_type": "code",
   "execution_count": 34,
   "metadata": {
    "scrolled": true
   },
   "outputs": [
    {
     "name": "stdout",
     "output_type": "stream",
     "text": [
      "Alpha = 2\n",
      "Solution found in 5 with accuracy 0.001\n",
      "Solution is [[ 0.1997895  -0.2000151   0.20006513]]\n",
      "Alpha = -4\n",
      "Solution found in 10 with accuracy 0.001\n",
      "Solution is [[-0.99944338  0.99957274 -0.99967204]]\n",
      "Alpha = 5\n",
      "Solution found in 4 with accuracy 0.001\n",
      "Solution is [[ 0.12498361 -0.12499756  0.12500314]]\n",
      "Alpha = -7\n",
      "Solution found in 5 with accuracy 0.001\n",
      "Solution is [[-0.24997562  0.24998778 -0.2499939 ]]\n"
     ]
    }
   ],
   "source": [
    "x0=np.array([0, 0, 0])\n",
    "alphas = [2, -4, 5, -7]\n",
    "acc = 0.001\n",
    "\n",
    "for alpha in alphas:\n",
    "    print(\"Alpha = %.0f\" %alpha)\n",
    "    GS_Alpha(x0, acc, alpha)"
   ]
  },
  {
   "cell_type": "markdown",
   "metadata": {},
   "source": [
    "## Task (e)"
   ]
  },
  {
   "cell_type": "code",
   "execution_count": 31,
   "metadata": {},
   "outputs": [],
   "source": [
    "def SOR_Iter_Single(Bsor, dsor, x_old):\n",
    "    x_new = np.dot(Bsor, x_old) + dsor\n",
    "    return x_new\n",
    "\n",
    "def SOR_Iter (L, D, U, b, x0, w):\n",
    "    Bsor = np.dot(np.linalg.inv(w*L+D), ((1-w)*D-w*U))\n",
    "    dsor = w*np.dot(np.linalg.inv(w*L+D), b)\n",
    "    x_old = x0\n",
    "    iter = 0\n",
    "    \n",
    "    while True:\n",
    "        x_new = SOR_Iter_Single(Bsor, dsor, x_old)\n",
    "#         print(x_new)\n",
    "#         print(np.linalg.norm(x_new - x_old))\n",
    "        if (np.linalg.norm(x_new - x_old) < acc) and (iter > 0):\n",
    "            print(\"Solution found in %s\" %(iter+1), \"with accuracy %.3f\" %acc)\n",
    "            print(\"Solution is %s\" %x_new.T)\n",
    "            break\n",
    "        iter += 1\n",
    "        x_old = x_new"
   ]
  },
  {
   "cell_type": "code",
   "execution_count": 32,
   "metadata": {},
   "outputs": [
    {
     "name": "stdout",
     "output_type": "stream",
     "text": [
      "For w=0\n",
      "Alpha = 2\n",
      "Solution found in 24 with accuracy 0.001\n",
      "Solution is [ 0.19907474 -0.19708226  0.19507826]\n",
      "Alpha = -4\n",
      "Solution found in 118 with accuracy 0.001\n",
      "Solution is [-0.98391535  0.98410245 -0.98428737]\n",
      "Alpha = 5\n",
      "Solution found in 25 with accuracy 0.001\n",
      "Solution is [ 0.12175914 -0.1212829   0.12080389]\n",
      "Alpha = -7\n",
      "Solution found in 50 with accuracy 0.001\n",
      "Solution is [-0.24236741  0.24253093 -0.24269201]\n",
      "For w=1\n",
      "Alpha = 2\n",
      "Solution found in 5 with accuracy 0.001\n",
      "Solution is [ 0.2002637  -0.19993771  0.19991392]\n",
      "Alpha = -4\n",
      "Solution found in 8 with accuracy 0.001\n",
      "Solution is [-0.99972612  0.99981196 -0.9998703 ]\n",
      "Alpha = 5\n",
      "Solution found in 4 with accuracy 0.001\n",
      "Solution is [ 0.1250697  -0.12507936  0.12499641]\n",
      "Alpha = -7\n",
      "Solution found in 4 with accuracy 0.001\n",
      "Solution is [-0.24988462  0.25001157 -0.24997599]\n"
     ]
    }
   ],
   "source": [
    "b=np.array([1, -1, 1])\n",
    "x0=np.array([0, 0, 0])\n",
    "ws=[0.1, 1.1]\n",
    "alphas = [2, -4, 5, -7]\n",
    "acc = 0.001\n",
    "\n",
    "for w in ws:\n",
    "    print(\"For w=%.f\" %w)\n",
    "    for alpha in alphas:\n",
    "        print(\"Alpha = %.0f\" %alpha)\n",
    "        A = np.array([[alpha+1, -1, 1], [-1, alpha+1, -1], [1, -1, alpha+1]])\n",
    "\n",
    "        L, D, U = LDU_matrixes(A)\n",
    "\n",
    "        SOR_Iter(L, D, U, b, x0, w)"
   ]
  },
  {
   "cell_type": "markdown",
   "metadata": {},
   "source": [
    "# Problem 3"
   ]
  },
  {
   "cell_type": "code",
   "execution_count": 89,
   "metadata": {},
   "outputs": [],
   "source": [
    "def CGM(b, A, x0, acc):\n",
    "    \n",
    "    x_old=x0\n",
    "    r0 = b-np.dot(A, x_old)\n",
    "    r_old=r0\n",
    "    p_old=r0\n",
    "    iter=0\n",
    "    \n",
    "    while True:\n",
    "        print(\"Iteration %s\" %iter)\n",
    "        alpha_k=(np.dot(np.transpose(r_old), r_old))/(np.dot(np.transpose(p_old),np.dot(A, p_old)))\n",
    "        x_new = x_old + np.dot(alpha_k, p_old)\n",
    "        print(\"Conjugate gradient is p=%s\" %p_old)\n",
    "        r_new = r_old - alpha_k*np.dot(A, p_old)\n",
    "        if (np.linalg.norm(r_new) < acc):\n",
    "            print(\"Solution is %s\" %x_new, \"found in %s\" %(iter+1), \"iterations\")\n",
    "            break\n",
    "        beta = (np.dot(np.transpose(r_new), r_new))/(np.dot(np.transpose(r_old), r_old))\n",
    "        p_new = r_new + np.dot(beta, p_old)\n",
    "        iter+=1\n",
    "        x_old=x_new\n",
    "        r_old=r_new\n",
    "        p_old=p_new\n"
   ]
  },
  {
   "cell_type": "markdown",
   "metadata": {},
   "source": [
    "## Task(a)"
   ]
  },
  {
   "cell_type": "code",
   "execution_count": 90,
   "metadata": {},
   "outputs": [
    {
     "name": "stdout",
     "output_type": "stream",
     "text": [
      "Iteration 0\n",
      "Conjugate gradient is p=[1 0 1]\n",
      "Iteration 1\n",
      "Conjugate gradient is p=[0.5 1.  0.5]\n",
      "Solution is [1. 1. 1.] found in 2 iterations\n"
     ]
    }
   ],
   "source": [
    "A = np.array([[2, -1, 0], [-1, 2, -1], [0, -1, 2]])\n",
    "b=np.array([1, 0, 1])\n",
    "x0=np.array([0, 0, 0])\n",
    "acc = 0.001\n",
    "        \n",
    "CGM(b, A, x0, acc)"
   ]
  },
  {
   "cell_type": "markdown",
   "metadata": {},
   "source": [
    "## Task (b)"
   ]
  },
  {
   "cell_type": "code",
   "execution_count": 92,
   "metadata": {
    "scrolled": true
   },
   "outputs": [
    {
     "name": "stdout",
     "output_type": "stream",
     "text": [
      "Iteration 0\n",
      "Conjugate gradient is p=[1 0 1]\n",
      "Iteration 1\n",
      "Conjugate gradient is p=[0.22222222 0.66666667 0.22222222]\n",
      "Solution is [0.5 0.5 0.5] found in 2 iterations\n"
     ]
    }
   ],
   "source": [
    "alpha=1\n",
    "A = np.array([[alpha+1, -1, 1], [-1, alpha+1, -1], [1, -1, alpha+1]])\n",
    "b=np.array([1, 0, 1])\n",
    "x0=np.array([0, 0, 0])\n",
    "acc = 0.001\n",
    "        \n",
    "CGM(b, A, x0, acc)"
   ]
  },
  {
   "cell_type": "markdown",
   "metadata": {},
   "source": [
    "# Problem 4"
   ]
  },
  {
   "cell_type": "code",
   "execution_count": 148,
   "metadata": {},
   "outputs": [],
   "source": [
    "np.random.seed=7\n",
    "\n",
    "D = np.diag([1,2,3,4,5,6,7,8,9,10])\n",
    "\n",
    "P = np.random.randint(1, 10, size=(10, 10))\n",
    "\n",
    "A4 = np.dot(np.dot(P, D),np.linalg.inv(P))"
   ]
  },
  {
   "cell_type": "markdown",
   "metadata": {},
   "source": [
    "## Task (a)"
   ]
  },
  {
   "cell_type": "code",
   "execution_count": 275,
   "metadata": {},
   "outputs": [],
   "source": [
    "def power_eigen(A, x0, acc):\n",
    "    x_old=x0\n",
    "    iter=0\n",
    "    alpha_k_old=0\n",
    "    \n",
    "    while True:\n",
    "        alpha_k=np.absolute(x_old.max())\n",
    "        x_new = np.dot(A, x_old)/alpha_k\n",
    "        \n",
    "        if np.linalg.norm(alpha_k-alpha_k_old) < acc:\n",
    "            print(\"Solution found in %s\" %iter, \"iterations\")\n",
    "            print(\"Dominating eigenvalue is %.5f\" %alpha_k)\n",
    "            print(\"Dominating eigenvector is %s\" %x_new)\n",
    "            return alpha_k\n",
    "            break\n",
    "            \n",
    "        alpha_k_old=alpha_k\n",
    "        x_old=x_new\n",
    "        iter+=1"
   ]
  },
  {
   "cell_type": "code",
   "execution_count": 264,
   "metadata": {
    "scrolled": false
   },
   "outputs": [
    {
     "name": "stdout",
     "output_type": "stream",
     "text": [
      "Solution found in 64 iterations\n",
      "Dominating eigenvalue is 9.99911\n",
      "Dominating eigenvector is [3.75965906 6.26126801 7.50482992 7.49577414 5.00140797 6.2522142\n",
      " 6.25402391 2.51066604 5.01227413 9.99919477]\n",
      "Checking result...\n",
      "Maximal eigenvalue via built-in function is  10.000000000000039\n"
     ]
    }
   ],
   "source": [
    "np.random.seed=7\n",
    "x0=np.random.randint(1, A4.shape[0], size=A4.shape[0])\n",
    "acc=0.0001\n",
    "\n",
    "power_eigen(A4, x0, acc)\n",
    "\n",
    "print(\"Checking result...\")\n",
    "print(\"Maximal eigenvalue via built-in function is \", max(np.linalg.eig(A4)[0]))"
   ]
  },
  {
   "cell_type": "markdown",
   "metadata": {},
   "source": [
    "## Task (b)"
   ]
  },
  {
   "cell_type": "code",
   "execution_count": 260,
   "metadata": {},
   "outputs": [],
   "source": [
    "def inverse_power_eigen(A, mu, x0, acc):\n",
    "    Amu = (A-mu*np.identity(A.shape[0]))\n",
    "    A_inv = np.linalg.inv(Amu)\n",
    "    \n",
    "    lambd_mu = power_eigen(A_inv, x0, acc)\n",
    "    \n",
    "    lambd = (1 + mu*lambd_mu)/lambd_mu\n",
    "    return lambd"
   ]
  },
  {
   "cell_type": "code",
   "execution_count": 278,
   "metadata": {
    "scrolled": false
   },
   "outputs": [
    {
     "name": "stdout",
     "output_type": "stream",
     "text": [
      "For inversed matrix:\n",
      "Solution found in 12 iterations\n",
      "Dominating eigenvalue is 5.00001\n",
      "Dominating eigenvector is [-19.99999681  -9.99999853 -39.99999419 -24.99999627  -4.99999864\n",
      " -39.99999427  -9.99999811 -34.99999464  -4.99999914 -29.99999566]\n",
      "Closes eigenvector aproximately equal to 8.00000\n"
     ]
    }
   ],
   "source": [
    "np.random.seed=7\n",
    "# mus = [4.8, 6.2, 7.5, 2.5]\n",
    "mus = [7.8]\n",
    "x0=np.random.randint(1, A4.shape[0], size=A4.shape[0])\n",
    "acc=0.0001\n",
    "\n",
    "for mu in mus:\n",
    "    print(\"For inversed matrix:\")\n",
    "    res = inverse_power_eigen(A4, mu, x0, acc)\n",
    "    print(\"Closes eigenvector aproximately equal to %.5f\" %res)"
   ]
  },
  {
   "cell_type": "markdown",
   "metadata": {},
   "source": [
    "# Problem 5"
   ]
  },
  {
   "cell_type": "markdown",
   "metadata": {},
   "source": [
    "## Task (a)"
   ]
  },
  {
   "cell_type": "code",
   "execution_count": 335,
   "metadata": {},
   "outputs": [],
   "source": [
    "np.random.seed=7\n",
    "\n",
    "D = np.diag([1,2,3,4,5,6,7,8,9,10])\n",
    "\n",
    "u=np.random.randint(1, D.shape[0], size=D.shape[0])\n",
    "\n",
    "A5 = D + colvec(u)*u"
   ]
  },
  {
   "cell_type": "code",
   "execution_count": 353,
   "metadata": {},
   "outputs": [],
   "source": [
    "def QR_eigens(A, acc):\n",
    "    A_old=A\n",
    "    iter=0\n",
    "    \n",
    "    while True:\n",
    "        Q, R = np.linalg.qr(A_old)\n",
    "        A_new = np.dot(R, Q)\n",
    "        \n",
    "        if np.linalg.norm(A_new-A_old):\n",
    "            print(\"Solution found in %s\" %(iter+1), \"iteration(s) with accuracy %s\" %acc)\n",
    "            print(\"Eigenvalues of matrix A are: \\n %s\" %np.diag(A_new).round(4))\n",
    "            print(\"Eigenvectors are: \\n %s\" %Q.round(4))\n",
    "            break\n",
    "        \n",
    "        A_old=A_new\n",
    "        iter+=1"
   ]
  },
  {
   "cell_type": "code",
   "execution_count": 354,
   "metadata": {
    "scrolled": false
   },
   "outputs": [
    {
     "name": "stdout",
     "output_type": "stream",
     "text": [
      "Solution found in 1 iteration(s) with accuracy 0.0001\n",
      "Eigenvalues of matrix A are: \n",
      " [315.902    1.6021   2.8957   3.5308   4.4003   5.9497   6.1686   7.911\n",
      "   7.9688   9.6711]\n",
      "Eigenvectors are: \n",
      " [[-0.2402  0.6989  0.2224  0.3573  0.3227  0.0785  0.2779  0.0817  0.2543\n",
      "  -0.1337]\n",
      " [-0.3956 -0.7043  0.1946  0.3126  0.2823  0.0687  0.2432  0.0715  0.2225\n",
      "  -0.117 ]\n",
      " [-0.2261  0.0319 -0.9502  0.1191  0.1076  0.0262  0.0926  0.0272  0.0848\n",
      "  -0.0446]\n",
      " [-0.4521  0.0637  0.0519 -0.8483  0.1613  0.0393  0.139   0.0409  0.1272\n",
      "  -0.0669]\n",
      " [-0.4521  0.0637  0.0519  0.1255 -0.8634  0.0314  0.1112  0.0327  0.1017\n",
      "  -0.0535]\n",
      " [-0.113   0.0159  0.013   0.0314  0.0361 -0.9916  0.0232  0.0068  0.0212\n",
      "  -0.0111]\n",
      " [-0.3956  0.0558  0.0454  0.1098  0.1262  0.0356 -0.8964  0.0204  0.0636\n",
      "  -0.0334]\n",
      " [-0.113   0.0159  0.013   0.0314  0.0361  0.0102  0.0397 -0.9912  0.0159\n",
      "  -0.0084]\n",
      " [-0.3391  0.0478  0.039   0.0941  0.1082  0.0305  0.1191  0.0374 -0.9185\n",
      "  -0.0223]\n",
      " [-0.1696  0.0239  0.0195  0.047   0.0541  0.0153  0.0596  0.0187  0.0611\n",
      "   0.9784]]\n"
     ]
    }
   ],
   "source": [
    "acc=0.0001\n",
    "\n",
    "QR_eigens(A5, acc)"
   ]
  },
  {
   "cell_type": "markdown",
   "metadata": {},
   "source": [
    "## Task (b)\n"
   ]
  },
  {
   "cell_type": "code",
   "execution_count": 355,
   "metadata": {},
   "outputs": [
    {
     "name": "stdout",
     "output_type": "stream",
     "text": [
      "Solution found in 6 iterations\n",
      "Dominating eigenvalue is 316.00644\n",
      "Dominating eigenvector is [155.9968699  273.86391381 156.99363451 314.99361771 316.00643796\n",
      "  79.2564481  278.2952764   79.7710896  240.09277451 120.43868746]\n"
     ]
    },
    {
     "data": {
      "text/plain": [
       "316.0064387024271"
      ]
     },
     "execution_count": 355,
     "metadata": {},
     "output_type": "execute_result"
    }
   ],
   "source": [
    "np.random.seed=7\n",
    "x0=np.random.randint(1, A5.shape[0], size=A5.shape[0])\n",
    "acc=0.0001\n",
    "\n",
    "power_eigen(A5, x0, acc)"
   ]
  }
 ],
 "metadata": {
  "kernelspec": {
   "display_name": "Python 3",
   "language": "python",
   "name": "python3"
  },
  "language_info": {
   "codemirror_mode": {
    "name": "ipython",
    "version": 3
   },
   "file_extension": ".py",
   "mimetype": "text/x-python",
   "name": "python",
   "nbconvert_exporter": "python",
   "pygments_lexer": "ipython3",
   "version": "3.7.3"
  }
 },
 "nbformat": 4,
 "nbformat_minor": 2
}
