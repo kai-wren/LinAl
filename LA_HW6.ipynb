{
 "cells": [
  {
   "cell_type": "markdown",
   "metadata": {},
   "source": [
    "Importing required libraries"
   ]
  },
  {
   "cell_type": "code",
   "execution_count": 1,
   "metadata": {},
   "outputs": [],
   "source": [
    "import numpy as np"
   ]
  },
  {
   "cell_type": "markdown",
   "metadata": {},
   "source": [
    "# Problem 1"
   ]
  },
  {
   "cell_type": "markdown",
   "metadata": {},
   "source": [
    "Defining re-usable method to split matrix $A$ into sum of three matrices $L$, $D$ and $U$."
   ]
  },
  {
   "cell_type": "code",
   "execution_count": 2,
   "metadata": {},
   "outputs": [],
   "source": [
    "def LDU_decomp(M):\n",
    "    L = np.tril(M, -1)\n",
    "    U = np.triu(M, 1)\n",
    "    D = np.diag(np.diag(M))\n",
    "    \n",
    "    return L, D, U"
   ]
  },
  {
   "cell_type": "markdown",
   "metadata": {},
   "source": [
    "## Task (c)\n",
    "\n",
    "Here I have defined single iteration for Jacobi method and overall method to execute Jacobi algorithm for 10 iterations. On each step, we check Euclidian norm to compare old and new solution and determine error $E_k$.\n",
    "\n",
    "Decay rate $dr$ could be found using formula $dr = \\frac{E_k}{E_{k-1}}$. "
   ]
  },
  {
   "cell_type": "code",
   "execution_count": 3,
   "metadata": {},
   "outputs": [],
   "source": [
    "def Jacobi_Iter_Single(Bj, dj, x_old): #single iteration of Jacobi method using pre-calculated matrix Bj and vector dj\n",
    "    x_new = np.dot(Bj, x_old) + dj\n",
    "    return x_new #return of method is new value for x\n",
    "\n",
    "def Jacobi_Iter (L, D, U, b, x0): #method for Jacobi iteration which uses single step method within\n",
    "    Bj = np.dot(-np.linalg.inv(D), (L+U)) #calculating matrix Bj using Jacobi method formula based on L, D and U input\n",
    "    dj = np.dot(np.linalg.inv(D), b) #calculating vector dj using Jacobi method formula based on D and b input\n",
    "    x_old = x0 #setting x0 to start with first iteration\n",
    "    E_old = 1 #setting initial value for old error E value\n",
    "    \n",
    "    for i in range(0, 10): #performing 10 iterations for Jacobi method\n",
    "        x_new = Jacobi_Iter_Single(Bj, dj, x_old) #calling single step method to calculate new value for x\n",
    "        E = np.linalg.norm(x_new - x_old) #calculating error between old and new values of x using Euclidian norm\n",
    "        dr = E/E_old #calculating decay rate dr as relation between current and previous steps error\n",
    "        print(\"\\nError E=%.5f\" %E, \"for iteration %s\" %(i+1))\n",
    "        print(\"Decay rate for iteration %s\" %(i+1), \"equal to %.5f\" %dr)\n",
    "        \n",
    "        #updating old values for next iteration \n",
    "        E_old = E\n",
    "        x_old = x_new\n",
    "    return x_new"
   ]
  },
  {
   "cell_type": "code",
   "execution_count": 4,
   "metadata": {},
   "outputs": [
    {
     "name": "stdout",
     "output_type": "stream",
     "text": [
      "Solving system Ax=b using Jacobi method executed for 10 iterations only:\n",
      "\n",
      "Error E=0.70711 for iteration 1\n",
      "Decay rate for iteration 1 equal to 0.70711\n",
      "\n",
      "Error E=0.50000 for iteration 2\n",
      "Decay rate for iteration 2 equal to 0.70711\n",
      "\n",
      "Error E=0.35355 for iteration 3\n",
      "Decay rate for iteration 3 equal to 0.70711\n",
      "\n",
      "Error E=0.25000 for iteration 4\n",
      "Decay rate for iteration 4 equal to 0.70711\n",
      "\n",
      "Error E=0.17678 for iteration 5\n",
      "Decay rate for iteration 5 equal to 0.70711\n",
      "\n",
      "Error E=0.12500 for iteration 6\n",
      "Decay rate for iteration 6 equal to 0.70711\n",
      "\n",
      "Error E=0.08839 for iteration 7\n",
      "Decay rate for iteration 7 equal to 0.70711\n",
      "\n",
      "Error E=0.06250 for iteration 8\n",
      "Decay rate for iteration 8 equal to 0.70711\n",
      "\n",
      "Error E=0.04419 for iteration 9\n",
      "Decay rate for iteration 9 equal to 0.70711\n",
      "\n",
      "Error E=0.03125 for iteration 10\n",
      "Decay rate for iteration 10 equal to 0.70711\n",
      "\n",
      "Solution for system Ax=b is x=[0.96875 0.96875 0.96875]\n",
      "Solution residual is 0.05413\n",
      "\n",
      "Spectral radius p(Bj)=1/sqrt(2)= 0.70711\n"
     ]
    }
   ],
   "source": [
    "A = np.array([[2, -1, 0], [-1, 2, -1], [0, -1, 2]]) #setting given matrix A\n",
    "b=np.array([1, 0, 1]) #setting given vector b\n",
    "x0=np.array([0, 0, 0]) #setting given starting vector x0 \n",
    "\n",
    "L, D, U = LDU_decomp(A) #retriving L, D and U matrices\n",
    "\n",
    "print(\"Solving system Ax=b using Jacobi method executed for 10 iterations only:\")\n",
    "solution = Jacobi_Iter(L, D, U, b, x0)\n",
    "print(\"\\nSolution for system Ax=b is x=%s\" %solution.round(5)) #solution found using Jacobi method\n",
    "print(\"Solution residual is %.5f\" %np.linalg.norm([1, 1, 1]-solution))\n",
    "print(\"\\nSpectral radius p(Bj)=1/sqrt(2)= %.5f\" %(1/np.sqrt(2))) #printing spectral radius of Bj for convinience"
   ]
  },
  {
   "cell_type": "markdown",
   "metadata": {},
   "source": [
    "For Jacobi method decay rate dr equal to spectral radius $p(B_j)$ which is largest in absolute eigenvalue of matrix $B_j$. Sceptral radius $p(B_j)$ was calcualted in companion PDF file."
   ]
  },
  {
   "cell_type": "markdown",
   "metadata": {},
   "source": [
    "## Task(d)\n",
    "\n",
    "Here I have defined single iteration for Gauss-Seidel (GS) method and overall method to execute GS algorithm for 10 iterations. On each step, we check Euclidian norm to compare old and new solution and determine error $E_k$.\n",
    "\n",
    "Decay rate $dr$ could be found using formula $dr = \\frac{E_k}{E_{k-1}}$. "
   ]
  },
  {
   "cell_type": "code",
   "execution_count": 5,
   "metadata": {},
   "outputs": [],
   "source": [
    "def GS_Iter_Single(Bgs, dgs, x_old): #single iteration of GS method using pre-calculated matrix Bgs and vector dgs\n",
    "    x_new = np.dot(Bgs, x_old) + dgs\n",
    "    return x_new #return of method is new value for x\n",
    "\n",
    "def GS_Iter (L, D, U, b, x0): #method for GS iteration which uses single step method within\n",
    "    Bgs = np.dot(-np.linalg.inv(L+D), U) #calculating matrix Bgs using GS method formula based on L, D and U input\n",
    "    dgs = np.dot(np.linalg.inv(L+D), b) #calculating vector dgs using GS method formula based on L, D and b input\n",
    "    x_old = x0 #setting x0 to start with first iteration\n",
    "    E_old = 1 #setting initial value for old error E value\n",
    "    \n",
    "    for i in range(0, 10): #performing 10 iterations for GS method\n",
    "        x_new = GS_Iter_Single(Bgs, dgs, x_old) #calling single step method to calculate new value for x\n",
    "        E = np.linalg.norm(x_new - x_old) #calculating error between old and new values of x using Euclidian norm\n",
    "        dr = E/E_old #calculating decay rate dr as relation between current and previous steps error\n",
    "        print(\"\\nError E=%.5f\" %E, \"for iteration %s\" %(i+1))\n",
    "        print(\"Decay rate for iteration %s\" %(i+1), \"equal to %.5f\" %dr)\n",
    "        \n",
    "        #updating old values for next iteration \n",
    "        E_old = E\n",
    "        x_old = x_new\n",
    "    return x_new"
   ]
  },
  {
   "cell_type": "code",
   "execution_count": 6,
   "metadata": {
    "scrolled": false
   },
   "outputs": [
    {
     "name": "stdout",
     "output_type": "stream",
     "text": [
      "Solving system Ax=b using Gauss-Seidel method executed for 10 iterations only:\n",
      "\n",
      "Error E=0.83853 for iteration 1\n",
      "Decay rate for iteration 1 equal to 0.83853\n",
      "\n",
      "Error E=0.43750 for iteration 2\n",
      "Decay rate for iteration 2 equal to 0.52175\n",
      "\n",
      "Error E=0.28125 for iteration 3\n",
      "Decay rate for iteration 3 equal to 0.64286\n",
      "\n",
      "Error E=0.14062 for iteration 4\n",
      "Decay rate for iteration 4 equal to 0.50000\n",
      "\n",
      "Error E=0.07031 for iteration 5\n",
      "Decay rate for iteration 5 equal to 0.50000\n",
      "\n",
      "Error E=0.03516 for iteration 6\n",
      "Decay rate for iteration 6 equal to 0.50000\n",
      "\n",
      "Error E=0.01758 for iteration 7\n",
      "Decay rate for iteration 7 equal to 0.50000\n",
      "\n",
      "Error E=0.00879 for iteration 8\n",
      "Decay rate for iteration 8 equal to 0.50000\n",
      "\n",
      "Error E=0.00439 for iteration 9\n",
      "Decay rate for iteration 9 equal to 0.50000\n",
      "\n",
      "Error E=0.00220 for iteration 10\n",
      "Decay rate for iteration 10 equal to 0.50000\n",
      "\n",
      "Solution for system Ax=b is x=[0.99854 0.99854 0.99927]\n",
      "Solution residual is 0.00220\n",
      "\n",
      "Spectral radius p(Bgs)=1/2= 0.50000\n"
     ]
    }
   ],
   "source": [
    "A = np.array([[2, -1, 0], [-1, 2, -1], [0, -1, 2]]) #setting given matrix A\n",
    "b=np.array([1, 0, 1]) #setting given vector b\n",
    "x0=np.array([0, 0, 0]) #setting given starting vector x0 \n",
    "\n",
    "L, D, U = LDU_decomp(A) #retriving L, D and U matrices\n",
    "\n",
    "print(\"Solving system Ax=b using Gauss-Seidel method executed for 10 iterations only:\")\n",
    "solution = GS_Iter(L, D, U, b, x0)\n",
    "print(\"\\nSolution for system Ax=b is x=%s\" %solution.round(5)) #solution found using GS method\n",
    "print(\"Solution residual is %.5f\" %np.linalg.norm([1, 1, 1]-solution))\n",
    "print(\"\\nSpectral radius p(Bgs)=1/2= %.5f\" %(1/2)) #printing spectral radius of Bgs for convinience"
   ]
  },
  {
   "cell_type": "markdown",
   "metadata": {},
   "source": [
    "For Gauss-Seidel (GS) method decay rate dr equal to spectral radius $p(B_{GS})$ which is largest in absolute eigenvalue of matrix $B_{GS}$. But this happens only from 4th iteration onwards. Till iteration 4, decay rate fluctuates around value 0.5 and eventually converges to it. From decay rate we could judge that overall convergens speed for GS method is higher that for Jacobi under same conditions. Spectral radius $p(B_{GS})=\\frac{1}{2}$ calculated in companion PDF file.\n",
    "\n",
    "Also worth to mentioned that solution retrieved by GS method is closer to true value after 10 iterations compare to Jacobi method."
   ]
  },
  {
   "cell_type": "markdown",
   "metadata": {},
   "source": [
    "## Task (e)"
   ]
  },
  {
   "cell_type": "markdown",
   "metadata": {},
   "source": [
    "Here I have defined single iteration for successive overrelaxation (SOR) method and overall method to execute SOR algorithm for 10 iterations. On each step, we check Euclidian norm to compare old and new solution and determine error $E_k$.\n",
    "\n",
    "Decay rate $dr$ could be found using formula $dr = \\frac{E_k}{E_{k-1}}$. "
   ]
  },
  {
   "cell_type": "code",
   "execution_count": 7,
   "metadata": {},
   "outputs": [],
   "source": [
    "def SOR_Iter_Single(Bsor, dsor, x_old): #single iteration of SOR method using pre-calculated matrix Bsor and vector dsor\n",
    "    x_new = np.dot(Bsor, x_old) + dsor\n",
    "    return x_new #return of method is new value for x\n",
    "\n",
    "def SOR_Iter (L, D, U, b, x0, w): #method for SOR iteration which uses single step method within\n",
    "    Bsor = np.dot(np.linalg.inv(w*L+D), ((1-w)*D-w*U)) #calculating matrix Bsor using SOR method formula based on L, D, U and w input\n",
    "    dsor = w*np.dot(np.linalg.inv(w*L+D), b) #calculating vector dsor using SOR method formula based on L, D, b and w input\n",
    "    x_old = x0 #setting x0 to start with first iteration\n",
    "    E_old = 1 #setting initial value for old error E value\n",
    "    sr,_ = np.linalg.eig(Bsor)\n",
    "    sr = sr.max()\n",
    "    \n",
    "    for i in range(0, 10): #performing 10 iterations for SOR method\n",
    "        x_new = SOR_Iter_Single(Bsor, dsor, x_old) #calling single step method to calculate new value for x\n",
    "        E = np.linalg.norm(x_new - x_old) #calculating error between old and new values of x using Euclidian norm\n",
    "        dr = E/E_old #calculating decay rate dr as relation between current and previous steps error\n",
    "        print(\"\\nError E=%.5f\" %E, \"for iteration %s\" %(i+1))\n",
    "        print(\"Decay rate for iteration %s\" %(i+1), \"equal to %.5f\" %dr)\n",
    "        \n",
    "        #updating old values for next iteration \n",
    "        E_old = E\n",
    "        x_old = x_new\n",
    "    \n",
    "    return x_new, sr"
   ]
  },
  {
   "cell_type": "code",
   "execution_count": 8,
   "metadata": {},
   "outputs": [
    {
     "name": "stdout",
     "output_type": "stream",
     "text": [
      "Solving system Ax=b using successive overrelaxation method executed for 10 iterations only:\n",
      "Solving system with w=0.1\n",
      "\n",
      "Error E=0.07084 for iteration 1\n",
      "Decay rate for iteration 1 equal to 0.07084\n",
      "\n",
      "Error E=0.06444 for iteration 2\n",
      "Decay rate for iteration 2 equal to 0.90959\n",
      "\n",
      "Error E=0.05924 for iteration 3\n",
      "Decay rate for iteration 3 equal to 0.91928\n",
      "\n",
      "Error E=0.05499 for iteration 4\n",
      "Decay rate for iteration 4 equal to 0.92827\n",
      "\n",
      "Error E=0.05148 for iteration 5\n",
      "Decay rate for iteration 5 equal to 0.93629\n",
      "\n",
      "Error E=0.04856 for iteration 6\n",
      "Decay rate for iteration 6 equal to 0.94320\n",
      "\n",
      "Error E=0.04608 for iteration 7\n",
      "Decay rate for iteration 7 equal to 0.94898\n",
      "\n",
      "Error E=0.04395 for iteration 8\n",
      "Decay rate for iteration 8 equal to 0.95368\n",
      "\n",
      "Error E=0.04208 for iteration 9\n",
      "Decay rate for iteration 9 equal to 0.95743\n",
      "\n",
      "Error E=0.04041 for iteration 10\n",
      "Decay rate for iteration 10 equal to 0.96037\n",
      "\n",
      "Solution for system Ax=b is x=[0.34608 0.14725 0.3514 ]\n",
      "Solution residual is 1.25518\n",
      "\n",
      "Spectral radius for Bsor is p(Bsor)=0.96963 \n",
      "\n",
      "Solving system with w=1.1\n",
      "\n",
      "Error E=0.95247 for iteration 1\n",
      "Decay rate for iteration 1 equal to 0.95247\n",
      "\n",
      "Error E=0.46832 for iteration 2\n",
      "Decay rate for iteration 2 equal to 0.49169\n",
      "\n",
      "Error E=0.28992 for iteration 3\n",
      "Decay rate for iteration 3 equal to 0.61906\n",
      "\n",
      "Error E=0.09948 for iteration 4\n",
      "Decay rate for iteration 4 equal to 0.34312\n",
      "\n",
      "Error E=0.03877 for iteration 5\n",
      "Decay rate for iteration 5 equal to 0.38969\n",
      "\n",
      "Error E=0.01457 for iteration 6\n",
      "Decay rate for iteration 6 equal to 0.37578\n",
      "\n",
      "Error E=0.00553 for iteration 7\n",
      "Decay rate for iteration 7 equal to 0.37933\n",
      "\n",
      "Error E=0.00209 for iteration 8\n",
      "Decay rate for iteration 8 equal to 0.37839\n",
      "\n",
      "Error E=0.00079 for iteration 9\n",
      "Decay rate for iteration 9 equal to 0.37864\n",
      "\n",
      "Error E=0.00030 for iteration 10\n",
      "Decay rate for iteration 10 equal to 0.37857\n",
      "\n",
      "Solution for system Ax=b is x=[0.99987 0.99988 0.99995]\n",
      "Solution residual is 0.00018\n",
      "\n",
      "Spectral radius for Bsor is p(Bsor)=0.37859 \n",
      "\n"
     ]
    }
   ],
   "source": [
    "A = np.array([[2, -1, 0], [-1, 2, -1], [0, -1, 2]]) #setting given matrix A\n",
    "b=np.array([1, 0, 1]) #setting given vector b\n",
    "x0=np.array([0, 0, 0]) #setting given starting vector x0 \n",
    "ws=[0.1, 1.1] #setting list of given w values\n",
    "\n",
    "L, D, U = LDU_decomp(A) #retriving L, D and U matrices\n",
    "\n",
    "print(\"Solving system Ax=b using successive overrelaxation method executed for 10 iterations only:\")\n",
    "for w in ws:\n",
    "    print(\"Solving system with w=%s\" %w)\n",
    "    solution, sr = SOR_Iter(L, D, U, b, x0, w)\n",
    "    print(\"\\nSolution for system Ax=b is x=%s\" %solution.round(5)) #solution found using GS method\n",
    "    print(\"Solution residual is %.5f\" %np.linalg.norm([1, 1, 1]-solution))\n",
    "    print(\"\\nSpectral radius for Bsor is p(Bsor)=%.5f\" %sr, \"\\n\")"
   ]
  },
  {
   "cell_type": "markdown",
   "metadata": {},
   "source": [
    "For successive overrelaxation (SOR) method decay rate dr equal to spectral radius $p(B_{SOR})$ which is largest in absolute eigenvalue of matrix $B_{SOR}$. Since I did not found this value manually in companion PDF file, I have used built-in function to find it. \n",
    "\n",
    "With $w=0.1$ convergence speed is slow, that is why solution found is quite far away from true value. This is indicated by respective norm. Also convergence speed is low because spectral radius is close to 1, it means with each iteration we have very minor improvement. We could notice it by observing respective errors. Finally, decay rate converges to spectral radius of $p(B_{SOR})$ only on iteration 10. So eventually system will be solved with $w=0.1$, but not within 10 iterations.\n",
    "\n",
    "For $w=1.1$ convergence speed is high. We could observe, that decay rate converges to spectral radius of $p(B_{SOR})$. But this happens only from 4th iteration onwards. Till iteration 4, decay rate fluctuates and eventually converges to spectral radius. From decay rate we could judge that overall convergens speed for SOR method is higher that for Jacobi and Gauss-Seidel methods under same conditions $p(B_{SOR})<p(B_{GS})<p(B_j)$. Also, worth to mentioned that solution retrieved by SOR method with $w=1.1$ is closer to true value after 10 iterations compare to Jacobi and GS methods.\n",
    "\n",
    "Successive overrelaxation (SOR) method has higher convergence speed compare to previous methods with $w>1$ "
   ]
  },
  {
   "cell_type": "markdown",
   "metadata": {},
   "source": [
    "# Problem 2"
   ]
  },
  {
   "cell_type": "markdown",
   "metadata": {},
   "source": [
    "Defining auxilary mthod to create column vector from row vector."
   ]
  },
  {
   "cell_type": "code",
   "execution_count": 9,
   "metadata": {},
   "outputs": [],
   "source": [
    "def colvec(rowvec):\n",
    "    v = np.asarray(rowvec)\n",
    "    return v.reshape(v.size,1)"
   ]
  },
  {
   "cell_type": "markdown",
   "metadata": {},
   "source": [
    "## Task (c)\n",
    "Here I defined iteration scheme for Jacobi method using formula I have written down in companion PDF file under Task (b) and test it for four different $\\alpha$ from convergence interval $\\alpha \\in (-\\infty; -3) \\cup (1; \\infty)$. I choose two values from each sides. "
   ]
  },
  {
   "cell_type": "code",
   "execution_count": 10,
   "metadata": {},
   "outputs": [],
   "source": [
    "def Jacobi_Alpha(x0, acc, alpha, u): #method to execute Jacobi method using formula I have write down in PDF Task (b)\n",
    "    x_old = x0\n",
    "    iter = 0\n",
    "    \n",
    "    while True: #execute iteration until accuracy achieved\n",
    "\n",
    "        x_new = (1/(alpha+1))*(np.dot((-colvec(u)*u+np.identity(3)), x_old) + u) #formula written in Task (b)\n",
    "        if (np.linalg.norm(x_new - x_old) < acc): #stop execution if accuracy achieved - difference between new and old value less that accuracy\n",
    "            print(\"Solution found in %s\" %(iter+1), \"iterations with accuracy %.3f\" %acc)\n",
    "            print(\"Solution is %s\" %x_new.round(5))\n",
    "            break\n",
    "        iter += 1\n",
    "        x_old = x_new"
   ]
  },
  {
   "cell_type": "code",
   "execution_count": 11,
   "metadata": {
    "scrolled": true
   },
   "outputs": [
    {
     "name": "stdout",
     "output_type": "stream",
     "text": [
      "Solving system Ax=b using Jacobi method executed untill accuracy 0.001 achieved:\n",
      "\n",
      "Solving for alpha = 2\n",
      "Solution found in 17 iterations with accuracy 0.001\n",
      "Solution is [ 0.2002 -0.2002  0.2002]\n",
      "\n",
      "Solving for alpha = -4\n",
      "Solution found in 17 iterations with accuracy 0.001\n",
      "Solution is [-0.99899  0.99899 -0.99899]\n",
      "\n",
      "Solving for alpha = 5\n",
      "Solution found in 7 iterations with accuracy 0.001\n",
      "Solution is [ 0.12506 -0.12506  0.12506]\n",
      "\n",
      "Solving for alpha = -7\n",
      "Solution found in 7 iterations with accuracy 0.001\n",
      "Solution is [-0.24989  0.24989 -0.24989]\n"
     ]
    }
   ],
   "source": [
    "u=np.array([1, -1, 1]) #setting vector u\n",
    "x0=np.array([0, 0, 0]) #setting x0 vector\n",
    "alphas = [2, -4, 5, -7] #list of possible alpha values\n",
    "acc = 0.001 #setting accuracy\n",
    "\n",
    "print(\"Solving system Ax=b using Jacobi method executed untill accuracy %.3f achieved:\" %acc)\n",
    "for alpha in alphas: #solving system with different values of alpha\n",
    "    print(\"\\nSolving for alpha = %.0f\" %alpha)\n",
    "    Jacobi_Alpha(x0, acc, alpha, u)"
   ]
  },
  {
   "cell_type": "markdown",
   "metadata": {},
   "source": [
    "From result of Jacobi method we could see that it converges faster when $\\alpha$ is further from edge of convergence range $\\alpha \\in (-\\infty; -3) \\cup (1; \\infty)$. So that, the bigger difference between the faster solution will be found. You could spot that with $\\alpha=2$ or $\\alpha=-4$ it needs 17 iterations, but with 5 and -7 number of iterations become more than twise less - just 7.\n",
    "\n",
    "Also, formula I have written down in Task (b) is applicable and works properly."
   ]
  },
  {
   "cell_type": "markdown",
   "metadata": {},
   "source": [
    "## Task (d)\n",
    "Here I have defined iteration scheme for Gauss-Seidel method using formula I have written in Task (b) in companion PDF file. I test it with four different $\\alpha$ from convergence interval $\\alpha \\in (-\\infty; -3) \\cup (1; \\infty)$. I choose two values from each sides."
   ]
  },
  {
   "cell_type": "code",
   "execution_count": 12,
   "metadata": {},
   "outputs": [],
   "source": [
    "def GS_Alpha(x0, acc, alpha): #iteration method for Gass-Seidel\n",
    "    x_old = x0\n",
    "    iter = 0\n",
    "    Bgs =  -1 * np.array([[0, -(alpha+1)**2, (alpha+1)**2], #writting down matrix Bgs as in Task (b) dependent from alpha value\n",
    "                                       [0, -(alpha+1), (alpha+1)-(alpha+1)**2], \n",
    "                                       [0, alpha, -2*alpha-1]])\n",
    "    \n",
    "    dgs=np.array([[(alpha+1)**2], [(alpha+1)-(alpha+1)**2], [-2*alpha-1+(alpha+1)**2]]) #same with dgs - writting it down as in Task(b) depending on alpha\n",
    "    \n",
    "    while True: #execute till accuracy achieved\n",
    "        \n",
    "        x_new = (1/(alpha+1)**3)*(np.dot(Bgs, colvec(x_old))+dgs) #calculating new value for x using formula from Taks (b)\n",
    "        if (np.linalg.norm(x_new - x_old) < acc): #if accuracy achieved stop execution - difference between new and old values less than accuracy\n",
    "            print(\"Solution found in %s\" %(iter+1), \"with accuracy %.3f\" %acc)\n",
    "            print(\"Solution is %s\" %x_new.T.round(5))\n",
    "            break\n",
    "        iter += 1\n",
    "        x_old = x_new"
   ]
  },
  {
   "cell_type": "code",
   "execution_count": 13,
   "metadata": {
    "scrolled": true
   },
   "outputs": [
    {
     "name": "stdout",
     "output_type": "stream",
     "text": [
      "Solving system Ax=b using Gauss-Seidel method executed untill accuracy 0.001 achieved:\n",
      "\n",
      "Solving for alpha = 2\n",
      "Solution found in 5 with accuracy 0.001\n",
      "Solution is [[ 0.19979 -0.20002  0.20007]]\n",
      "\n",
      "Solving for alpha = -4\n",
      "Solution found in 10 with accuracy 0.001\n",
      "Solution is [[-0.99944  0.99957 -0.99967]]\n",
      "\n",
      "Solving for alpha = 5\n",
      "Solution found in 4 with accuracy 0.001\n",
      "Solution is [[ 0.12498 -0.125    0.125  ]]\n",
      "\n",
      "Solving for alpha = -7\n",
      "Solution found in 5 with accuracy 0.001\n",
      "Solution is [[-0.24998  0.24999 -0.24999]]\n"
     ]
    }
   ],
   "source": [
    "x0=np.array([0, 0, 0]) #setting initial x0\n",
    "alphas = [2, -4, 5, -7] #list possible values of alpha\n",
    "acc = 0.001 #setting accuracy\n",
    "\n",
    "print(\"Solving system Ax=b using Gauss-Seidel method executed untill accuracy %.3f achieved:\" %acc)\n",
    "for alpha in alphas: #solving system with different values of alpha\n",
    "    print(\"\\nSolving for alpha = %.0f\" %alpha)\n",
    "    GS_Alpha(x0, acc, alpha)"
   ]
  },
  {
   "cell_type": "markdown",
   "metadata": {},
   "source": [
    "From result of this method execution we could see that GS method converges faster than Jacobi method. For same values of $\\alpha$ we need less amount of iterations. Intresting observation - this method converges faster for positive values of $\\alpha$ than for negative. For example 2 and -4 are equaly away from edges of converges interval $\\alpha \\in (-\\infty; -3) \\cup (1; \\infty)$, but method able to find correct solution with 2 times less iterations. Also, same as with Jacobi, the bigger difference between $\\alpha$ and edge of interval the faster method will converge to true solution value."
   ]
  },
  {
   "cell_type": "markdown",
   "metadata": {},
   "source": [
    "## Task (e)\n",
    "Here I have defined iteration scheme for successive overrelaxation (SOR) method using usuall formula and performing decomposition of $A$ nto $L$, $D$ and $U$. I test it with four different $\\alpha$ from convergence interval $\\alpha \\in (-\\infty; -3) \\cup (1; \\infty)$. I choose two values from each sides."
   ]
  },
  {
   "cell_type": "code",
   "execution_count": 14,
   "metadata": {},
   "outputs": [],
   "source": [
    "def SOR_Iter_Single(Bsor, dsor, x_old): #single iteration method for SOR\n",
    "    x_new = np.dot(Bsor, x_old) + dsor\n",
    "    return x_new\n",
    "\n",
    "def SOR_Iter (L, D, U, b, x0, w): #iteration method for SOR using single method within\n",
    "    Bsor = np.dot(np.linalg.inv(w*L+D), ((1-w)*D-w*U)) #calculatin matrix Bsor using usual formula\n",
    "    dsor = w*np.dot(np.linalg.inv(w*L+D), b) #calculatin vector dsor as per usual formula\n",
    "    x_old = x0\n",
    "    iter = 0\n",
    "    \n",
    "    while True: #iterating over untill accuracy achieved - difference between new and old value les than accuracy\n",
    "        x_new = SOR_Iter_Single(Bsor, dsor, x_old) #calculating new value for x\n",
    "        if (np.linalg.norm(x_new - x_old) < acc): #stop eecution when accuracy achieved\n",
    "            print(\"Solution found in %s\" %(iter+1), \"with accuracy %.3f\" %acc)\n",
    "            print(\"Solution is %s\" %x_new.T.round(5))\n",
    "            break\n",
    "        iter += 1 #updating old values\n",
    "        x_old = x_new"
   ]
  },
  {
   "cell_type": "code",
   "execution_count": 15,
   "metadata": {},
   "outputs": [
    {
     "name": "stdout",
     "output_type": "stream",
     "text": [
      "Solving system Ax=b using successive overrelaxation method executed untill accuracy 0.001 achieved:\n",
      "\n",
      "Solving for w=0.1 and alpha = 2\n",
      "Solution found in 24 with accuracy 0.001\n",
      "Solution is [ 0.19907 -0.19708  0.19508]\n",
      "\n",
      "Solving for w=0.1 and alpha = -4\n",
      "Solution found in 118 with accuracy 0.001\n",
      "Solution is [-0.98392  0.9841  -0.98429]\n",
      "\n",
      "Solving for w=0.1 and alpha = 5\n",
      "Solution found in 25 with accuracy 0.001\n",
      "Solution is [ 0.12176 -0.12128  0.1208 ]\n",
      "\n",
      "Solving for w=0.1 and alpha = -7\n",
      "Solution found in 50 with accuracy 0.001\n",
      "Solution is [-0.24237  0.24253 -0.24269]\n",
      "\n",
      "Solving for w=1.1 and alpha = 2\n",
      "Solution found in 5 with accuracy 0.001\n",
      "Solution is [ 0.20026 -0.19994  0.19991]\n",
      "\n",
      "Solving for w=1.1 and alpha = -4\n",
      "Solution found in 8 with accuracy 0.001\n",
      "Solution is [-0.99973  0.99981 -0.99987]\n",
      "\n",
      "Solving for w=1.1 and alpha = 5\n",
      "Solution found in 4 with accuracy 0.001\n",
      "Solution is [ 0.12507 -0.12508  0.125  ]\n",
      "\n",
      "Solving for w=1.1 and alpha = -7\n",
      "Solution found in 4 with accuracy 0.001\n",
      "Solution is [-0.24988  0.25001 -0.24998]\n"
     ]
    }
   ],
   "source": [
    "b=np.array([1, -1, 1]) #setting value of b\n",
    "x0=np.array([0, 0, 0]) #setting initial value of x0\n",
    "ws=[0.1, 1.1] #list possible values of w\n",
    "alphas = [2, -4, 5, -7] #list possible values of alpha\n",
    "acc = 0.001 #setting accuracy\n",
    "\n",
    "print(\"Solving system Ax=b using successive overrelaxation method executed untill accuracy %.3f achieved:\" %acc)\n",
    "for w in ws: #execute for each value of w\n",
    "    for alpha in alphas: #execute for each value of alpha\n",
    "        print(\"\\nSolving for w=%.1f\" %w, \"and alpha = %.0f\" %alpha)\n",
    "        A = np.array([[alpha+1, -1, 1], [-1, alpha+1, -1], [1, -1, alpha+1]]) #calculatin matrix A ase don alpha\n",
    "\n",
    "        L, D, U = LDU_decomp(A) #decompose A into L, D and U\n",
    "\n",
    "        SOR_Iter(L, D, U, b, x0, w) #execute SOR method"
   ]
  },
  {
   "cell_type": "markdown",
   "metadata": {},
   "source": [
    "From result of this method execution we could see that successive overrelaxation method converges faster than Jacobi and Gauss-Seidel method when $w>1$ - for same values of $\\alpha$ we need less amount of iterations. Otherwise speed of convergence is slower as we could see with $w=0.1$.  Intresting observation - this method converges faster for positive values of $\\alpha$ than for negative. For example 2 and -4 are equaly away from edges of converges interval $\\alpha \\in (-\\infty; -3) \\cup (1; \\infty)$, but method able to find correct solution with 2 times less iterations. Also, same as with previous methods, the bigger difference between $\\alpha$ and edge of interval the faster method will converge to true solution value."
   ]
  },
  {
   "cell_type": "markdown",
   "metadata": {},
   "source": [
    "# Problem 3"
   ]
  },
  {
   "cell_type": "markdown",
   "metadata": {},
   "source": [
    "Here I have defined iteration algorithm for Conjugate Gradient method (CGM)."
   ]
  },
  {
   "cell_type": "code",
   "execution_count": 16,
   "metadata": {},
   "outputs": [],
   "source": [
    "def CGM(b, A, x0, acc): #iteratin algorithm for CGM\n",
    "    \n",
    "    x_old=x0#setting initial value for x0\n",
    "    r0 = b-np.dot(A, x_old) #setting value for residual r0\n",
    "    r_old=r0 #set initial residual and conjugate gradient values\n",
    "    p_old=r0\n",
    "    iter=0\n",
    "    \n",
    "    while True: #execute method until accuracy achieved\n",
    "        print(\"\\nIteration number %s\" %(iter+1))\n",
    "        alpha_k=(np.dot(np.transpose(r_old), r_old))/(np.dot(np.transpose(p_old),np.dot(A, p_old))) #calculating new alpha_k for current step as per CGM formula\n",
    "        x_new = x_old + np.dot(alpha_k, p_old) #calculating new value for x based on value of alpha_k calcualted above\n",
    "        print(\"Conjugate gradient is p=%s\" %p_old.round(5)) #printing out conjugate gradient of current iteration\n",
    "        r_new = r_old - alpha_k*np.dot(A, p_old) #calculating new residual\n",
    "        if (np.linalg.norm(r_new) < acc): #check if norm of new residual is less than accuracy\n",
    "            print(\"\\nSolution is %s\" %x_new, \"found in %s\" %(iter+1), \"iterations\")\n",
    "            break\n",
    "        beta = (np.dot(np.transpose(r_new), r_new))/(np.dot(np.transpose(r_old), r_old)) #calculating value for beta\n",
    "        p_new = r_new + np.dot(beta, p_old) #calculating new conjugate gradient to be used on next step\n",
    "        iter+=1 \n",
    "        x_old=x_new #updating old values for next iteration\n",
    "        r_old=r_new\n",
    "        p_old=p_new\n"
   ]
  },
  {
   "cell_type": "markdown",
   "metadata": {},
   "source": [
    "## Task(a)"
   ]
  },
  {
   "cell_type": "markdown",
   "metadata": {},
   "source": [
    "Using CGM defined above solving system given by $A=\\begin{pmatrix}2 & -1 & 0 \\\\ -1 & 2 & -1 \\\\ 0 & -1 & 2\n",
    "\t\\end{pmatrix}$ and $b=\\begin{pmatrix} \t1 \\\\ 0 \\\\ 1  \\end{pmatrix}$"
   ]
  },
  {
   "cell_type": "code",
   "execution_count": 17,
   "metadata": {},
   "outputs": [
    {
     "name": "stdout",
     "output_type": "stream",
     "text": [
      "Solving system Ax=b from Problem 1 using conjugate gradient method executed untill accuracy 0.001 achieved:\n",
      "\n",
      "Iteration number 1\n",
      "Conjugate gradient is p=[1 0 1]\n",
      "\n",
      "Iteration number 2\n",
      "Conjugate gradient is p=[0.5 1.  0.5]\n",
      "\n",
      "Solution is [1. 1. 1.] found in 2 iterations\n"
     ]
    }
   ],
   "source": [
    "A = np.array([[2, -1, 0], [-1, 2, -1], [0, -1, 2]]) #setting matrix A as in Problem 1\n",
    "b=np.array([1, 0, 1]) #setting vector b\n",
    "x0=np.array([0, 0, 0]) #setting initial value for x0\n",
    "acc = 0.001 #setting accuracy.\n",
    "\n",
    "print(\"Solving system Ax=b from Problem 1 using conjugate gradient method executed untill accuracy %.3f achieved:\" %acc)\n",
    "CGM(b, A, x0, acc) #executing CGM "
   ]
  },
  {
   "cell_type": "markdown",
   "metadata": {},
   "source": [
    "Conjugate gradient method converges to true solution very fast and with high precission. It only needs two iterations with conjugate gradients $p_1=\\begin{pmatrix} \t1 \\\\ 0 \\\\ 1  \\end{pmatrix}$ and $p_2=\\begin{pmatrix} \t1/2 \\\\ 1 \\\\ 1/2  \\end{pmatrix}$ to find a solution with given accuracy."
   ]
  },
  {
   "cell_type": "markdown",
   "metadata": {},
   "source": [
    "## Task (b)"
   ]
  },
  {
   "cell_type": "markdown",
   "metadata": {},
   "source": [
    "Using CGM defined above solving system given by $A=\\begin{pmatrix}\\alpha+1 & -1 & 1 \\\\ -1 & \\alpha+1 & -1 \\\\ 1 & -1 & \\alpha+1\n",
    "\t\\end{pmatrix}$ and $b=\\begin{pmatrix} \t1 \\\\ 0 \\\\ 1  \\end{pmatrix}$"
   ]
  },
  {
   "cell_type": "code",
   "execution_count": 18,
   "metadata": {
    "scrolled": true
   },
   "outputs": [
    {
     "name": "stdout",
     "output_type": "stream",
     "text": [
      "Solving system Ax=b from Problem 2 using conjugate gradient method executed untill accuracy 0.001 achieved:\n",
      "\n",
      "Iteration number 1\n",
      "Conjugate gradient is p=[1 0 1]\n",
      "\n",
      "Iteration number 2\n",
      "Conjugate gradient is p=[0.22222 0.66667 0.22222]\n",
      "\n",
      "Solution is [0.5 0.5 0.5] found in 2 iterations\n"
     ]
    }
   ],
   "source": [
    "alpha=1 #setting value for alpha \n",
    "A = np.array([[alpha+1, -1, 1], [-1, alpha+1, -1], [1, -1, alpha+1]]) #setting matrix A as in Problem 2\n",
    "b=np.array([1, 0, 1]) #setting vector b\n",
    "x0=np.array([0, 0, 0]) #setting initial value for x0\n",
    "acc = 0.001 #setting accuracy.\n",
    "  \n",
    "print(\"Solving system Ax=b from Problem 2 using conjugate gradient method executed untill accuracy %.3f achieved:\" %acc)    \n",
    "CGM(b, A, x0, acc)"
   ]
  },
  {
   "cell_type": "markdown",
   "metadata": {},
   "source": [
    "Again, conjugate gradient method was able to find solution within 2 iterations and with hih precission. Conjugate gradients are $p_1=\\begin{pmatrix} \t1 \\\\ 0 \\\\ 1  \\end{pmatrix}$  and $p_2=\\begin{pmatrix} \t2/9 \\\\ 2/3 \\\\ 2/9  \\end{pmatrix}$"
   ]
  },
  {
   "cell_type": "markdown",
   "metadata": {},
   "source": [
    "# Problem 4"
   ]
  },
  {
   "cell_type": "markdown",
   "metadata": {},
   "source": [
    "Setting up matrix $A=PDP^{-1}$ for given $D=diag\\{1,2,3,4,5,6,7,8,9,10\\}$ and random matrix $P$ of size $10 \\times 10$."
   ]
  },
  {
   "cell_type": "code",
   "execution_count": 19,
   "metadata": {},
   "outputs": [],
   "source": [
    "np.random.seed=7 #setting random seed\n",
    "\n",
    "D = np.diag([1,2,3,4,5,6,7,8,9,10]) #defining matrix D\n",
    "\n",
    "# P = np.random.randint(1, 10, size=(10, 10))\n",
    "P=np.random.rand(10, 10) #creating random matrix P of size 10*10\n",
    "\n",
    "A4 = np.dot(np.dot(P, D),np.linalg.inv(P)) #calculating matrix A"
   ]
  },
  {
   "cell_type": "markdown",
   "metadata": {},
   "source": [
    "## Task (a)"
   ]
  },
  {
   "cell_type": "markdown",
   "metadata": {},
   "source": [
    "Implementing power method to find dominating eigenvalue and corresponding eigenvector. To give possibility to compare this vector with the one found by other means I have to normalize it and make it unit vector."
   ]
  },
  {
   "cell_type": "code",
   "execution_count": 20,
   "metadata": {},
   "outputs": [],
   "source": [
    "def power_eigen(A, x0, acc): #defining power method algorithm\n",
    "    x_old=x0 #setting initial values \n",
    "    iter=0\n",
    "    alpha_k_old=0\n",
    "    \n",
    "    while True: #execute method until accuracy achieved\n",
    "        alpha_k=np.absolute(x_old).max() #choose maximum element in absolute of vector x_old as eigenvalue alpha_k\n",
    "        x_new = np.dot(A, x_old)/alpha_k #calculate new vector x based on old one, matrix A and alpha_k determined above\n",
    "        \n",
    "        if np.linalg.norm(alpha_k-alpha_k_old) < acc: #check if difference between new eigenvalue and old eigenvalue is less than accuracy\n",
    "            print(\"Solution found in %s\" %iter, \"iterations\")\n",
    "            print(\"Dominating eigenvalue is %.5f\" %alpha_k)\n",
    "            print(\"Dominating eigenvector is %s\" %((x_new/np.linalg.norm(x_new)).round(5))) #normalizing vector to make it unit vector\n",
    "            return alpha_k #return dominating eigenvalue\n",
    "            break\n",
    "            \n",
    "        alpha_k_old=alpha_k #updating old values for next iteration\n",
    "        x_old=x_new\n",
    "        iter+=1"
   ]
  },
  {
   "cell_type": "code",
   "execution_count": 21,
   "metadata": {
    "scrolled": false
   },
   "outputs": [
    {
     "name": "stdout",
     "output_type": "stream",
     "text": [
      "Solution found in 44 iterations\n",
      "Dominating eigenvalue is 9.99965\n",
      "Dominating eigenvector is [-0.26456 -0.21742 -0.37685 -0.07491 -0.47712 -0.30765 -0.33634 -0.18236\n",
      " -0.51547 -0.027  ]\n",
      "\n",
      "Checking result...\n",
      "Maximal eigenvalue via built-in function is 10.0\n"
     ]
    }
   ],
   "source": [
    "np.random.seed=7 #setting random seed\n",
    "# x0=np.random.randint(1, A4.shape[0], size=A4.shape[0])\n",
    "x0 = np.random.rand(A4.shape[0]) #setting initial value for x0\n",
    "acc=0.0001 #setting accuracy\n",
    "\n",
    "power_eigen(A4, x0, acc) #calling power method to find dominating eigenvalue\n",
    "\n",
    "print(\"\\nChecking result...\") #compare results with build-in python function to calcualte eigenvalues\n",
    "print(\"Maximal eigenvalue via built-in function is\", max(np.linalg.eig(A4)[0]).round(5))"
   ]
  },
  {
   "cell_type": "markdown",
   "metadata": {},
   "source": [
    "Power method able to find dominating eigenvalue and corresponding eigenvector with given accuracy. "
   ]
  },
  {
   "cell_type": "markdown",
   "metadata": {},
   "source": [
    "## Task (b)"
   ]
  },
  {
   "cell_type": "markdown",
   "metadata": {},
   "source": [
    "Defining inverse power method which could find other eigenvalues based on some assumption value $\\mu$."
   ]
  },
  {
   "cell_type": "code",
   "execution_count": 22,
   "metadata": {},
   "outputs": [],
   "source": [
    "def inverse_power_eigen(A, mu, x0, acc): #defining inverse power method\n",
    "    Amu = (A-mu*np.identity(A.shape[0])) #calculating matrix (A-mu*I)\n",
    "    A_inv = np.linalg.inv(Amu) #inverting this matrix\n",
    "    \n",
    "    lambd_mu = power_eigen(A_inv, x0, acc) #looking for dominating eigenvalue of matrix (A-mu*I)\n",
    "    \n",
    "    lambd = (1 + mu*lambd_mu)/lambd_mu #now performing calculation to identify corresponding eigenvalue of original matrix A\n",
    "    return lambd #returning closes eigenvalue of A"
   ]
  },
  {
   "cell_type": "markdown",
   "metadata": {},
   "source": [
    "Since biggest eigenvalue of matrix $A$ is equal 10 (denote it $\\lambda_{max}$), hence all other eigenvalues of lays in interval (-$\\lambda_{max}$; $\\lambda_{max}$). So that, to find all other eigenvalues we need to cycle through this interval with some step, then all other eigenvalues will be found."
   ]
  },
  {
   "cell_type": "code",
   "execution_count": 23,
   "metadata": {
    "scrolled": false
   },
   "outputs": [
    {
     "name": "stdout",
     "output_type": "stream",
     "text": [
      "Serching for biggest eigenvalue...\n",
      "Solution found in 44 iterations\n",
      "Dominating eigenvalue is 9.99963\n",
      "Dominating eigenvector is [-0.26456 -0.2174  -0.37684 -0.07493 -0.47713 -0.30767 -0.33636 -0.1824\n",
      " -0.51542 -0.02705]\n",
      "Range to search for remaining eigenvalues is (-9.99963; 9.99963)\n",
      "\n",
      "For mu=-10.09963:\n",
      "\n",
      "For inversed matrix:\n",
      "Solution found in 15 iterations\n",
      "Dominating eigenvalue is 0.08490\n",
      "Dominating eigenvector is [0.2867  0.25691 0.13535 0.44256 0.27546 0.02352 0.34474 0.39793 0.51612\n",
      " 0.13272]\n",
      "\n",
      "Closes eigenvector aproximately equal to 1.67875 \n",
      "\n",
      "For mu=-9.09963:\n",
      "\n",
      "For inversed matrix:\n",
      "Solution found in 15 iterations\n",
      "Dominating eigenvalue is 0.09267\n",
      "Dominating eigenvector is [0.29554 0.26077 0.14156 0.43901 0.27837 0.04132 0.33939 0.39223 0.51268\n",
      " 0.14429]\n",
      "\n",
      "Closes eigenvector aproximately equal to 1.69163 \n",
      "\n",
      "For mu=-8.09963:\n",
      "\n",
      "For inversed matrix:\n",
      "Solution found in 15 iterations\n",
      "Dominating eigenvalue is 0.10204\n",
      "Dominating eigenvector is [0.30495 0.26544 0.14653 0.43519 0.28096 0.06016 0.33457 0.38516 0.50863\n",
      " 0.15535]\n",
      "\n",
      "Closes eigenvector aproximately equal to 1.70078 \n",
      "\n",
      "For mu=-7.09963:\n",
      "\n",
      "For inversed matrix:\n",
      "Solution found in 14 iterations\n",
      "Dominating eigenvalue is 0.11363\n",
      "Dominating eigenvector is [0.30891 0.26788 0.14758 0.43368 0.28177 0.06778 0.3332  0.38172 0.50687\n",
      " 0.15908]\n",
      "\n",
      "Closes eigenvector aproximately equal to 1.70094 \n",
      "\n",
      "For mu=-6.09963:\n",
      "\n",
      "For inversed matrix:\n",
      "Solution found in 13 iterations\n",
      "Dominating eigenvalue is 0.12822\n",
      "Dominating eigenvector is [0.3137  0.27113 0.14834 0.43186 0.28261 0.07678 0.33185 0.37733 0.5047\n",
      " 0.16308]\n",
      "\n",
      "Closes eigenvector aproximately equal to 1.69961 \n",
      "\n",
      "For mu=-5.09963:\n",
      "\n",
      "For inversed matrix:\n",
      "Solution found in 12 iterations\n",
      "Dominating eigenvalue is 0.14716\n",
      "Dominating eigenvector is [0.31965 0.27564 0.14848 0.4296  0.28342 0.08763 0.33063 0.3715  0.50193\n",
      " 0.16724]\n",
      "\n",
      "Closes eigenvector aproximately equal to 1.69550 \n",
      "\n",
      "For mu=-4.09963:\n",
      "\n",
      "For inversed matrix:\n",
      "Solution found in 43 iterations\n",
      "Dominating eigenvalue is 0.19562\n",
      "Dominating eigenvector is [0.42068 0.4276  0.0452  0.37345 0.26175 0.23287 0.35971 0.20726 0.43244\n",
      " 0.12879]\n",
      "\n",
      "Closes eigenvector aproximately equal to 1.01221 \n",
      "\n",
      "For mu=-3.09963:\n",
      "\n",
      "For inversed matrix:\n",
      "Solution found in 38 iterations\n",
      "Dominating eigenvalue is 0.24352\n",
      "Dominating eigenvector is [0.42101 0.4284  0.04447 0.3731  0.26151 0.23328 0.35992 0.20638 0.43203\n",
      " 0.12828]\n",
      "\n",
      "Closes eigenvector aproximately equal to 1.00678 \n",
      "\n",
      "For mu=-2.09963:\n",
      "\n",
      "For inversed matrix:\n",
      "Solution found in 33 iterations\n",
      "Dominating eigenvalue is 0.32234\n",
      "Dominating eigenvector is [0.42125 0.42896 0.04395 0.37285 0.26134 0.23357 0.36006 0.20575 0.43173\n",
      " 0.12791]\n",
      "\n",
      "Closes eigenvector aproximately equal to 1.00268 \n",
      "\n",
      "For mu=-1.09963:\n",
      "\n",
      "For inversed matrix:\n",
      "Solution found in 27 iterations\n",
      "Dominating eigenvalue is 0.47611\n",
      "Dominating eigenvector is [0.42136 0.42921 0.04372 0.37274 0.26127 0.2337  0.36013 0.20547 0.4316\n",
      " 0.12775]\n",
      "\n",
      "Closes eigenvector aproximately equal to 1.00074 \n",
      "\n",
      "For mu=-0.09963:\n",
      "\n",
      "For inversed matrix:\n",
      "Solution found in 19 iterations\n",
      "Dominating eigenvalue is 0.90929\n",
      "Dominating eigenvector is [0.42139 0.42928 0.04365 0.37271 0.26125 0.23373 0.36015 0.20539 0.43156\n",
      " 0.12771]\n",
      "\n",
      "Closes eigenvector aproximately equal to 1.00013 \n",
      "\n",
      "For mu=9.89963:\n",
      "\n",
      "For inversed matrix:\n",
      "Solution found in 7 iterations\n",
      "Dominating eigenvalue is 9.96327\n",
      "Dominating eigenvector is [-0.26457 -0.21742 -0.37687 -0.07485 -0.47715 -0.30766 -0.33632 -0.18238\n",
      " -0.51544 -0.02697]\n",
      "\n",
      "Closes eigenvector aproximately equal to 10.00000\n",
      "For mu=8.89963:\n",
      "\n",
      "For inversed matrix:\n",
      "Solution found in 11 iterations\n",
      "Dominating eigenvalue is 9.96326\n",
      "Dominating eigenvector is [-0.20633 -0.01436 -0.21583 -0.18024 -0.43318 -0.41352 -0.44159 -0.43527\n",
      " -0.03064 -0.3662 ]\n",
      "\n",
      "Closes eigenvector aproximately equal to 9.00000\n",
      "For mu=7.89963:\n",
      "\n",
      "For inversed matrix:\n",
      "Solution found in 8 iterations\n",
      "Dominating eigenvalue is 9.96326\n",
      "Dominating eigenvector is [-0.15303 -0.1014  -0.11239 -0.5188  -0.19063 -0.23979 -0.4485  -0.19604\n",
      " -0.40775 -0.42992]\n",
      "\n",
      "Closes eigenvector aproximately equal to 8.00000\n",
      "For mu=6.89963:\n",
      "\n",
      "For inversed matrix:\n",
      "Solution found in 6 iterations\n",
      "Dominating eigenvalue is 9.96330\n",
      "Dominating eigenvector is [0.1826  0.02545 0.4433  0.27882 0.39174 0.37201 0.182   0.11277 0.39788\n",
      " 0.44245]\n",
      "\n",
      "Closes eigenvector aproximately equal to 7.00000\n",
      "For mu=5.89963:\n",
      "\n",
      "For inversed matrix:\n",
      "Solution found in 7 iterations\n",
      "Dominating eigenvalue is 9.96327\n",
      "Dominating eigenvector is [0.26232 0.44248 0.06271 0.33798 0.03315 0.37528 0.41632 0.1948  0.27122\n",
      " 0.43643]\n",
      "\n",
      "Closes eigenvector aproximately equal to 6.00000\n",
      "For mu=4.89963:\n",
      "\n",
      "For inversed matrix:\n",
      "Solution found in 8 iterations\n",
      "Dominating eigenvalue is 9.96327\n",
      "Dominating eigenvector is [-0.02921 -0.35715 -0.55068 -0.32029 -0.32823 -0.05999 -0.08232 -0.25539\n",
      " -0.52439 -0.08622]\n",
      "\n",
      "Closes eigenvector aproximately equal to 5.00000\n",
      "For mu=3.89963:\n",
      "\n",
      "For inversed matrix:\n",
      "Solution found in 7 iterations\n",
      "Dominating eigenvalue is 9.96326\n",
      "Dominating eigenvector is [-0.32241 -0.54572 -0.39602 -0.06144 -0.2008  -0.11919 -0.09719 -0.30954\n",
      " -0.30355 -0.43093]\n",
      "\n",
      "Closes eigenvector aproximately equal to 4.00000\n",
      "For mu=2.89963:\n",
      "\n",
      "For inversed matrix:\n",
      "Solution found in 7 iterations\n",
      "Dominating eigenvalue is 9.96327\n",
      "Dominating eigenvector is [-0.37747 -0.03132 -0.29825 -0.25231 -0.27257 -0.5536  -0.04114 -0.15413\n",
      " -0.23605 -0.49192]\n",
      "\n",
      "Closes eigenvector aproximately equal to 3.00000\n",
      "For mu=1.89963:\n",
      "\n",
      "For inversed matrix:\n",
      "Solution found in 7 iterations\n",
      "Dominating eigenvalue is 9.96327\n",
      "Dominating eigenvector is [0.30665 0.20484 0.21363 0.42437 0.29558 0.11804 0.28084 0.39761 0.49312\n",
      " 0.23843]\n",
      "\n",
      "Closes eigenvector aproximately equal to 2.00000\n",
      "For mu=0.89963:\n",
      "\n",
      "For inversed matrix:\n",
      "Solution found in 9 iterations\n",
      "Dominating eigenvalue is 9.96327\n",
      "Dominating eigenvector is [0.42139 0.4293  0.04364 0.3727  0.26124 0.23374 0.36015 0.20538 0.43156\n",
      " 0.1277 ]\n",
      "\n",
      "Closes eigenvector aproximately equal to 1.00000\n"
     ]
    }
   ],
   "source": [
    "np.random.seed=7 #setting random seed\n",
    "# mus = [4.8, 6.7, 5, 2]\n",
    "# mus = [8.1]\n",
    "# x0=np.random.randint(1, A4.shape[0], size=A4.shape[0])\n",
    "x0=np.random.rand(A4.shape[0]) #setting initial value of x0\n",
    "acc=0.0001 #setting accuracy\n",
    "\n",
    "print(\"Serching for biggest eigenvalue...\")\n",
    "alpha_max = power_eigen(A4, x0, acc) #identifying range in which all other eigenvalues lies\n",
    "print(\"Range to search for remaining eigenvalues is (%.5f;\" %(-alpha_max), \"%.5f)\\n\" %alpha_max)\n",
    "\n",
    "mus = np.arange(-alpha_max-0.1, 0, 1) #creating range for negative part of interval\n",
    "\n",
    "for mu in mus: #executing for each value of mu in interval\n",
    "    print(\"For mu=%.5f:\" %mu)\n",
    "    print(\"\\nFor inversed matrix:\")\n",
    "    res = inverse_power_eigen(A4, mu, x0, acc) #calling inverse power method\n",
    "    print(\"\\nCloses eigenvector aproximately equal to %.5f \\n\" %res)\n",
    "    \n",
    "mus = np.arange(alpha_max-0.1, 0, -1) #creating range for positive part of interval\n",
    "\n",
    "for mu in mus: #executing for each value of mu in interval\n",
    "    print(\"For mu=%.5f:\" %mu)\n",
    "    print(\"\\nFor inversed matrix:\")\n",
    "    res = inverse_power_eigen(A4, mu, x0, acc) #calling inverse power method\n",
    "    print(\"\\nCloses eigenvector aproximately equal to %.5f\" %res)"
   ]
  },
  {
   "cell_type": "markdown",
   "metadata": {},
   "source": [
    "Looping over negative and positive sides on interval gives us possibility to identify allpossible eigenvalues for matrix $A$. Since eigenvalues of $A$ known to us we could observe that all steps across negative side of interval produce eigenvalue 1, which is closest eigenvalue for given approxiamtions. For positive side of interval we are able to find all eigenvalues of $A$ with given approximations $\\mu$.\n",
    "\n",
    "Remark: In certain circumstances search accross negative interval produce eigenvalue of 2 instead of 1. My assumption - it happens when random generation of $x_0$ has certain zero values.  "
   ]
  },
  {
   "cell_type": "markdown",
   "metadata": {},
   "source": [
    "# Problem 5"
   ]
  },
  {
   "cell_type": "markdown",
   "metadata": {},
   "source": [
    "Setting up matrix $A=D+uu^T$ for given $D=diag\\{1,2,3,4,5,6,7,8,9,10\\}$ and random vector $u$ of size 10."
   ]
  },
  {
   "cell_type": "code",
   "execution_count": 24,
   "metadata": {},
   "outputs": [],
   "source": [
    "np.random.seed=7 #setting random seed value\n",
    "\n",
    "D = np.diag([1,2,3,4,5,6,7,8,9,10]) #setting matrix D\n",
    "\n",
    "# u=np.random.randint(1, D.shape[0], size=D.shape[0])\n",
    "\n",
    "u=np.random.rand(D.shape[0]) #setting random vector u\n",
    "\n",
    "A5 = D + colvec(u)*u #calculating matrix A"
   ]
  },
  {
   "cell_type": "markdown",
   "metadata": {},
   "source": [
    "## Task (a)\n",
    "\n",
    "Implementing QR algorithm to find eigenvalues and eigenvectors of matrix A"
   ]
  },
  {
   "cell_type": "code",
   "execution_count": 45,
   "metadata": {},
   "outputs": [],
   "source": [
    "def QR_eigens(A, acc): #QR algorithm implementation\n",
    "    A_old=A #setting initial matrix A\n",
    "    iter=0\n",
    "    EVcs=np.identity(A.shape[0]) #setting initial eigenvectors matrix as identity\n",
    "    \n",
    "    while True: #iterate unless accuracy achieved\n",
    "        Q, R = np.linalg.qr(A_old) #performing QR decomposition using built-in method of Python\n",
    "        A_new = np.dot(R, Q) #calculating new matrix A\n",
    "        EVcs = np.dot(EVcs, Q) #calculating eigenvectors matrix by multiplying by Q on each iteration\n",
    "        \n",
    "        if np.linalg.norm(A_new-A_old) < acc: #stop iterating if difference between new and old matrices is less than accuracy\n",
    "            print(\"Solution found in %s\" %(iter+1), \"iteration(s) with accuracy %s\" %acc)\n",
    "            print(\"\\nEigenvalues of matrix A are: \\n %s\" %np.diag(A_new).round(5))\n",
    "            print(\"\\nEigenvectors are: \\n %s\" %EVcs.round(5))\n",
    "            print(\"\\nDominating eigenvector is \\n %s\" %EVcs[:,0].round(5)) #printing out dominating eigenvector to compare with power method\n",
    "            break\n",
    "        \n",
    "        A_old=A_new #updating old values with new one\n",
    "        iter+=1"
   ]
  },
  {
   "cell_type": "code",
   "execution_count": 46,
   "metadata": {
    "scrolled": false
   },
   "outputs": [
    {
     "name": "stdout",
     "output_type": "stream",
     "text": [
      "Finding eigenvalues of A by using QR method executed untill accuracy 0.000 achieved:\n",
      "\n",
      "Solution found in 100 iteration(s) with accuracy 0.0001\n",
      "\n",
      "Eigenvalues of matrix A are: \n",
      " [10.66812  9.2244   8.08728  7.43969  6.1299   5.09142  4.0078   3.02042\n",
      "  2.17657  1.01562]\n",
      "\n",
      "Eigenvectors are: \n",
      " [[ 0.01562  0.00785  0.00683  0.01332  0.00818 -0.00893 -0.00379 -0.01005\n",
      "  -0.04714 -0.99849]\n",
      " [ 0.05503  0.02822  0.02511  0.0498   0.03209 -0.03731 -0.01793 -0.06287\n",
      "  -0.9919   0.05005]\n",
      " [ 0.01974  0.01039  0.00953  0.01936  0.01343 -0.0175  -0.01133 -0.9969\n",
      "   0.06748  0.00788]\n",
      " [ 0.01549  0.00845  0.0081   0.01705  0.01347 -0.02288 -0.99899  0.01418\n",
      "   0.0208   0.00357]\n",
      " [ 0.06579  0.03774  0.03872  0.08682  0.0917  -0.98636  0.02837  0.02534\n",
      "   0.0485   0.00967]\n",
      " [ 0.09676  0.05988  0.0694   0.17821  0.9661   0.12021  0.01711  0.02039\n",
      "   0.04338  0.00936]\n",
      " [ 0.19306  0.13609  0.20931  0.91502 -0.22612  0.08972  0.01786  0.02393\n",
      "   0.05391  0.01222]\n",
      " [ 0.09761  0.09093  0.95369 -0.26525 -0.03869  0.02165  0.00492  0.00703\n",
      "   0.01642  0.00385]\n",
      " [ 0.29043  0.92289 -0.16991 -0.17625 -0.0469   0.02997  0.00732  0.0109\n",
      "   0.02607  0.00627]\n",
      " [ 0.92264 -0.33975 -0.1032  -0.1367  -0.04425  0.03037  0.00776  0.01188\n",
      "   0.02893  0.00709]]\n",
      "\n",
      "Dominating eigenvector is \n",
      " [0.01562 0.05503 0.01974 0.01549 0.06579 0.09676 0.19306 0.09761 0.29043\n",
      " 0.92264]\n"
     ]
    }
   ],
   "source": [
    "acc=0.0001 #setting accuracy\n",
    "\n",
    "print(\"Finding eigenvalues of A by using QR method executed untill accuracy %.3f achieved:\\n\" %acc) \n",
    "QR_eigens(A5, acc) #executing QR method for matrix A"
   ]
  },
  {
   "cell_type": "markdown",
   "metadata": {},
   "source": [
    "## Task (b)\n"
   ]
  },
  {
   "cell_type": "code",
   "execution_count": 47,
   "metadata": {},
   "outputs": [
    {
     "name": "stdout",
     "output_type": "stream",
     "text": [
      "Solution found in 41 iterations\n",
      "Dominating eigenvalue is 10.66871\n",
      "Dominating eigenvector is [0.01563 0.05505 0.01974 0.0155  0.06582 0.09681 0.19317 0.09769 0.29118\n",
      " 0.92236]\n"
     ]
    },
    {
     "data": {
      "text/plain": [
       "10.668708624478894"
      ]
     },
     "execution_count": 47,
     "metadata": {},
     "output_type": "execute_result"
    }
   ],
   "source": [
    "np.random.seed=7\n",
    "# x0=np.random.randint(1, A5.shape[0], size=A5.shape[0])\n",
    "x0=np.random.rand(D.shape[0])\n",
    "acc=0.0001\n",
    "\n",
    "power_eigen(A5, x0, acc)\n"
   ]
  }
 ],
 "metadata": {
  "kernelspec": {
   "display_name": "Python 3",
   "language": "python",
   "name": "python3"
  },
  "language_info": {
   "codemirror_mode": {
    "name": "ipython",
    "version": 3
   },
   "file_extension": ".py",
   "mimetype": "text/x-python",
   "name": "python",
   "nbconvert_exporter": "python",
   "pygments_lexer": "ipython3",
   "version": "3.7.3"
  }
 },
 "nbformat": 4,
 "nbformat_minor": 2
}
