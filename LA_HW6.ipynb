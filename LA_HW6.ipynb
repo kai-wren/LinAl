{
 "cells": [
  {
   "cell_type": "code",
   "execution_count": 107,
   "metadata": {},
   "outputs": [],
   "source": [
    "import numpy as np\n",
    "\n",
    "from sympy import *"
   ]
  },
  {
   "cell_type": "markdown",
   "metadata": {},
   "source": [
    "# Problem 1"
   ]
  },
  {
   "cell_type": "markdown",
   "metadata": {},
   "source": [
    "## Task (c)"
   ]
  },
  {
   "cell_type": "code",
   "execution_count": 1,
   "metadata": {},
   "outputs": [],
   "source": [
    "def LDU_matrixes(M):\n",
    "    L = np.tril(M, -1)\n",
    "    U = np.triu(M, 1)\n",
    "    D = np.diag(np.diag(M))\n",
    "    \n",
    "    return L, D, U"
   ]
  },
  {
   "cell_type": "code",
   "execution_count": 70,
   "metadata": {},
   "outputs": [],
   "source": [
    "def Jacobi_Iter_Single(Bj, dj, x_old):\n",
    "    x_new = np.dot(Bj, x_old) + dj\n",
    "    return x_new\n",
    "\n",
    "def Jacobi_Iter (L, D, U, b, x0):\n",
    "    Bj = np.dot(-np.linalg.inv(D), (L+U))\n",
    "    dj = np.dot(np.linalg.inv(D), b)\n",
    "    x_old = x0\n",
    "    \n",
    "    for i in range(0, 10):\n",
    "        x_new = Jacobi_Iter_Single(Bj, dj, x_old)\n",
    "        print(x_new)\n",
    "        print(np.linalg.norm(x_new - x_old))\n",
    "        x_old = x_new"
   ]
  },
  {
   "cell_type": "code",
   "execution_count": 71,
   "metadata": {},
   "outputs": [
    {
     "name": "stdout",
     "output_type": "stream",
     "text": [
      "[0.5 0.  0.5]\n",
      "0.7071067811865476\n",
      "[0.5 0.5 0.5]\n",
      "0.5\n",
      "[0.75 0.5  0.75]\n",
      "0.3535533905932738\n",
      "[0.75 0.75 0.75]\n",
      "0.25\n",
      "[0.875 0.75  0.875]\n",
      "0.1767766952966369\n",
      "[0.875 0.875 0.875]\n",
      "0.125\n",
      "[0.9375 0.875  0.9375]\n",
      "0.08838834764831845\n",
      "[0.9375 0.9375 0.9375]\n",
      "0.0625\n",
      "[0.96875 0.9375  0.96875]\n",
      "0.04419417382415922\n",
      "[0.96875 0.96875 0.96875]\n",
      "0.03125\n"
     ]
    }
   ],
   "source": [
    "A = np.array([[2, -1, 0], [-1, 2, -1], [0, -1, 2]])\n",
    "b=np.array([1, 0, 1])\n",
    "x0=np.array([0, 0, 0])\n",
    "\n",
    "L, D, U = LDU_matrixes(A)\n",
    "\n",
    "Jacobi_Iter(L, D, U, b, x0)\n"
   ]
  },
  {
   "cell_type": "markdown",
   "metadata": {},
   "source": [
    "Jacobi decay rate equals to p(A)**k"
   ]
  },
  {
   "cell_type": "markdown",
   "metadata": {},
   "source": [
    "## Task(d)"
   ]
  },
  {
   "cell_type": "code",
   "execution_count": 310,
   "metadata": {},
   "outputs": [],
   "source": [
    "def GS_Iter_Single(Bgs, dgs, x_old):\n",
    "    x_new = np.dot(Bgs, x_old) + dgs\n",
    "    return x_new\n",
    "\n",
    "def GS_Iter (L, D, U, b, x0):\n",
    "    Bgs = np.dot(-np.linalg.inv(L+D), U)\n",
    "    dgs = np.dot(np.linalg.inv(L+D), b)\n",
    "    x_old = x0\n",
    "    norms=[]\n",
    "#     xs.append(x_old)\n",
    "    \n",
    "    for i in range(0, 10):\n",
    "        x_new = GS_Iter_Single(Bgs, dgs, x_old)\n",
    "#         print(x_new)\n",
    "#         xs.append(x_new)\n",
    "#         print(xs[i-2])\n",
    "        norms.append(np.linalg.norm(x_new - x_old))\n",
    "#         print(np.linalg.norm(x_new - x_old))\n",
    "        print(norms[i]/norms[i-1])\n",
    "        x_old = x_new\n",
    "    \n",
    "    print(norms)"
   ]
  },
  {
   "cell_type": "code",
   "execution_count": 311,
   "metadata": {
    "scrolled": true
   },
   "outputs": [
    {
     "name": "stdout",
     "output_type": "stream",
     "text": [
      "1.0\n",
      "0.5217491947499509\n",
      "0.6428571428571429\n",
      "0.5\n",
      "0.5\n",
      "0.5\n",
      "0.5\n",
      "0.5\n",
      "0.5\n",
      "0.5\n",
      "[0.8385254915624212, 0.4375, 0.28125, 0.140625, 0.0703125, 0.03515625, 0.017578125, 0.0087890625, 0.00439453125, 0.002197265625]\n"
     ]
    }
   ],
   "source": [
    "A = np.array([[2, -1, 0], [-1, 2, -1], [0, -1, 2]])\n",
    "b=np.array([1, 0, 1])\n",
    "x0=np.array([0, 0, 0])\n",
    "\n",
    "L, D, U = LDU_matrixes(A)\n",
    "\n",
    "GS_Iter(L, D, U, b, x0)"
   ]
  },
  {
   "cell_type": "markdown",
   "metadata": {},
   "source": [
    "## Task (e)"
   ]
  },
  {
   "cell_type": "code",
   "execution_count": 312,
   "metadata": {},
   "outputs": [],
   "source": [
    "def SOR_Iter_Single(Bsor, dsor, x_old):\n",
    "    x_new = np.dot(Bsor, x_old) + dsor\n",
    "    return x_new\n",
    "\n",
    "def SOR_Iter (L, D, U, b, x0, w):\n",
    "    Bsor = np.dot(np.linalg.inv(w*L+D), ((1-w)*D-w*U))\n",
    "    dsor = w*np.dot(np.linalg.inv(w*L+D), b)\n",
    "    x_old = x0\n",
    "    \n",
    "    for i in range(0, 10):\n",
    "        x_new = SOR_Iter_Single(Bsor, dsor, x_old)\n",
    "        print(x_new)\n",
    "        print(np.linalg.norm(x_new - x_old))\n",
    "        x_old = x_new"
   ]
  },
  {
   "cell_type": "code",
   "execution_count": 315,
   "metadata": {},
   "outputs": [
    {
     "name": "stdout",
     "output_type": "stream",
     "text": [
      "[0.55     0.3025   0.716375]\n",
      "0.9524701520913924\n",
      "[0.661375   0.7275125  0.87849438]\n",
      "0.4683190232433876\n",
      "[0.88399437 0.89661756 0.95529022]\n",
      "0.2899198344124941\n",
      "[0.95474022 0.96085499 0.98294122]\n",
      "0.09947863800585222\n",
      "[0.98299622 0.98518009 0.99355493]\n",
      "0.03876548874894403\n",
      "[0.99354943 0.99438939 0.99755867]\n",
      "0.014567472303895528\n",
      "[0.99755922 0.9978759  0.99907588]\n",
      "0.005525949257535369\n",
      "[0.99907582 0.99919585 0.99965013]\n",
      "0.0020909569304179846\n",
      "[0.99965013 0.99969556 0.99986754]\n",
      "0.000791715843896457\n",
      "[0.99986754 0.99988474 0.99994985]\n",
      "0.00029972156950813696\n"
     ]
    }
   ],
   "source": [
    "A = np.array([[2, -1, 0], [-1, 2, -1], [0, -1, 2]])\n",
    "b=np.array([1, 0, 1])\n",
    "x0=np.array([0, 0, 0])\n",
    "w=1.1\n",
    "\n",
    "L, D, U = LDU_matrixes(A)\n",
    "\n",
    "SOR_Iter(L, D, U, b, x0, w)"
   ]
  },
  {
   "cell_type": "markdown",
   "metadata": {},
   "source": [
    "# Problem 2"
   ]
  },
  {
   "cell_type": "markdown",
   "metadata": {},
   "source": [
    "## Task (b)"
   ]
  },
  {
   "cell_type": "code",
   "execution_count": 119,
   "metadata": {},
   "outputs": [
    {
     "data": {
      "text/plain": [
       "{-a*sqrt(-4*a - 3)/2 - 3*a/2 - 1: 1, a*sqrt(-4*a - 3)/2 - 3*a/2 - 1: 1, 0: 1}"
      ]
     },
     "execution_count": 119,
     "metadata": {},
     "output_type": "execute_result"
    }
   ],
   "source": [
    "A = Matrix([[0, -(a+1)**2, (a+1)**2], [0, -(a+1), (a+1)-(a+1)**2], [0, a, -2*a-1]])\n",
    "A.eigenvals()"
   ]
  },
  {
   "cell_type": "markdown",
   "metadata": {},
   "source": [
    "## Task (c)"
   ]
  },
  {
   "cell_type": "code",
   "execution_count": 145,
   "metadata": {},
   "outputs": [],
   "source": [
    "def colvec(rowvec):\n",
    "    v = np.asarray(rowvec)\n",
    "    return v.reshape(v.size,1)"
   ]
  },
  {
   "cell_type": "code",
   "execution_count": 267,
   "metadata": {},
   "outputs": [],
   "source": [
    "def Jacobi_Alpha(x0, acc, alpha, u):\n",
    "    x_old = x0\n",
    "    iter = 0\n",
    "    \n",
    "    while True:\n",
    "#         print('Iteration=', iter)\n",
    "        x_new = (1/(alpha+1))*(np.dot((-colvec(u)*u+np.identity(3)), x_old) + u)\n",
    "#         print('1=',(1/(alpha+1)))\n",
    "#         print('2=', np.dot((colvec(u)*u+np.identity(3)), x_old))\n",
    "#         print('3=', u)\n",
    "#         print('4=', x_new)\n",
    "#         print(np.linalg.norm(x_new - x_old))\n",
    "        if (np.linalg.norm(x_new - x_old) < acc) and (iter > 0):\n",
    "            print(\"Solution found in %s\" %iter, \"iterations with accuracy %.3f\" %acc)\n",
    "            print(\"Solution is %s\" %x_new)\n",
    "            break\n",
    "        iter += 1\n",
    "        x_old = x_new"
   ]
  },
  {
   "cell_type": "code",
   "execution_count": 274,
   "metadata": {
    "scrolled": true
   },
   "outputs": [
    {
     "name": "stdout",
     "output_type": "stream",
     "text": [
      "Alpha = 2\n",
      "Solution found in 16 iterations with accuracy 0.001\n",
      "Solution is [ 0.20020299 -0.20020299  0.20020299]\n",
      "Alpha = -4\n",
      "Solution found in 16 iterations with accuracy 0.001\n",
      "Solution is [-0.99898504  0.99898504 -0.99898504]\n",
      "Alpha = 5\n",
      "Solution found in 6 iterations with accuracy 0.001\n",
      "Solution is [ 0.12505716 -0.12505716  0.12505716]\n",
      "Alpha = -7\n",
      "Solution found in 6 iterations with accuracy 0.001\n",
      "Solution is [-0.24988569  0.24988569 -0.24988569]\n"
     ]
    }
   ],
   "source": [
    "u=np.array([1, -1, 1])\n",
    "x0=np.array([0, 0, 0])\n",
    "alphas = [2, -4, 5, -7]\n",
    "acc = 0.001\n",
    "\n",
    "for alpha in alphas:\n",
    "    print(\"Alpha = %.0f\" %alpha)\n",
    "    Jacobi_Alpha(x0, acc, alpha, u)"
   ]
  },
  {
   "cell_type": "markdown",
   "metadata": {},
   "source": [
    "## Task (d)\n"
   ]
  },
  {
   "cell_type": "code",
   "execution_count": 322,
   "metadata": {},
   "outputs": [],
   "source": [
    "def GS_Alpha(x0, acc, alpha):\n",
    "    x_old = x0\n",
    "    iter = 0\n",
    "    Bgs =  -1 * np.array([[0, -(alpha+1)**2, (alpha+1)**2], \n",
    "                                       [0, -(alpha+1), (alpha+1)-(alpha+1)**2], \n",
    "                                       [0, alpha, -2*alpha-1]])\n",
    "    \n",
    "    dgs=np.array([[(alpha+1)**2], [(alpha+1)-(alpha+1)**2], [-2*alpha-1+(alpha+1)**2]])\n",
    "    \n",
    "    while True:\n",
    "        \n",
    "        x_new = (1/(alpha+1)**3)*(np.dot(Bgs, colvec(x_old))+dgs)\n",
    "#         print(np.dot(Bgs, colvec(x_old)))\n",
    "#         print(x_new)\n",
    "        if (np.linalg.norm(x_new - x_old) < acc) and (iter > 0):\n",
    "            print(\"Solution found in %s\" %iter, \"with accuracy %.3f\" %acc)\n",
    "            print(\"Solution is %s\" %x_new.T)\n",
    "            break\n",
    "        iter += 1\n",
    "        x_old = x_new"
   ]
  },
  {
   "cell_type": "code",
   "execution_count": 323,
   "metadata": {
    "scrolled": true
   },
   "outputs": [
    {
     "name": "stdout",
     "output_type": "stream",
     "text": [
      "Alpha = 2\n",
      "Solution found in 4 with accuracy 0.001\n",
      "Solution is [[ 0.1997895  -0.2000151   0.20006513]]\n",
      "Alpha = -4\n",
      "Solution found in 9 with accuracy 0.001\n",
      "Solution is [[-0.99944338  0.99957274 -0.99967204]]\n",
      "Alpha = 5\n",
      "Solution found in 3 with accuracy 0.001\n",
      "Solution is [[ 0.12498361 -0.12499756  0.12500314]]\n",
      "Alpha = -7\n",
      "Solution found in 4 with accuracy 0.001\n",
      "Solution is [[-0.24997562  0.24998778 -0.2499939 ]]\n"
     ]
    }
   ],
   "source": [
    "x0=np.array([0, 0, 0])\n",
    "alphas = [2, -4, 5, -7]\n",
    "acc = 0.001\n",
    "\n",
    "for alpha in alphas:\n",
    "    print(\"Alpha = %.0f\" %alpha)\n",
    "    GS_Alpha(x0, acc, alpha)"
   ]
  },
  {
   "cell_type": "markdown",
   "metadata": {},
   "source": [
    "## Task (e)"
   ]
  },
  {
   "cell_type": "code",
   "execution_count": 340,
   "metadata": {},
   "outputs": [],
   "source": [
    "def SOR_Iter_Single(Bsor, dsor, x_old):\n",
    "    x_new = np.dot(Bsor, x_old) + dsor\n",
    "    return x_new\n",
    "\n",
    "def SOR_Iter (L, D, U, b, x0, w):\n",
    "    Bsor = np.dot(np.linalg.inv(w*L+D), ((1-w)*D-w*U))\n",
    "    dsor = w*np.dot(np.linalg.inv(w*L+D), b)\n",
    "    x_old = x0\n",
    "    iter = 0\n",
    "    \n",
    "    while True:\n",
    "        x_new = SOR_Iter_Single(Bsor, dsor, x_old)\n",
    "#         print(x_new)\n",
    "#         print(np.linalg.norm(x_new - x_old))\n",
    "        if (np.linalg.norm(x_new - x_old) < acc) and (iter > 0):\n",
    "            print(\"Solution found in %s\" %iter, \"with accuracy %.3f\" %acc)\n",
    "            print(\"Solution is %s\" %x_new.T)\n",
    "            break\n",
    "        iter += 1\n",
    "        x_old = x_new"
   ]
  },
  {
   "cell_type": "code",
   "execution_count": 341,
   "metadata": {},
   "outputs": [
    {
     "name": "stdout",
     "output_type": "stream",
     "text": [
      "For w=0\n",
      "Alpha = 2\n",
      "Solution found in 23 with accuracy 0.001\n",
      "Solution is [ 0.19907474 -0.19708226  0.19507826]\n",
      "Alpha = -4\n",
      "Solution found in 117 with accuracy 0.001\n",
      "Solution is [-0.98391535  0.98410245 -0.98428737]\n",
      "Alpha = 5\n",
      "Solution found in 24 with accuracy 0.001\n",
      "Solution is [ 0.12175914 -0.1212829   0.12080389]\n",
      "Alpha = -7\n",
      "Solution found in 49 with accuracy 0.001\n",
      "Solution is [-0.24236741  0.24253093 -0.24269201]\n",
      "For w=1\n",
      "Alpha = 2\n",
      "Solution found in 4 with accuracy 0.001\n",
      "Solution is [ 0.2002637  -0.19993771  0.19991392]\n",
      "Alpha = -4\n",
      "Solution found in 7 with accuracy 0.001\n",
      "Solution is [-0.99972612  0.99981196 -0.9998703 ]\n",
      "Alpha = 5\n",
      "Solution found in 3 with accuracy 0.001\n",
      "Solution is [ 0.1250697  -0.12507936  0.12499641]\n",
      "Alpha = -7\n",
      "Solution found in 3 with accuracy 0.001\n",
      "Solution is [-0.24988462  0.25001157 -0.24997599]\n"
     ]
    }
   ],
   "source": [
    "b=np.array([1, -1, 1])\n",
    "x0=np.array([0, 0, 0])\n",
    "ws=[0.1, 1.1]\n",
    "alphas = [2, -4, 5, -7]\n",
    "acc = 0.001\n",
    "\n",
    "for w in ws:\n",
    "    print(\"For w=%.f\" %w)\n",
    "    for alpha in alphas:\n",
    "        print(\"Alpha = %.0f\" %alpha)\n",
    "        A = np.array([[alpha+1, -1, 1], [-1, alpha+1, -1], [1, -1, alpha+1]])\n",
    "\n",
    "        L, D, U = LDU_matrixes(A)\n",
    "\n",
    "        SOR_Iter(L, D, U, b, x0, w)"
   ]
  },
  {
   "cell_type": "markdown",
   "metadata": {},
   "source": [
    "# Problem 3"
   ]
  },
  {
   "cell_type": "markdown",
   "metadata": {},
   "source": [
    "## Task(a)"
   ]
  },
  {
   "cell_type": "code",
   "execution_count": 249,
   "metadata": {},
   "outputs": [],
   "source": [
    "def conjugate_product(a, b, A):\n",
    "    return (np.dot(np.dot(a, A), b))"
   ]
  },
  {
   "cell_type": "code",
   "execution_count": 251,
   "metadata": {},
   "outputs": [
    {
     "name": "stdout",
     "output_type": "stream",
     "text": [
      "0\n"
     ]
    }
   ],
   "source": [
    "a = np.array([1,1,0])\n",
    "b = np.array([0,0,-1])\n",
    "A=np.array([[1,1,-1], [-1,1,1], [1,1,1]])\n",
    "\n",
    "print(conjugate_product(a, b, A))"
   ]
  },
  {
   "cell_type": "code",
   "execution_count": null,
   "metadata": {},
   "outputs": [],
   "source": [
    "A = np.array([[2, -1, 0], [-1, 2, -1], [0, -1, 2]])\n",
    "b=np.array([1, 0, 1])\n",
    "x0=np.array([0, 0, 0])\n",
    "\n",
    "x_old=x0\n",
    "\n",
    "def CGM(b, A):\n",
    "    r = b-np.dot(A, x_old)\n",
    "    \n",
    "    for i in len(b):\n",
    "        p = r - "
   ]
  }
 ],
 "metadata": {
  "kernelspec": {
   "display_name": "Python 3",
   "language": "python",
   "name": "python3"
  },
  "language_info": {
   "codemirror_mode": {
    "name": "ipython",
    "version": 3
   },
   "file_extension": ".py",
   "mimetype": "text/x-python",
   "name": "python",
   "nbconvert_exporter": "python",
   "pygments_lexer": "ipython3",
   "version": "3.7.3"
  }
 },
 "nbformat": 4,
 "nbformat_minor": 2
}
