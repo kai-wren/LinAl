{
 "cells": [
  {
   "cell_type": "code",
   "execution_count": 1,
   "metadata": {},
   "outputs": [],
   "source": [
    "import numpy as np"
   ]
  },
  {
   "cell_type": "markdown",
   "metadata": {},
   "source": [
    "# Problem 1"
   ]
  },
  {
   "cell_type": "markdown",
   "metadata": {},
   "source": [
    "## Task (c)"
   ]
  },
  {
   "cell_type": "code",
   "execution_count": 2,
   "metadata": {},
   "outputs": [],
   "source": [
    "def LDU_matrixes(M):\n",
    "    L = np.tril(M, -1)\n",
    "    U = np.triu(M, 1)\n",
    "    D = np.diag(np.diag(M))\n",
    "    \n",
    "    return L, D, U"
   ]
  },
  {
   "cell_type": "code",
   "execution_count": 3,
   "metadata": {},
   "outputs": [],
   "source": [
    "def Jacobi_Iter_Single(Bj, dj, x_old):\n",
    "    x_new = np.dot(Bj, x_old) + dj\n",
    "    return x_new\n",
    "\n",
    "def Jacobi_Iter (L, D, U, b, x0):\n",
    "    Bj = np.dot(-np.linalg.inv(D), (L+U))\n",
    "    dj = np.dot(np.linalg.inv(D), b)\n",
    "    x_old = x0\n",
    "    \n",
    "    for i in range(0, 10):\n",
    "        x_new = Jacobi_Iter_Single(Bj, dj, x_old)\n",
    "        print(x_new)\n",
    "        print(np.linalg.norm(x_new - x_old))\n",
    "        x_old = x_new"
   ]
  },
  {
   "cell_type": "code",
   "execution_count": 4,
   "metadata": {},
   "outputs": [
    {
     "name": "stdout",
     "output_type": "stream",
     "text": [
      "[0.5 0.  0.5]\n",
      "0.7071067811865476\n",
      "[0.5 0.5 0.5]\n",
      "0.5\n",
      "[0.75 0.5  0.75]\n",
      "0.3535533905932738\n",
      "[0.75 0.75 0.75]\n",
      "0.25\n",
      "[0.875 0.75  0.875]\n",
      "0.1767766952966369\n",
      "[0.875 0.875 0.875]\n",
      "0.125\n",
      "[0.9375 0.875  0.9375]\n",
      "0.08838834764831845\n",
      "[0.9375 0.9375 0.9375]\n",
      "0.0625\n",
      "[0.96875 0.9375  0.96875]\n",
      "0.04419417382415922\n",
      "[0.96875 0.96875 0.96875]\n",
      "0.03125\n"
     ]
    }
   ],
   "source": [
    "A = np.array([[2, -1, 0], [-1, 2, -1], [0, -1, 2]])\n",
    "b=np.array([1, 0, 1])\n",
    "x0=np.array([0, 0, 0])\n",
    "\n",
    "L, D, U = LDU_matrixes(A)\n",
    "\n",
    "Jacobi_Iter(L, D, U, b, x0)\n"
   ]
  },
  {
   "cell_type": "markdown",
   "metadata": {},
   "source": [
    "Jacobi decay rate equals to p(A)**k"
   ]
  },
  {
   "cell_type": "markdown",
   "metadata": {},
   "source": [
    "## Task(d)"
   ]
  },
  {
   "cell_type": "code",
   "execution_count": 5,
   "metadata": {},
   "outputs": [],
   "source": [
    "def GS_Iter_Single(Bgs, dgs, x_old):\n",
    "    x_new = np.dot(Bgs, x_old) + dgs\n",
    "    return x_new\n",
    "\n",
    "def GS_Iter (L, D, U, b, x0):\n",
    "    Bgs = np.dot(-np.linalg.inv(L+D), U)\n",
    "    dgs = np.dot(np.linalg.inv(L+D), b)\n",
    "    x_old = x0\n",
    "    norms=[]\n",
    "#     xs.append(x_old)\n",
    "    \n",
    "    for i in range(0, 10):\n",
    "        x_new = GS_Iter_Single(Bgs, dgs, x_old)\n",
    "#         print(x_new)\n",
    "#         xs.append(x_new)\n",
    "#         print(xs[i-2])\n",
    "        norms.append(np.linalg.norm(x_new - x_old))\n",
    "#         print(np.linalg.norm(x_new - x_old))\n",
    "        print(norms[i]/norms[i-1])\n",
    "        x_old = x_new\n",
    "    \n",
    "    print(norms)"
   ]
  },
  {
   "cell_type": "code",
   "execution_count": 6,
   "metadata": {
    "scrolled": true
   },
   "outputs": [
    {
     "name": "stdout",
     "output_type": "stream",
     "text": [
      "1.0\n",
      "0.5217491947499509\n",
      "0.6428571428571429\n",
      "0.5\n",
      "0.5\n",
      "0.5\n",
      "0.5\n",
      "0.5\n",
      "0.5\n",
      "0.5\n",
      "[0.8385254915624212, 0.4375, 0.28125, 0.140625, 0.0703125, 0.03515625, 0.017578125, 0.0087890625, 0.00439453125, 0.002197265625]\n"
     ]
    }
   ],
   "source": [
    "A = np.array([[2, -1, 0], [-1, 2, -1], [0, -1, 2]])\n",
    "b=np.array([1, 0, 1])\n",
    "x0=np.array([0, 0, 0])\n",
    "\n",
    "L, D, U = LDU_matrixes(A)\n",
    "\n",
    "GS_Iter(L, D, U, b, x0)"
   ]
  },
  {
   "cell_type": "markdown",
   "metadata": {},
   "source": [
    "## Task (e)"
   ]
  },
  {
   "cell_type": "code",
   "execution_count": 7,
   "metadata": {},
   "outputs": [],
   "source": [
    "def SOR_Iter_Single(Bsor, dsor, x_old):\n",
    "    x_new = np.dot(Bsor, x_old) + dsor\n",
    "    return x_new\n",
    "\n",
    "def SOR_Iter (L, D, U, b, x0, w):\n",
    "    Bsor = np.dot(np.linalg.inv(w*L+D), ((1-w)*D-w*U))\n",
    "    dsor = w*np.dot(np.linalg.inv(w*L+D), b)\n",
    "    x_old = x0\n",
    "    \n",
    "    for i in range(0, 10):\n",
    "        x_new = SOR_Iter_Single(Bsor, dsor, x_old)\n",
    "        print(x_new)\n",
    "        print(np.linalg.norm(x_new - x_old))\n",
    "        x_old = x_new"
   ]
  },
  {
   "cell_type": "code",
   "execution_count": 8,
   "metadata": {},
   "outputs": [
    {
     "name": "stdout",
     "output_type": "stream",
     "text": [
      "[0.55     0.3025   0.716375]\n",
      "0.9524701520913924\n",
      "[0.661375   0.7275125  0.87849438]\n",
      "0.4683190232433876\n",
      "[0.88399437 0.89661756 0.95529022]\n",
      "0.2899198344124941\n",
      "[0.95474022 0.96085499 0.98294122]\n",
      "0.09947863800585222\n",
      "[0.98299622 0.98518009 0.99355493]\n",
      "0.03876548874894403\n",
      "[0.99354943 0.99438939 0.99755867]\n",
      "0.014567472303895528\n",
      "[0.99755922 0.9978759  0.99907588]\n",
      "0.005525949257535369\n",
      "[0.99907582 0.99919585 0.99965013]\n",
      "0.0020909569304179846\n",
      "[0.99965013 0.99969556 0.99986754]\n",
      "0.000791715843896457\n",
      "[0.99986754 0.99988474 0.99994985]\n",
      "0.00029972156950813696\n"
     ]
    }
   ],
   "source": [
    "A = np.array([[2, -1, 0], [-1, 2, -1], [0, -1, 2]])\n",
    "b=np.array([1, 0, 1])\n",
    "x0=np.array([0, 0, 0])\n",
    "w=1.1\n",
    "\n",
    "L, D, U = LDU_matrixes(A)\n",
    "\n",
    "SOR_Iter(L, D, U, b, x0, w)"
   ]
  },
  {
   "cell_type": "markdown",
   "metadata": {},
   "source": [
    "# Problem 2"
   ]
  },
  {
   "cell_type": "markdown",
   "metadata": {},
   "source": [
    "## Task (c)"
   ]
  },
  {
   "cell_type": "code",
   "execution_count": 9,
   "metadata": {},
   "outputs": [],
   "source": [
    "def colvec(rowvec):\n",
    "    v = np.asarray(rowvec)\n",
    "    return v.reshape(v.size,1)"
   ]
  },
  {
   "cell_type": "code",
   "execution_count": 10,
   "metadata": {},
   "outputs": [],
   "source": [
    "def Jacobi_Alpha(x0, acc, alpha, u):\n",
    "    x_old = x0\n",
    "    iter = 0\n",
    "    \n",
    "    while True:\n",
    "#         print('Iteration=', iter)\n",
    "        x_new = (1/(alpha+1))*(np.dot((-colvec(u)*u+np.identity(3)), x_old) + u)\n",
    "#         print('1=',(1/(alpha+1)))\n",
    "#         print('2=', np.dot((colvec(u)*u+np.identity(3)), x_old))\n",
    "#         print('3=', u)\n",
    "#         print('4=', x_new)\n",
    "#         print(np.linalg.norm(x_new - x_old))\n",
    "        if (np.linalg.norm(x_new - x_old) < acc) and (iter > 0):\n",
    "            print(\"Solution found in %s\" %(iter+1), \"iterations with accuracy %.3f\" %acc)\n",
    "            print(\"Solution is %s\" %x_new)\n",
    "            break\n",
    "        iter += 1\n",
    "        x_old = x_new"
   ]
  },
  {
   "cell_type": "code",
   "execution_count": 11,
   "metadata": {
    "scrolled": true
   },
   "outputs": [
    {
     "name": "stdout",
     "output_type": "stream",
     "text": [
      "Alpha = 2\n",
      "Solution found in 17 iterations with accuracy 0.001\n",
      "Solution is [ 0.20020299 -0.20020299  0.20020299]\n",
      "Alpha = -4\n",
      "Solution found in 17 iterations with accuracy 0.001\n",
      "Solution is [-0.99898504  0.99898504 -0.99898504]\n",
      "Alpha = 5\n",
      "Solution found in 7 iterations with accuracy 0.001\n",
      "Solution is [ 0.12505716 -0.12505716  0.12505716]\n",
      "Alpha = -7\n",
      "Solution found in 7 iterations with accuracy 0.001\n",
      "Solution is [-0.24988569  0.24988569 -0.24988569]\n"
     ]
    }
   ],
   "source": [
    "u=np.array([1, -1, 1])\n",
    "x0=np.array([0, 0, 0])\n",
    "alphas = [2, -4, 5, -7]\n",
    "acc = 0.001\n",
    "\n",
    "for alpha in alphas:\n",
    "    print(\"Alpha = %.0f\" %alpha)\n",
    "    Jacobi_Alpha(x0, acc, alpha, u)"
   ]
  },
  {
   "cell_type": "markdown",
   "metadata": {},
   "source": [
    "## Task (d)\n"
   ]
  },
  {
   "cell_type": "code",
   "execution_count": 12,
   "metadata": {},
   "outputs": [],
   "source": [
    "def GS_Alpha(x0, acc, alpha):\n",
    "    x_old = x0\n",
    "    iter = 0\n",
    "    Bgs =  -1 * np.array([[0, -(alpha+1)**2, (alpha+1)**2], \n",
    "                                       [0, -(alpha+1), (alpha+1)-(alpha+1)**2], \n",
    "                                       [0, alpha, -2*alpha-1]])\n",
    "    \n",
    "    dgs=np.array([[(alpha+1)**2], [(alpha+1)-(alpha+1)**2], [-2*alpha-1+(alpha+1)**2]])\n",
    "    \n",
    "    while True:\n",
    "        \n",
    "        x_new = (1/(alpha+1)**3)*(np.dot(Bgs, colvec(x_old))+dgs)\n",
    "#         print(np.dot(Bgs, colvec(x_old)))\n",
    "#         print(x_new)\n",
    "        if (np.linalg.norm(x_new - x_old) < acc) and (iter > 0):\n",
    "            print(\"Solution found in %s\" %(iter+1), \"with accuracy %.3f\" %acc)\n",
    "            print(\"Solution is %s\" %x_new.T)\n",
    "            break\n",
    "        iter += 1\n",
    "        x_old = x_new"
   ]
  },
  {
   "cell_type": "code",
   "execution_count": 13,
   "metadata": {
    "scrolled": true
   },
   "outputs": [
    {
     "name": "stdout",
     "output_type": "stream",
     "text": [
      "Alpha = 2\n",
      "Solution found in 5 with accuracy 0.001\n",
      "Solution is [[ 0.1997895  -0.2000151   0.20006513]]\n",
      "Alpha = -4\n",
      "Solution found in 10 with accuracy 0.001\n",
      "Solution is [[-0.99944338  0.99957274 -0.99967204]]\n",
      "Alpha = 5\n",
      "Solution found in 4 with accuracy 0.001\n",
      "Solution is [[ 0.12498361 -0.12499756  0.12500314]]\n",
      "Alpha = -7\n",
      "Solution found in 5 with accuracy 0.001\n",
      "Solution is [[-0.24997562  0.24998778 -0.2499939 ]]\n"
     ]
    }
   ],
   "source": [
    "x0=np.array([0, 0, 0])\n",
    "alphas = [2, -4, 5, -7]\n",
    "acc = 0.001\n",
    "\n",
    "for alpha in alphas:\n",
    "    print(\"Alpha = %.0f\" %alpha)\n",
    "    GS_Alpha(x0, acc, alpha)"
   ]
  },
  {
   "cell_type": "markdown",
   "metadata": {},
   "source": [
    "## Task (e)"
   ]
  },
  {
   "cell_type": "code",
   "execution_count": 14,
   "metadata": {},
   "outputs": [],
   "source": [
    "def SOR_Iter_Single(Bsor, dsor, x_old):\n",
    "    x_new = np.dot(Bsor, x_old) + dsor\n",
    "    return x_new\n",
    "\n",
    "def SOR_Iter (L, D, U, b, x0, w):\n",
    "    Bsor = np.dot(np.linalg.inv(w*L+D), ((1-w)*D-w*U))\n",
    "    dsor = w*np.dot(np.linalg.inv(w*L+D), b)\n",
    "    x_old = x0\n",
    "    iter = 0\n",
    "    \n",
    "    while True:\n",
    "        x_new = SOR_Iter_Single(Bsor, dsor, x_old)\n",
    "#         print(x_new)\n",
    "#         print(np.linalg.norm(x_new - x_old))\n",
    "        if (np.linalg.norm(x_new - x_old) < acc) and (iter > 0):\n",
    "            print(\"Solution found in %s\" %(iter+1), \"with accuracy %.3f\" %acc)\n",
    "            print(\"Solution is %s\" %x_new.T)\n",
    "            break\n",
    "        iter += 1\n",
    "        x_old = x_new"
   ]
  },
  {
   "cell_type": "code",
   "execution_count": 15,
   "metadata": {},
   "outputs": [
    {
     "name": "stdout",
     "output_type": "stream",
     "text": [
      "For w=0\n",
      "Alpha = 2\n",
      "Solution found in 24 with accuracy 0.001\n",
      "Solution is [ 0.19907474 -0.19708226  0.19507826]\n",
      "Alpha = -4\n",
      "Solution found in 118 with accuracy 0.001\n",
      "Solution is [-0.98391535  0.98410245 -0.98428737]\n",
      "Alpha = 5\n",
      "Solution found in 25 with accuracy 0.001\n",
      "Solution is [ 0.12175914 -0.1212829   0.12080389]\n",
      "Alpha = -7\n",
      "Solution found in 50 with accuracy 0.001\n",
      "Solution is [-0.24236741  0.24253093 -0.24269201]\n",
      "For w=1\n",
      "Alpha = 2\n",
      "Solution found in 5 with accuracy 0.001\n",
      "Solution is [ 0.2002637  -0.19993771  0.19991392]\n",
      "Alpha = -4\n",
      "Solution found in 8 with accuracy 0.001\n",
      "Solution is [-0.99972612  0.99981196 -0.9998703 ]\n",
      "Alpha = 5\n",
      "Solution found in 4 with accuracy 0.001\n",
      "Solution is [ 0.1250697  -0.12507936  0.12499641]\n",
      "Alpha = -7\n",
      "Solution found in 4 with accuracy 0.001\n",
      "Solution is [-0.24988462  0.25001157 -0.24997599]\n"
     ]
    }
   ],
   "source": [
    "b=np.array([1, -1, 1])\n",
    "x0=np.array([0, 0, 0])\n",
    "ws=[0.1, 1.1]\n",
    "alphas = [2, -4, 5, -7]\n",
    "acc = 0.001\n",
    "\n",
    "for w in ws:\n",
    "    print(\"For w=%.f\" %w)\n",
    "    for alpha in alphas:\n",
    "        print(\"Alpha = %.0f\" %alpha)\n",
    "        A = np.array([[alpha+1, -1, 1], [-1, alpha+1, -1], [1, -1, alpha+1]])\n",
    "\n",
    "        L, D, U = LDU_matrixes(A)\n",
    "\n",
    "        SOR_Iter(L, D, U, b, x0, w)"
   ]
  },
  {
   "cell_type": "markdown",
   "metadata": {},
   "source": [
    "# Problem 3"
   ]
  },
  {
   "cell_type": "code",
   "execution_count": 16,
   "metadata": {},
   "outputs": [],
   "source": [
    "def CGM(b, A, x0, acc):\n",
    "    \n",
    "    x_old=x0\n",
    "    r0 = b-np.dot(A, x_old)\n",
    "    r_old=r0\n",
    "    p_old=r0\n",
    "    iter=0\n",
    "    \n",
    "    while True:\n",
    "        print(\"Iteration %s\" %iter)\n",
    "        alpha_k=(np.dot(np.transpose(r_old), r_old))/(np.dot(np.transpose(p_old),np.dot(A, p_old)))\n",
    "        x_new = x_old + np.dot(alpha_k, p_old)\n",
    "        print(\"Conjugate gradient is p=%s\" %p_old)\n",
    "        r_new = r_old - alpha_k*np.dot(A, p_old)\n",
    "        if (np.linalg.norm(r_new) < acc):\n",
    "            print(\"Solution is %s\" %x_new, \"found in %s\" %(iter+1), \"iterations\")\n",
    "            break\n",
    "        beta = (np.dot(np.transpose(r_new), r_new))/(np.dot(np.transpose(r_old), r_old))\n",
    "        p_new = r_new + np.dot(beta, p_old)\n",
    "        iter+=1\n",
    "        x_old=x_new\n",
    "        r_old=r_new\n",
    "        p_old=p_new\n"
   ]
  },
  {
   "cell_type": "markdown",
   "metadata": {},
   "source": [
    "## Task(a)"
   ]
  },
  {
   "cell_type": "code",
   "execution_count": 17,
   "metadata": {},
   "outputs": [
    {
     "name": "stdout",
     "output_type": "stream",
     "text": [
      "Iteration 0\n",
      "Conjugate gradient is p=[1 0 1]\n",
      "Iteration 1\n",
      "Conjugate gradient is p=[0.5 1.  0.5]\n",
      "Solution is [1. 1. 1.] found in 2 iterations\n"
     ]
    }
   ],
   "source": [
    "A = np.array([[2, -1, 0], [-1, 2, -1], [0, -1, 2]])\n",
    "b=np.array([1, 0, 1])\n",
    "x0=np.array([0, 0, 0])\n",
    "acc = 0.001\n",
    "        \n",
    "CGM(b, A, x0, acc)"
   ]
  },
  {
   "cell_type": "markdown",
   "metadata": {},
   "source": [
    "## Task (b)"
   ]
  },
  {
   "cell_type": "code",
   "execution_count": 18,
   "metadata": {
    "scrolled": true
   },
   "outputs": [
    {
     "name": "stdout",
     "output_type": "stream",
     "text": [
      "Iteration 0\n",
      "Conjugate gradient is p=[1 0 1]\n",
      "Iteration 1\n",
      "Conjugate gradient is p=[0.22222222 0.66666667 0.22222222]\n",
      "Solution is [0.5 0.5 0.5] found in 2 iterations\n"
     ]
    }
   ],
   "source": [
    "alpha=1\n",
    "A = np.array([[alpha+1, -1, 1], [-1, alpha+1, -1], [1, -1, alpha+1]])\n",
    "b=np.array([1, 0, 1])\n",
    "x0=np.array([0, 0, 0])\n",
    "acc = 0.001\n",
    "        \n",
    "CGM(b, A, x0, acc)"
   ]
  },
  {
   "cell_type": "markdown",
   "metadata": {},
   "source": [
    "# Problem 4"
   ]
  },
  {
   "cell_type": "code",
   "execution_count": 19,
   "metadata": {},
   "outputs": [],
   "source": [
    "np.random.seed=7\n",
    "\n",
    "D = np.diag([1,2,3,4,5,6,7,8,9,10])\n",
    "\n",
    "P = np.random.randint(1, 10, size=(10, 10))\n",
    "\n",
    "A4 = np.dot(np.dot(P, D),np.linalg.inv(P))"
   ]
  },
  {
   "cell_type": "markdown",
   "metadata": {},
   "source": [
    "## Task (a)"
   ]
  },
  {
   "cell_type": "code",
   "execution_count": 46,
   "metadata": {},
   "outputs": [],
   "source": [
    "def power_eigen(A, x0, acc):\n",
    "    x_old=x0\n",
    "    iter=0\n",
    "    alpha_k_old=0\n",
    "    \n",
    "    while True:\n",
    "        alpha_k=np.absolute(x_old).max()\n",
    "        x_new = np.dot(A, x_old)/alpha_k\n",
    "        \n",
    "        if np.linalg.norm(alpha_k-alpha_k_old) < acc:\n",
    "            print(\"Solution found in %s\" %iter, \"iterations\")\n",
    "            print(\"Dominating eigenvalue is %.5f\" %alpha_k)\n",
    "            print(\"Dominating eigenvector is %s\" %x_new)\n",
    "            return alpha_k\n",
    "            break\n",
    "            \n",
    "        alpha_k_old=alpha_k\n",
    "        x_old=x_new\n",
    "        iter+=1"
   ]
  },
  {
   "cell_type": "code",
   "execution_count": 47,
   "metadata": {
    "scrolled": false
   },
   "outputs": [
    {
     "name": "stdout",
     "output_type": "stream",
     "text": [
      "Solution found in 66 iterations\n",
      "Dominating eigenvalue is 10.00086\n",
      "Dominating eigenvector is [ -5.00269849  -2.49498882  -3.75173469  -8.75212019  -6.25134924\n",
      "  -3.74710894 -10.00077096  -7.50462594  -6.25134919  -7.49653061]\n",
      "Checking result...\n",
      "Maximal eigenvalue via built-in function is  10.000000000000012\n",
      "(array([ 1.,  2., 10.,  3.,  9.,  4.,  5.,  8.,  6.,  7.]), array([[ 0.15249857,  0.44232587, -0.24209101,  0.33145961,  0.07106691,\n",
      "        -0.43915503, -0.0939682 , -0.38023455,  0.11268723,  0.54570516],\n",
      "       [ 0.38124643,  0.24573659, -0.12104551,  0.37881098,  0.42640143,\n",
      "        -0.29277002, -0.0939682 , -0.57035183,  0.22537447,  0.12126781],\n",
      "       [ 0.30499714,  0.09829464, -0.18156826,  0.09470274,  0.07106691,\n",
      "        -0.34156503, -0.0939682 , -0.06337243,  0.16903085,  0.06063391],\n",
      "       [ 0.07624929,  0.19658927, -0.42365927,  0.37881098,  0.28426762,\n",
      "        -0.39036003, -0.28190459, -0.19011728,  0.45074894,  0.30316953],\n",
      "       [ 0.30499714,  0.44232587, -0.30261377,  0.42616235,  0.21320072,\n",
      "        -0.29277002, -0.42285689, -0.2534897 ,  0.11268723,  0.24253563],\n",
      "       [ 0.38124643,  0.29488391, -0.18156826,  0.23675686,  0.35533453,\n",
      "        -0.09759001, -0.42285689, -0.38023455,  0.3380617 ,  0.36380344],\n",
      "       [ 0.22874786,  0.34403123, -0.48418203,  0.23675686,  0.42640143,\n",
      "        -0.09759001, -0.37587279, -0.12674485,  0.39440532,  0.12126781],\n",
      "       [ 0.45749571,  0.34403123, -0.36313652,  0.09470274,  0.07106691,\n",
      "        -0.34156503, -0.42285689, -0.5069794 ,  0.22537447,  0.48507125],\n",
      "       [ 0.15249857,  0.39317855, -0.30261377,  0.33145961,  0.21320072,\n",
      "        -0.19518001, -0.32888869, -0.06337243,  0.50709255,  0.30316953],\n",
      "       [ 0.45749571,  0.14744196, -0.36313652,  0.42616235,  0.56853524,\n",
      "        -0.43915503, -0.32888869, -0.06337243,  0.3380617 ,  0.24253563]]))\n"
     ]
    }
   ],
   "source": [
    "np.random.seed=7\n",
    "x0=np.random.randint(1, A4.shape[0], size=A4.shape[0])\n",
    "acc=0.0001\n",
    "\n",
    "power_eigen(A4, x0, acc)\n",
    "\n",
    "print(\"Checking result...\")\n",
    "print(\"Maximal eigenvalue via built-in function is \", max(np.linalg.eig(A4)[0]))\n",
    "\n",
    "print(np.linalg.eig(A4))"
   ]
  },
  {
   "cell_type": "code",
   "execution_count": 55,
   "metadata": {},
   "outputs": [],
   "source": [
    "def power_method(A, x_0, max_iter_to, eps):\n",
    "    i = 0\n",
    "    while i < max_iter_to:\n",
    "        x_1 = A@x_0\n",
    "        lam = np.amax(np.abs(x_1))  \n",
    "        x_1 = (1/lam)*x_1\n",
    "        if np.linalg.norm(x_1-x_0) < eps:\n",
    "            return lam, x_1  \n",
    "        x_0 = x_1\n",
    "        i = i+1\n",
    "    print ('Power method did not converge')"
   ]
  },
  {
   "cell_type": "code",
   "execution_count": 57,
   "metadata": {},
   "outputs": [
    {
     "name": "stdout",
     "output_type": "stream",
     "text": [
      "10.000710579064343\n",
      "[0.50021321 0.24952044 0.37513323 0.87513324 0.62507996 0.37470693\n",
      " 1.         0.7503731  0.62507994 0.74962695]\n",
      "Checking result...\n",
      "Maximal eigenvalue via built-in function is  10.000000000000012\n",
      "(array([ 1.,  2., 10.,  3.,  9.,  4.,  5.,  8.,  6.,  7.]), array([[ 0.15249857,  0.44232587, -0.24209101,  0.33145961,  0.07106691,\n",
      "        -0.43915503, -0.0939682 , -0.38023455,  0.11268723,  0.54570516],\n",
      "       [ 0.38124643,  0.24573659, -0.12104551,  0.37881098,  0.42640143,\n",
      "        -0.29277002, -0.0939682 , -0.57035183,  0.22537447,  0.12126781],\n",
      "       [ 0.30499714,  0.09829464, -0.18156826,  0.09470274,  0.07106691,\n",
      "        -0.34156503, -0.0939682 , -0.06337243,  0.16903085,  0.06063391],\n",
      "       [ 0.07624929,  0.19658927, -0.42365927,  0.37881098,  0.28426762,\n",
      "        -0.39036003, -0.28190459, -0.19011728,  0.45074894,  0.30316953],\n",
      "       [ 0.30499714,  0.44232587, -0.30261377,  0.42616235,  0.21320072,\n",
      "        -0.29277002, -0.42285689, -0.2534897 ,  0.11268723,  0.24253563],\n",
      "       [ 0.38124643,  0.29488391, -0.18156826,  0.23675686,  0.35533453,\n",
      "        -0.09759001, -0.42285689, -0.38023455,  0.3380617 ,  0.36380344],\n",
      "       [ 0.22874786,  0.34403123, -0.48418203,  0.23675686,  0.42640143,\n",
      "        -0.09759001, -0.37587279, -0.12674485,  0.39440532,  0.12126781],\n",
      "       [ 0.45749571,  0.34403123, -0.36313652,  0.09470274,  0.07106691,\n",
      "        -0.34156503, -0.42285689, -0.5069794 ,  0.22537447,  0.48507125],\n",
      "       [ 0.15249857,  0.39317855, -0.30261377,  0.33145961,  0.21320072,\n",
      "        -0.19518001, -0.32888869, -0.06337243,  0.50709255,  0.30316953],\n",
      "       [ 0.45749571,  0.14744196, -0.36313652,  0.42616235,  0.56853524,\n",
      "        -0.43915503, -0.32888869, -0.06337243,  0.3380617 ,  0.24253563]]))\n"
     ]
    }
   ],
   "source": [
    "np.random.seed=7\n",
    "x0=np.random.randint(1, A4.shape[0], size=A4.shape[0])\n",
    "acc=0.0001\n",
    "\n",
    "a, b = power_method(A4, x0, 100, acc)\n",
    "\n",
    "print(a)\n",
    "print(b)\n",
    "\n",
    "print(\"Checking result...\")\n",
    "print(\"Maximal eigenvalue via built-in function is \", max(np.linalg.eig(A4)[0]))\n",
    "\n",
    "print(np.linalg.eig(A4))"
   ]
  },
  {
   "cell_type": "markdown",
   "metadata": {},
   "source": [
    "## Task (b)"
   ]
  },
  {
   "cell_type": "code",
   "execution_count": 48,
   "metadata": {},
   "outputs": [],
   "source": [
    "def inverse_power_eigen(A, mu, x0, acc):\n",
    "    Amu = (A-mu*np.identity(A.shape[0]))\n",
    "    A_inv = np.linalg.inv(Amu)\n",
    "    \n",
    "    lambd_mu = power_eigen(A_inv, x0, acc)\n",
    "    \n",
    "    lambd = (1 + mu*lambd_mu)/lambd_mu\n",
    "    return lambd"
   ]
  },
  {
   "cell_type": "code",
   "execution_count": 54,
   "metadata": {
    "scrolled": false
   },
   "outputs": [
    {
     "name": "stdout",
     "output_type": "stream",
     "text": [
      "For inversed matrix:\n",
      "Solution found in 8 iterations\n",
      "Dominating eigenvalue is 10.00000\n",
      "Dominating eigenvector is [-10.00000018  -2.22222229  -1.11111113  -5.55555566  -4.44444453\n",
      "  -6.6666668   -2.22222227  -8.88888906  -5.55555565  -4.44444452]\n",
      "Closes eigenvector aproximately equal to 7.20000\n"
     ]
    }
   ],
   "source": [
    "np.random.seed=7\n",
    "# mus = [4.8, 6.2, 7.5, 2.5]\n",
    "mus = [7.1]\n",
    "x0=np.random.randint(1, A4.shape[0], size=A4.shape[0])\n",
    "acc=0.0001\n",
    "\n",
    "for mu in mus:\n",
    "    print(\"For inversed matrix:\")\n",
    "    res = inverse_power_eigen(A4, mu, x0, acc)\n",
    "    print(\"Closes eigenvector aproximately equal to %.5f\" %res)"
   ]
  },
  {
   "cell_type": "markdown",
   "metadata": {},
   "source": [
    "# Problem 5"
   ]
  },
  {
   "cell_type": "markdown",
   "metadata": {},
   "source": [
    "## Task (a)"
   ]
  },
  {
   "cell_type": "code",
   "execution_count": 24,
   "metadata": {},
   "outputs": [],
   "source": [
    "np.random.seed=7\n",
    "\n",
    "D = np.diag([1,2,3,4,5,6,7,8,9,10])\n",
    "\n",
    "u=np.random.randint(1, D.shape[0], size=D.shape[0])\n",
    "\n",
    "A5 = D + colvec(u)*u"
   ]
  },
  {
   "cell_type": "code",
   "execution_count": 34,
   "metadata": {},
   "outputs": [],
   "source": [
    "def QR_eigens(A, acc):\n",
    "    A_old=A\n",
    "    iter=0\n",
    "    EVcs=np.identity(A.shape[0])\n",
    "    \n",
    "    while True:\n",
    "        Q, R = np.linalg.qr(A_old)\n",
    "        A_new = np.dot(R, Q)\n",
    "        if iter == 0:\n",
    "            EVcs = Q\n",
    "        else:\n",
    "            EVcs = np.dot(EVcs, Q)\n",
    "        \n",
    "        if np.linalg.norm(A_new-A_old) < acc:\n",
    "            print(\"Solution found in %s\" %(iter+1), \"iteration(s) with accuracy %s\" %acc)\n",
    "            print(\"Eigenvalues of matrix A are: \\n %s\" %np.diag(A_new).round(4))\n",
    "            print(\"Eigenvectors are: \\n %s\" %EVcs.round(4))\n",
    "            break\n",
    "        \n",
    "        A_old=A_new\n",
    "        iter+=1"
   ]
  },
  {
   "cell_type": "code",
   "execution_count": 35,
   "metadata": {
    "scrolled": false
   },
   "outputs": [
    {
     "name": "stdout",
     "output_type": "stream",
     "text": [
      "Solution found in 94 iteration(s) with accuracy 0.0001\n",
      "Eigenvalues of matrix A are: \n",
      " [345.9806   9.8569   8.4634   7.7021   6.6546   5.3773   4.9171   3.5881\n",
      "   2.4532   1.0065]\n",
      "Eigenvectors are: \n",
      " [[ 0.0535  0.0038  0.0081  0.0088  0.0097 -0.0169 -0.0096 -0.017  -0.0273\n",
      "  -0.9977]\n",
      " [ 0.4831  0.039   0.0838  0.0934  0.1065 -0.1976 -0.1162 -0.2487 -0.7875\n",
      "   0.0589]\n",
      " [ 0.4307  0.0397  0.0882  0.1007  0.1205 -0.2495 -0.1571 -0.5969  0.5801\n",
      "   0.0261]\n",
      " [ 0.378   0.0407  0.0944  0.1119  0.1452 -0.3768 -0.2872  0.7457  0.1794\n",
      "   0.0152]\n",
      " [ 0.1083  0.014   0.0348  0.0438  0.0666 -0.3947  0.9055  0.0622  0.0311\n",
      "   0.0033]\n",
      " [ 0.3259  0.053   0.1467  0.2087  0.5047  0.7148  0.2091  0.1092  0.0671\n",
      "   0.0078]\n",
      " [ 0.2724  0.0596  0.2058  0.4216 -0.7973  0.2286  0.0905  0.0643  0.0436\n",
      "   0.0054]\n",
      " [ 0.2185  0.0733  0.5193 -0.7955 -0.1637  0.1131  0.0489  0.0398  0.0286\n",
      "   0.0037]\n",
      " [ 0.3836  0.2781 -0.7854 -0.3192 -0.1644  0.1433  0.0646  0.0568  0.0424\n",
      "   0.0057]\n",
      " [ 0.2198 -0.9518 -0.1567 -0.103  -0.0658  0.0642  0.0296  0.0274  0.021\n",
      "   0.0029]]\n"
     ]
    }
   ],
   "source": [
    "acc=0.0001\n",
    "\n",
    "QR_eigens(A5, acc)"
   ]
  },
  {
   "cell_type": "markdown",
   "metadata": {},
   "source": [
    "## Task (b)\n"
   ]
  },
  {
   "cell_type": "code",
   "execution_count": 40,
   "metadata": {},
   "outputs": [
    {
     "name": "stdout",
     "output_type": "stream",
     "text": [
      "Solution found in 6 iterations\n",
      "Dominating eigenvalue is 345.98064\n",
      "Dominating eigenvector is [ 38.3308604  345.98064232 308.43501259 270.66980535  77.56102957\n",
      " 233.36748971 195.04660725 156.49896102 274.68590852 157.43055612]\n",
      "(array([345.98064231,   1.00651112,   9.85692304,   2.45317808,\n",
      "         3.58808548,   8.46343656,   7.70214853,   6.65464773,\n",
      "         5.37732832,   4.91709883]), array([[-0.05352647, -0.99773282, -0.00384397, -0.02728614, -0.01695496,\n",
      "         0.00806546, -0.00883607,  0.00973848, -0.01695454,  0.00958778],\n",
      "       [-0.4831387 ,  0.05885043, -0.03899895, -0.78747099, -0.24868176,\n",
      "         0.08381991, -0.09347104,  0.10647617, -0.19777185,  0.11587079],\n",
      "       [-0.43070875,  0.02607032, -0.03972131,  0.58010288, -0.59693196,\n",
      "         0.0881439 , -0.10075503,  0.12054278, -0.24974458,  0.15672132],\n",
      "       [-0.37797218,  0.01519115, -0.04069035,  0.17943976,  0.7457036 ,\n",
      "         0.0944054 , -0.11197403,  0.14520711, -0.37718621,  0.28665828],\n",
      "       [-0.10830876,  0.00325348, -0.01401947,  0.03113812,  0.06215798,\n",
      "         0.03476089, -0.04383226,  0.06656121, -0.39337417, -0.90604948],\n",
      "       [-0.325882  ,  0.0078058 , -0.05296307,  0.06707687,  0.10916028,\n",
      "         0.14661488, -0.2087502 ,  0.50470816,  0.71513391, -0.20808703],\n",
      "       [-0.27236947,  0.00541952, -0.05958464,  0.04360367,  0.06430536,\n",
      "         0.20566684, -0.42171021, -0.79726819,  0.22868337, -0.09015378],\n",
      "       [-0.21854027,  0.00371566, -0.07333798,  0.02859412,  0.03978398,\n",
      "         0.5195626 ,  0.79530433, -0.16372716,  0.11319085, -0.04872849],\n",
      "       [-0.3835804 ,  0.00568895, -0.27811159,  0.04239635,  0.05675739,\n",
      "        -0.78531725,  0.31940827, -0.16435643,  0.143405  , -0.06438901],\n",
      "       [-0.21984118,  0.00288936,  0.95181634,  0.02101633,  0.02737459,\n",
      "        -0.15670313,  0.10308872, -0.0658438 ,  0.0642188 , -0.029555  ]]))\n"
     ]
    }
   ],
   "source": [
    "np.random.seed=7\n",
    "x0=np.random.randint(1, A5.shape[0], size=A5.shape[0])\n",
    "acc=0.0001\n",
    "\n",
    "power_eigen(A5, x0, acc)\n",
    "\n",
    "print(np.linalg.eig(A5))"
   ]
  }
 ],
 "metadata": {
  "kernelspec": {
   "display_name": "Python 3",
   "language": "python",
   "name": "python3"
  },
  "language_info": {
   "codemirror_mode": {
    "name": "ipython",
    "version": 3
   },
   "file_extension": ".py",
   "mimetype": "text/x-python",
   "name": "python",
   "nbconvert_exporter": "python",
   "pygments_lexer": "ipython3",
   "version": "3.7.3"
  }
 },
 "nbformat": 4,
 "nbformat_minor": 2
}
