{
  "nbformat": 4,
  "nbformat_minor": 0,
  "metadata": {
    "colab": {
      "name": "Project_OS_DB_MM.ipynb",
      "provenance": [],
      "collapsed_sections": []
    },
    "kernelspec": {
      "name": "python3",
      "display_name": "Python 3"
    }
  },
  "cells": [
    {
      "cell_type": "code",
      "metadata": {
        "id": "GMIb7FA9KK0K",
        "colab_type": "code",
        "outputId": "313b39d8-4fcf-466b-de47-f7f967e5bc96",
        "colab": {
          "base_uri": "https://localhost:8080/",
          "height": 127
        }
      },
      "source": [
        "!pip install pulp #installing pulp if it is not present yet"
      ],
      "execution_count": 0,
      "outputs": [
        {
          "output_type": "stream",
          "text": [
            "Collecting pulp\n",
            "\u001b[?25l  Downloading https://files.pythonhosted.org/packages/fb/34/ff5915ff6bae91cfb7c4cc22c3c369a6aea0b2127045dd5f308a91c260ac/PuLP-2.0-py3-none-any.whl (39.2MB)\n",
            "\u001b[K     |████████████████████████████████| 39.2MB 100kB/s \n",
            "\u001b[?25hRequirement already satisfied: pyparsing>=2.0.1 in /usr/local/lib/python3.6/dist-packages (from pulp) (2.4.6)\n",
            "Installing collected packages: pulp\n",
            "Successfully installed pulp-2.0\n"
          ],
          "name": "stdout"
        }
      ]
    },
    {
      "cell_type": "code",
      "metadata": {
        "id": "qlWaEs63JV6a",
        "colab_type": "code",
        "colab": {}
      },
      "source": [
        "import numpy as np #importing required libraries\n",
        "import pandas as pd\n",
        "from scipy.optimize import linprog\n",
        "from pulp import *"
      ],
      "execution_count": 0,
      "outputs": []
    },
    {
      "cell_type": "markdown",
      "metadata": {
        "id": "7goeE8TqHOOo",
        "colab_type": "text"
      },
      "source": [
        "# PuLP model"
      ]
    },
    {
      "cell_type": "markdown",
      "metadata": {
        "id": "5sXPfkhjEnhJ",
        "colab_type": "text"
      },
      "source": [
        "Block below contains input data for our problem specified in form of dictionaries to be consumed by PuLP package later. For convinience we've split all variables per primary skill."
      ]
    },
    {
      "cell_type": "code",
      "metadata": {
        "id": "_rJhtYP8knTf",
        "colab_type": "code",
        "colab": {}
      },
      "source": [
        "# Generated data for PuLP\n",
        "\n",
        "# Creates a lists of vvariables for Developers, QA and BA. Pattern to name variables is AA(A)BC(C), where AA(A) - 2 or 3 characters code of Delivery Location, B - Indicates Level of the resource primary skill, \n",
        "# C(C) - 1 or 2 characters indicating primary skill of resource.\n",
        "resources_dev = ['USEJD', 'USEMD', 'USESD', 'USWJD', 'USWMD', 'USWSD', 'UKJD', 'UKMD', 'UKSD', 'INJD', 'INMD', 'INSD']\n",
        "resources_qa = ['USEJQA', 'USEMQA', 'USESQA', 'USWJQA', 'USWMQA', 'USWSQA', 'UKJQA', 'UKMQA', 'UKSQA', 'INJQA', 'INMQA', 'INSQA']\n",
        "resources_ba = ['USEJBA', 'USEMBA', 'USESBA', 'USWJBA', 'USWMBA', 'USWSBA', 'UKJBA', 'UKMBA', 'UKSBA', 'INJBA', 'INMBA', 'INSBA']\n",
        "\n",
        "# A dictionaries of the costs of each set of variables\n",
        "costs_dev = {'USEJD': 500, \n",
        "            'USEMD': 650, \n",
        "            'USESD': 800, \n",
        "            'USWJD': 600, \n",
        "            'USWMD': 750, \n",
        "            'USWSD': 900,\n",
        "            'UKJD': 700, \n",
        "            'UKMD': 850, \n",
        "            'UKSD': 1000, \n",
        "            'INJD': 100, \n",
        "            'INMD': 200, \n",
        "            'INSD': 300}\n",
        "\n",
        "costs_qa = {'USEJQA': 450, \n",
        "            'USEMQA': 550, \n",
        "            'USESQA': 700, \n",
        "            'USWJQA': 550, \n",
        "            'USWMQA': 650, \n",
        "            'USWSQA': 800,\n",
        "            'UKJQA': 600, \n",
        "            'UKMQA': 750, \n",
        "            'UKSQA': 800, \n",
        "            'INJQA': 90, \n",
        "            'INMQA': 180, \n",
        "            'INSQA': 270}\n",
        "\n",
        "costs_ba = {'USEJBA': 550, \n",
        "            'USEMBA': 700, \n",
        "            'USESBA': 900, \n",
        "            'USWJBA': 550, \n",
        "            'USWMBA': 700, \n",
        "            'USWSBA': 850,\n",
        "            'UKJBA': 750, \n",
        "            'UKMBA': 950, \n",
        "            'UKSBA': 1100, \n",
        "            'INJBA': 150, \n",
        "            'INMBA': 250, \n",
        "            'INSBA': 350}\n",
        "\n",
        "# A dictionary of the final availability of resources calculated as headcount multiplied by availability\n",
        "availability_dev = {'USEJD': 3*1, \n",
        "                    'USEMD': 2*1, \n",
        "                    'USESD': 1*0.5, \n",
        "                    'USWJD': 3*1, \n",
        "                    'USWMD': 2*0.5, \n",
        "                    'USWSD': 1*0.5,\n",
        "                    'UKJD': 4*0.5, \n",
        "                    'UKMD': 3*1, \n",
        "                    'UKSD': 2*1, \n",
        "                    'INJD': 10*1, \n",
        "                    'INMD': 8*1, \n",
        "                    'INSD': 6*0.5}\n",
        "\n",
        "availability_qa = {'USEJQA': 2*1, \n",
        "                    'USEMQA': 2*0.5, \n",
        "                    'USESQA': 2*1, \n",
        "                    'USWJQA': 2*0.5, \n",
        "                    'USWMQA': 2*1, \n",
        "                    'USWSQA': 2*0.5,\n",
        "                    'UKJQA': 3*1, \n",
        "                    'UKMQA': 3*1, \n",
        "                    'UKSQA': 3*0.5, \n",
        "                    'INJQA': 8*0.5, \n",
        "                    'INMQA': 8*1, \n",
        "                    'INSQA': 8*0.5}\n",
        "\n",
        "availability_ba = {'USEJBA': 4*0.5, \n",
        "                    'USEMBA': 1*1, \n",
        "                    'USESBA': 1*1, \n",
        "                    'USWJBA': 1*1, \n",
        "                    'USWMBA': 3*1, \n",
        "                    'USWSBA': 2*0.5,\n",
        "                    'UKJBA': 3*1, \n",
        "                    'UKMBA': 4*0.5, \n",
        "                    'UKSBA': 2*1, \n",
        "                    'INJBA': 7*0.5, \n",
        "                    'INMBA': 10*0.5, \n",
        "                    'INSBA': 7*0.5}"
      ],
      "execution_count": 0,
      "outputs": []
    },
    {
      "cell_type": "markdown",
      "metadata": {
        "id": "ZfImBPT2E_8W",
        "colab_type": "text"
      },
      "source": [
        "Below we are defining main model to carry out experiments with regards to Project Sourcing problem. Model defined using PuLP package since it better works with large amount of variables and constraints. All constraints we assume for this problem are implemented here."
      ]
    },
    {
      "cell_type": "code",
      "metadata": {
        "id": "AEsayWxLZe8h",
        "colab_type": "code",
        "colab": {}
      },
      "source": [
        "def solve_problem(method, constraints_dict): # defining model using PuLP for experiments with our problem\n",
        "  prob = LpProblem(\"The Sourcing Problem\", LpMaximize) # creeating maximization problem\n",
        "\n",
        "  resources_vars_dev = LpVariable.dicts(\"Developer\",resources_dev,0, cat=\"Integer\") #Seting up variables for Developers, QAs and BAs skills\n",
        "  resources_vars_qa = LpVariable.dicts(\"QA\",resources_qa,0, cat=\"Integer\")\n",
        "  resources_vars_ba = LpVariable.dicts(\"BA\",resources_ba,0, cat=\"Integer\")\n",
        "\n",
        "  # adding optimization equation\n",
        "  prob += lpSum([costs_dev[i]*resources_vars_dev[i] for i in resources_dev]) + lpSum([costs_qa[i]*resources_vars_qa[i] for i in resources_qa]) + lpSum([costs_ba[i]*resources_vars_ba[i] for i in resources_ba]), \"Total Cost of Ingredients per can\"\n",
        "\n",
        "  # constraint on total cost of sourcing plan\n",
        "  if constraints_dict['tot_cost'] != None:\n",
        "    prob += lpSum([costs_dev[i]*resources_vars_dev[i] for i in resources_dev]) + lpSum([costs_qa[i]*resources_vars_qa[i] for i in resources_qa]) + lpSum([costs_ba[i]*resources_vars_ba[i] for i in resources_ba]) - constraints_dict['tot_cost'] <= 0, \"Total cost per day limit\"\n",
        "  \n",
        "  # constraint on availability  of particular resources. If enabled, availability is check against respective dictionary\n",
        "  if constraints_dict['availability_dev'] == True:\n",
        "    for var in resources_dev:\n",
        "      prob += resources_vars_dev[var] <= availability_dev[var], \"Developer availability \"+var\n",
        "  if constraints_dict['availability_qa'] == True:\n",
        "    for var in resources_qa:\n",
        "      prob += resources_vars_qa[var] <= availability_qa[var], \"QA availability \"+var\n",
        "  if constraints_dict['availability_ba'] == True:\n",
        "    for var in resources_ba:\n",
        "      prob += resources_vars_ba[var] <= availability_ba[var], \"BA availability \"+var\n",
        "\n",
        "  # constraint on total headcount of developers\n",
        "  if constraints_dict['headcount_dev'] != None:\n",
        "    prob += lpSum([resources_vars_dev[i] for i in resources_dev]) == constraints_dict['headcount_dev'], \"Developer headcount\"\n",
        "  # constraint on total headcount of QAs\n",
        "  if constraints_dict['headcount_qa'] != None:\n",
        "    prob += lpSum([resources_vars_qa[i] for i in resources_qa]) == constraints_dict['headcount_qa'], \"QA headcount\"\n",
        "  # constraint on total headcount of BAs\n",
        "  if constraints_dict['headcount_ba'] != None:\n",
        "    prob += lpSum([resources_vars_ba[i] for i in resources_ba]) == constraints_dict['headcount_ba'], \"BA headcount\"\n",
        "\n",
        "  # constraint on Junior Level resources\n",
        "  if constraints_dict['junior_dev'] != None:\n",
        "    prob += lpSum([resources_vars_dev[i] for i in resources_dev if i[-2] == 'J']) >= constraints_dict['junior_dev'][0], \"Junior Developer lower\"\n",
        "    prob += lpSum([resources_vars_dev[i] for i in resources_dev if i[-2] == 'J']) <= constraints_dict['junior_dev'][1], \"Junior Developer upper\"\n",
        "  if constraints_dict['junior_qa'] != None:\n",
        "    prob += lpSum([resources_vars_qa[i] for i in resources_qa if i[-3] == 'J']) >= constraints_dict['junior_qa'][0], \"Junior QA lower\"\n",
        "    prob += lpSum([resources_vars_qa[i] for i in resources_qa if i[-3] == 'J']) <= constraints_dict['junior_qa'][1], \"Junior QA upper\"\n",
        "  if constraints_dict['junior_ba'] != None:\n",
        "    prob += lpSum([resources_vars_ba[i] for i in resources_ba if i[-3] == 'J']) >= constraints_dict['junior_ba'][0], \"Junior BA lower\"\n",
        "    prob += lpSum([resources_vars_ba[i] for i in resources_ba if i[-3] == 'J']) <= constraints_dict['junior_ba'][1], \"Junior BA upper\"\n",
        "\n",
        "  # constraint on Middle Level resources\n",
        "  if constraints_dict['middle_dev'] != None: \n",
        "    prob += lpSum([resources_vars_dev[i] for i in resources_dev if i[-2] == 'M']) >= constraints_dict['middle_dev'][0], \"Middle Developer lower\"\n",
        "    prob += lpSum([resources_vars_dev[i] for i in resources_dev if i[-2] == 'M']) <= constraints_dict['middle_dev'][1], \"Middle Developer upper\"\n",
        "  if constraints_dict['middle_qa'] != None:\n",
        "    prob += lpSum([resources_vars_qa[i] for i in resources_qa if i[-3] == 'M']) >= constraints_dict['middle_qa'][0], \"Middle QA lower\"\n",
        "    prob += lpSum([resources_vars_qa[i] for i in resources_qa if i[-3] == 'M']) <= constraints_dict['middle_qa'][1], \"Middle QA upper\"\n",
        "  if constraints_dict['middle_ba'] != None:\n",
        "    prob += lpSum([resources_vars_ba[i] for i in resources_ba if i[-3] == 'M']) >= constraints_dict['middle_ba'][0], \"Middle BA lower\"\n",
        "    prob += lpSum([resources_vars_ba[i] for i in resources_ba if i[-3] == 'M']) <= constraints_dict['middle_ba'][1], \"Middle BA upper\"\n",
        "\n",
        "  # constraint on Senior Level resources\n",
        "  if constraints_dict['senior_dev'] != None:\n",
        "    prob += lpSum([resources_vars_dev[i] for i in resources_dev if i[-2] == 'S']) >= constraints_dict['senior_dev'][0], \"Senior Developer lower\"\n",
        "    prob += lpSum([resources_vars_dev[i] for i in resources_dev if i[-2] == 'S']) <= constraints_dict['senior_dev'][1], \"Senior Developer upper\"\n",
        "  if constraints_dict['senior_qa'] != None:\n",
        "    prob += lpSum([resources_vars_qa[i] for i in resources_qa if i[-3] == 'S']) >= constraints_dict['senior_qa'][0], \"Senior QA lower\"\n",
        "    prob += lpSum([resources_vars_qa[i] for i in resources_qa if i[-3] == 'S']) <= constraints_dict['senior_qa'][1], \"Senior QA upper\"\n",
        "  if constraints_dict['senior_ba'] != None:\n",
        "    prob += lpSum([resources_vars_ba[i] for i in resources_ba if i[-3] == 'S']) >= constraints_dict['senior_ba'][0], \"Senior BA lower\"\n",
        "    prob += lpSum([resources_vars_ba[i] for i in resources_ba if i[-3] == 'S']) <= constraints_dict['senior_ba'][1], \"Senior BA upper\"\n",
        "\n",
        "  # constraint on speecific Delivery Location for resources\n",
        "  if constraints_dict['location_dev'] != None:\n",
        "    prob += lpSum([resources_vars_dev[i] for i in resources_dev if i[:2] not in constraints_dict['location_dev']]) == 0 , \"Developers from certain location\"\n",
        "  if constraints_dict['location_qa'] != None:\n",
        "    prob += lpSum([resources_vars_qa[i] for i in resources_qa if i[:2] not in constraints_dict['location_qa']]) == 0 , \"QAs from certain location\"\n",
        "  if constraints_dict['location_ba'] != None:\n",
        "    prob += lpSum([resources_vars_ba[i] for i in resources_ba if i[:2] not in constraints_dict['location_ba']]) == 0 , \"BAs from certain location\"\n",
        "\n",
        "\n",
        "  prob.solve(solver = PULP_CBC_CMD(options=[method])) # solving problem using method from input\n",
        "  print(\"Status:\", LpStatus[prob.status]) # prinmnting solution status\n",
        "\n",
        "  for v in prob.variables(): # printing solution found skipping variables with 0 values\n",
        "    if v.varValue != 0:\n",
        "      print(v.name, \"=\", v.varValue)\n",
        "      \n",
        "  print(\"Total Cost is\", value(prob.objective)) # printing final total cost of team per day\n",
        "\n",
        "  return prob"
      ],
      "execution_count": 0,
      "outputs": []
    },
    {
      "cell_type": "markdown",
      "metadata": {
        "id": "y2kAV3DjH20K",
        "colab_type": "text"
      },
      "source": [
        "Below block shows how model should be consumed using dictionary with constraints and respective values. By using this dictionary we could not only disable constraints which are no longer a priority for us, but also easily change constraints boundaries to allow easy and rapid experiments with different sets of constraints. For each constraint we add short comment which instructs how to use it."
      ]
    },
    {
      "cell_type": "code",
      "metadata": {
        "id": "5JnnQCd0ZjSf",
        "colab_type": "code",
        "outputId": "10b24672-9969-4f88-e57f-4b367d8e4a6a",
        "colab": {
          "base_uri": "https://localhost:8080/",
          "height": 256
        }
      },
      "source": [
        "constraints = {\n",
        "    'tot_cost': 9000, # total cost constraint. If None - constraint is disabled. If some other value then it is absolute max amount of total cost\n",
        "    'availability_dev': True, # availability constraint per resource checked against specific dictionary. Value indicates whether it is enabled (True) or disabled (False, None)\n",
        "    'availability_qa': True,\n",
        "    'availability_ba': True,\n",
        "    'headcount_dev': 7, # constraint on developers headcount. Number represents exact amount of required developers. If None - constraint disabled.\n",
        "    'headcount_qa': 5, # constraint on QAs headcount. Number represents exact amount of required QAs. If None - constraint disabled.\n",
        "    'headcount_ba': 3, # constraint on BAs headcount. Number represents exact amount of required BAs. If None - constraint disabled.\n",
        "    'junior_dev': (0, 4), # constraint on amount of Junior level developers. Numbers indicates lower and upper bounds of interval. If None - constraint disabled. Valid example (0, 4).\n",
        "    'junior_qa': (0, 3), # constraint on amount of Junior level QAs. Numbers indicates lower and upper bounds of interval. If None - constraint disabled. Valid example (0, 3).\n",
        "    'junior_ba': (0, 1), # constraint on amount of Junior level BAs. Numbers indicates lower and upper bounds of interval. If None - constraint disabled. Valid example (0, 1).\n",
        "    'middle_dev': (0, 2), # constraint on amount of Middle level developers. Numbers indicates lower and upper bounds of interval. If None - constraint disabled. Valid example (0, 2).\n",
        "    'middle_qa': (0, 1), # constraint on amount of Middle level QAs. Numbers indicates lower and upper bounds of interval. If None - constraint disabled. Valid example (0, 1).\n",
        "    'middle_ba': (0, 1), # constraint on amount of Middle level BAs. Numbers indicates lower and upper bounds of interval. If None - constraint disabled. Valid example (0, 1).\n",
        "    'senior_dev': (0, 1), # constraint on amount of Senior level developers. Numbers indicates lower and upper bounds of interval. If None - constraint disabled. Valid example (0, 1).\n",
        "    'senior_qa': (0, 1), # constraint on amount of Senior level QAs. Numbers indicates lower and upper bounds of interval. If None - constraint disabled. Valid example (0, 1).\n",
        "    'senior_ba': (0, 1), # constraint on amount of Senior level BAs. Numbers indicates lower and upper bounds of interval. If None - constraint disabled. Valid example (0, 1).\n",
        "    'location_dev': ['IN', 'UK'], # constraint on specific location. List represents allowed locations for developers. If None - constraint disabled. Valid example ['IN', 'UK'].\n",
        "    'location_qa': ['UK'], # constraint on specific location. List represents allowed locations for QAs. If None - constraint disabled. Valid example ['UK'].\n",
        "    'location_ba': ['US'] # constraint on specific location. List represents allowed locations for BAs. If None - constraint disabled. Valid example ['US'].\n",
        "}\n",
        "\n",
        "problem = solve_problem(method='dualSimplex', constraints_dict=constraints) # solve defined problem\n",
        "\n",
        "# print(problem)"
      ],
      "execution_count": 9,
      "outputs": [
        {
          "output_type": "stream",
          "text": [
            "Status: Optimal\n",
            "BA_USEMBA = 1.0\n",
            "BA_USESBA = 1.0\n",
            "BA_USWJBA = 1.0\n",
            "Developer_INJD = 4.0\n",
            "Developer_UKMD = 2.0\n",
            "Developer_UKSD = 1.0\n",
            "QA_UKJQA = 3.0\n",
            "QA_UKMQA = 1.0\n",
            "QA_UKSQA = 1.0\n",
            "Total Cost is 8600.0\n"
          ],
          "name": "stdout"
        },
        {
          "output_type": "stream",
          "text": [
            "/usr/local/lib/python3.6/dist-packages/pulp/pulp.py:1137: UserWarning: Spaces are not permitted in the name. Converted to '_'\n",
            "  warnings.warn(\"Spaces are not permitted in the name. Converted to '_'\")\n"
          ],
          "name": "stderr"
        }
      ]
    },
    {
      "cell_type": "markdown",
      "metadata": {
        "id": "k-1B_8EXIcEG",
        "colab_type": "text"
      },
      "source": [
        "Result of the model shows values of variables which are not equal to 0. Those variables infdicates team decomposition to fulfill given constraints. If required, problem itself could be printed for more detailed examination. "
      ]
    },
    {
      "cell_type": "markdown",
      "metadata": {
        "id": "s0A_fUrrHKHb",
        "colab_type": "text"
      },
      "source": [
        "# SciPy model"
      ]
    },
    {
      "cell_type": "markdown",
      "metadata": {
        "id": "jOBeqPf56tmn",
        "colab_type": "text"
      },
      "source": [
        "Below model for experiments created with SciPy package. It is simplified model which uses only part of dataset (only data about developers). We simplified it because SciPy package is cumbersome when you need to work with big number of variables or constraints. However, since it is works directly with constraint matrix $A$ and RHS vector $b$ it fits better to showcase our idea of priority matrix $W$, which is used to disable constraint which are not a priority any more. As described in report main idea here is left multiplication of $Ax=b$ with matrix $W$ to remove cosntraints without priority."
      ]
    },
    {
      "cell_type": "code",
      "metadata": {
        "id": "lTws30VEKlsP",
        "colab_type": "code",
        "colab": {}
      },
      "source": [
        "def solve_problem_with_matricies(W_matrix): #defining problem solver function with scipy\n",
        "\n",
        "  c = [-500, -650, -800, -600, -750, -900, -700, -850, -1000, -100, -200, -300] # specifying function for maximization\n",
        "  A = [[1, 1, 1, 1, 1, 1, 1, 1, 1, 1, 1, 1], # constraint on total number of resource\n",
        "      [500, 650, 800, 600, 750, 900, 700, 850, 1000, 100, 200, 300], # upper bound for total cost of team per day\n",
        "      [1, 1, 1, 0, 0, 0, 0, 0, 0, 0, 0, 0], # number of developers from US East\n",
        "      [0, 0, 0, 1, 1, 1, 0, 0, 0, 0, 0, 0], # number of developers from US West\n",
        "      [0, 0, 0, 0, 0, 0, 1, 1, 1, 0, 0, 0], # number of developers from UK\n",
        "      [0, 0, 0, 0, 0, 0, 0, 0, 0, 1, 1, 1]] # number of developers from India\n",
        "  b = [10,\n",
        "      7000,\n",
        "      4,\n",
        "      4,\n",
        "      4,\n",
        "      4]\n",
        "  x0_bounds = (0, 3) #lower and upper bound of our variables representing availability of resources.\n",
        "  x1_bounds = (0, 2)\n",
        "  x2_bounds = (0, 0.5)\n",
        "  x3_bounds = (0, 3)\n",
        "  x4_bounds = (0, 1)\n",
        "  x5_bounds = (0, 0.5)\n",
        "  x6_bounds = (0, 2)\n",
        "  x7_bounds = (0, 3)\n",
        "  x8_bounds = (0, 2)\n",
        "  x9_bounds = (0, 10)\n",
        "  x10_bounds = (0, 8)\n",
        "  x11_bounds = (0, 3)\n",
        "\n",
        "  bounds_all = [x0_bounds, x1_bounds, x2_bounds, x3_bounds, x4_bounds, x5_bounds, x6_bounds, x7_bounds, x8_bounds, x9_bounds, x10_bounds, x11_bounds]\n",
        "\n",
        "  res = linprog(c, A_ub=np.dot(W_matrix, A), b_ub=np.dot(W_matrix, b), bounds=bounds_all, method='simplex')\n",
        "\n",
        "  return res"
      ],
      "execution_count": 0,
      "outputs": []
    },
    {
      "cell_type": "markdown",
      "metadata": {
        "id": "I3Z4IdxpBMAG",
        "colab_type": "text"
      },
      "source": [
        "Now executing model with all constraints active. It means priority matrix $W=I_n$, where $n$ is number of constraints."
      ]
    },
    {
      "cell_type": "code",
      "metadata": {
        "id": "7HxJeedAxqSP",
        "colab_type": "code",
        "outputId": "84990752-195e-4cdd-de44-80d1347f2efe",
        "colab": {
          "base_uri": "https://localhost:8080/",
          "height": 35
        }
      },
      "source": [
        "W = [ # ,atrix with all caontraints active\n",
        "     [1, 0, 0, 0, 0, 0],\n",
        "     [0, 1, 0, 0, 0, 0],\n",
        "     [0, 0, 1, 0, 0, 0],\n",
        "     [0, 0, 0, 1, 0, 0],\n",
        "     [0, 0, 0, 0, 1, 0],\n",
        "     [0, 0, 0, 0, 0, 1]\n",
        "     ]\n",
        "\n",
        "solution = solve_problem_with_matricies(W)\n",
        "\n",
        "print(\"Solution found for vector x=%s\" %solution.x.round(3))"
      ],
      "execution_count": 0,
      "outputs": [
        {
          "output_type": "stream",
          "text": [
            "Solution found for vector x=[0.    0.    0.5   2.5   1.    0.5   0.    1.545 2.    0.    0.    1.955]\n"
          ],
          "name": "stdout"
        }
      ]
    },
    {
      "cell_type": "markdown",
      "metadata": {
        "id": "rdceV-eTBgF0",
        "colab_type": "text"
      },
      "source": [
        "As result we got numbers of resource to staff which are not represents half-day or full-day load. In such case we will need to perform further interpretation of results and round variables.\n",
        "\n",
        "Now, let assume that constraints for number of developers from US location are no longer priority for us. So we are removing respective lines from priority matrix $W$."
      ]
    },
    {
      "cell_type": "code",
      "metadata": {
        "id": "oGONR5wIBJ0N",
        "colab_type": "code",
        "outputId": "3dbbf993-1493-4c26-b6a2-52672a219a93",
        "colab": {
          "base_uri": "https://localhost:8080/",
          "height": 35
        }
      },
      "source": [
        "W = [ # matrix with disabled constraints for Us location\n",
        "     [1, 0, 0, 0, 0, 0],\n",
        "     [0, 1, 0, 0, 0, 0],\n",
        "     [0, 0, 0, 0, 1, 0],\n",
        "     [0, 0, 0, 0, 0, 1]\n",
        "     ]\n",
        "\n",
        "solution = solve_problem_with_matricies(W)\n",
        "\n",
        "print(\"Solution found for vector x=%s\" %solution.x)"
      ],
      "execution_count": 0,
      "outputs": [
        {
          "output_type": "stream",
          "text": [
            "Solution found for vector x=[0.  2.  0.5 0.  1.  0.5 0.  2.  2.  0.  2.  0. ]\n"
          ],
          "name": "stdout"
        }
      ]
    },
    {
      "cell_type": "markdown",
      "metadata": {
        "id": "yT_HhOaMCiTx",
        "colab_type": "text"
      },
      "source": [
        "As result  after we removed US location constraints, which are not a priority for us anylonger, we got a different team composition setup which fits better to our needs. "
      ]
    }
  ]
}