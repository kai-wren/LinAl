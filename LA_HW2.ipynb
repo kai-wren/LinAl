{
 "cells": [
  {
   "cell_type": "code",
   "execution_count": 34,
   "metadata": {},
   "outputs": [],
   "source": [
    "import numpy as np\n",
    "from fractions import Fraction"
   ]
  },
  {
   "cell_type": "markdown",
   "metadata": {},
   "source": [
    "## Problem 11\n",
    "### (a)"
   ]
  },
  {
   "cell_type": "code",
   "execution_count": 35,
   "metadata": {},
   "outputs": [
    {
     "name": "stdout",
     "output_type": "stream",
     "text": [
      "A =  [[ 3 -1]\n",
      " [ 4  3]]\n",
      "Wt =  [[ 3.    4.  ]\n",
      " [-2.08  1.56]]\n",
      "D =  [[5.  0. ]\n",
      " [0.  2.6]]\n",
      "Di =  [[0.2        0.        ]\n",
      " [0.         0.38461538]]\n",
      "Rm =  [[5.  1.8]\n",
      " [0.  2.6]]\n",
      "Qm =  [[ 0.6 -0.8]\n",
      " [ 0.8  0.6]]\n",
      "True\n",
      "Qa =  [[-0.6 -0.8]\n",
      " [-0.8  0.6]]\n",
      "Ra =  [[-5.  -1.8]\n",
      " [ 0.   2.6]]\n",
      "True\n"
     ]
    }
   ],
   "source": [
    "A = np.array([[3, -1],\n",
    "     [4, 3]])\n",
    "\n",
    "print(\"A = \",A)\n",
    "\n",
    "Wt = np.array([[3, 4],\n",
    "             [-52/25, 39/25]])\n",
    "\n",
    "print(\"Wt = \", Wt)\n",
    "\n",
    "D = np.array([[5, 0],\n",
    "             [0, 65/25]])\n",
    "\n",
    "\n",
    "print(\"D = \", D)\n",
    "\n",
    "Di=np.linalg.inv(D)\n",
    "\n",
    "print(\"Di = \", Di)\n",
    "\n",
    "Rm=np.dot(Di, np.dot(Wt, A))\n",
    "\n",
    "print(\"Rm = \", Rm)\n",
    "\n",
    "Qm=np.dot(Wt.T, Di)\n",
    "\n",
    "print(\"Qm = \", Qm)\n",
    "\n",
    "print(np.allclose(A,np.dot(Qm, Rm)))\n",
    "\n",
    "Qa, Ra=np.linalg.qr(A)\n",
    "print(\"Qa = \", Qa)\n",
    "print(\"Ra = \", Ra)\n",
    "\n",
    "print(np.allclose(A,np.dot(Qa, Ra)))"
   ]
  },
  {
   "cell_type": "markdown",
   "metadata": {},
   "source": [
    "### (b)"
   ]
  },
  {
   "cell_type": "code",
   "execution_count": 40,
   "metadata": {},
   "outputs": [
    {
     "name": "stdout",
     "output_type": "stream",
     "text": [
      "A =  [[1 2]\n",
      " [2 1]\n",
      " [2 4]]\n",
      "Wt =  [[ 1.          2.          2.        ]\n",
      " [ 0.66666667 -1.66666667  1.33333333]]\n",
      "D =  [[3.         0.        ]\n",
      " [0.         2.23606798]]\n",
      "Di =  [[0.33333333 0.        ]\n",
      " [0.         0.4472136 ]]\n",
      "Rm =  [[ 3.00000000e+00  4.00000000e+00]\n",
      " [-1.98602732e-16  2.23606798e+00]]\n",
      "Qm =  [[ 0.33333333  0.2981424 ]\n",
      " [ 0.66666667 -0.74535599]\n",
      " [ 0.66666667  0.59628479]]\n",
      "True\n",
      "Qa =  [[-0.33333333  0.2981424 ]\n",
      " [-0.66666667 -0.74535599]\n",
      " [-0.66666667  0.59628479]]\n",
      "Ra =  [[-3.         -4.        ]\n",
      " [ 0.          2.23606798]]\n",
      "True\n"
     ]
    }
   ],
   "source": [
    "A = np.array([[1, 2],\n",
    "              [2, 1],\n",
    "              [2, 4]])\n",
    "\n",
    "print(\"A = \", A)\n",
    "\n",
    "Wt = np.array([[1, 2, 2],\n",
    "             [2/3, -5/3, 4/3]])\n",
    "\n",
    "print(\"Wt = \", Wt)\n",
    "\n",
    "D = np.array([[3, 0],\n",
    "             [0, np.sqrt(5)]])\n",
    "\n",
    "\n",
    "print(\"D = \", D)\n",
    "\n",
    "Di=np.linalg.inv(D)\n",
    "\n",
    "print(\"Di = \", Di)\n",
    "\n",
    "Rm=np.dot(Di, np.dot(Wt, A))\n",
    "\n",
    "print(\"Rm = \", Rm)\n",
    "\n",
    "Qm=np.dot(Wt.T, Di)\n",
    "\n",
    "print(\"Qm = \", Qm)\n",
    "\n",
    "print(np.allclose(A,np.dot(Qm, Rm)))\n",
    "\n",
    "Qa, Ra=np.linalg.qr(A)\n",
    "print(\"Qa = \", Qa)\n",
    "print(\"Ra = \", Ra)\n",
    "\n",
    "print(np.allclose(A,np.dot(Qa, Ra)))"
   ]
  },
  {
   "cell_type": "markdown",
   "metadata": {},
   "source": [
    "### (c)"
   ]
  },
  {
   "cell_type": "code",
   "execution_count": 41,
   "metadata": {},
   "outputs": [
    {
     "name": "stdout",
     "output_type": "stream",
     "text": [
      "A =  [[ 1  2  2]\n",
      " [ 2 -1  1]\n",
      " [ 2  0  1]]\n",
      "Qa =  [[-3.33333333e-01  8.94427191e-01 -2.98142397e-01]\n",
      " [-6.66666667e-01 -4.47213595e-01 -5.96284794e-01]\n",
      " [-6.66666667e-01 -5.55111512e-17  7.45355992e-01]]\n",
      "Ra =  [[-3.          0.         -2.        ]\n",
      " [ 0.          2.23606798  1.34164079]\n",
      " [ 0.          0.         -0.4472136 ]]\n",
      "True\n"
     ]
    }
   ],
   "source": [
    "A = np.array([[1, 2, 2],\n",
    "              [2, -1, 1],\n",
    "              [2, 0, 1]])\n",
    "\n",
    "print(\"A = \", A)\n",
    "\n",
    "# Wt = np.array([[1, 2, 2],\n",
    "#              [2/3, -5/3, 4/3]])\n",
    "\n",
    "# print(\"Wt = \", Wt)\n",
    "\n",
    "# D = np.array([[3, 0],\n",
    "#              [0, np.sqrt(5)]])\n",
    "\n",
    "\n",
    "# print(\"D = \", D)\n",
    "\n",
    "# Di=np.linalg.inv(D)\n",
    "\n",
    "# print(\"Di = \", Di)\n",
    "\n",
    "# Rm=np.dot(Di, np.dot(Wt, A))\n",
    "\n",
    "# print(\"Rm = \", Rm)\n",
    "\n",
    "# Qm=np.dot(Wt.T, Di)\n",
    "\n",
    "# print(\"Qm = \", Qm)\n",
    "\n",
    "# print(np.allclose(A,np.dot(Qm, Rm)))\n",
    "\n",
    "Qa, Ra=np.linalg.qr(A)\n",
    "print(\"Qa = \", Qa)\n",
    "print(\"Ra = \", Ra)\n",
    "\n",
    "print(np.allclose(A,np.dot(Qa, Ra)))"
   ]
  }
 ],
 "metadata": {
  "kernelspec": {
   "display_name": "Python 3",
   "language": "python",
   "name": "python3"
  },
  "language_info": {
   "codemirror_mode": {
    "name": "ipython",
    "version": 3
   },
   "file_extension": ".py",
   "mimetype": "text/x-python",
   "name": "python",
   "nbconvert_exporter": "python",
   "pygments_lexer": "ipython3",
   "version": "3.7.3"
  }
 },
 "nbformat": 4,
 "nbformat_minor": 2
}
