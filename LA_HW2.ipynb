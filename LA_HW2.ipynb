{
 "cells": [
  {
   "cell_type": "code",
   "execution_count": 2,
   "metadata": {},
   "outputs": [],
   "source": [
    "import numpy as np\n",
    "from fractions import Fraction"
   ]
  },
  {
   "cell_type": "code",
   "execution_count": 3,
   "metadata": {},
   "outputs": [
    {
     "name": "stdout",
     "output_type": "stream",
     "text": [
      "[Matrix([\n",
      "[-1],\n",
      "[ 0],\n",
      "[ 1]])]\n"
     ]
    }
   ],
   "source": [
    "from sympy import Matrix \n",
    "\n",
    "\n",
    "\n",
    "A = np.array([[1, 1, 1],\n",
    "              [1, -1, 1]])\n",
    "A = Matrix(A)\n",
    "NA = A.nullspace()\n",
    "print(NA)"
   ]
  },
  {
   "cell_type": "markdown",
   "metadata": {},
   "source": [
    "## Problem 11"
   ]
  },
  {
   "cell_type": "code",
   "execution_count": 4,
   "metadata": {},
   "outputs": [],
   "source": [
    "def qr_man(A: np.ndarray):\n",
    "    \n",
    "    ai = {}\n",
    "    wi = {}\n",
    "    \n",
    "    W=np.empty_like(A, dtype=np.float32)\n",
    "    D=np.zeros((len(A[0]),len(A[1])), dtype=np.float32)\n",
    "\n",
    "    for i in range(len(A[1])):\n",
    "        ai[i] = A.take(i, axis=1)\n",
    "    \n",
    "    for itm in ai:\n",
    "        if itm==0:\n",
    "            wi[itm]=ai[itm]\n",
    "        elif itm==1:\n",
    "            wi[itm]=ai[itm]-np.dot((np.dot(ai[itm].T, wi[itm-1]))/(np.dot(wi[itm-1].T, wi[itm-1])), wi[itm-1])\n",
    "        elif itm==2:\n",
    "            wi[itm]=ai[itm]-np.dot((np.dot(ai[itm].T, wi[itm-1]))/(np.dot(wi[itm-1].T, wi[itm-1])), wi[itm-1])-np.dot((np.dot(ai[itm].T, wi[itm-2]))/(np.dot(wi[itm-2].T, wi[itm-2])), wi[itm-2])\n",
    "            \n",
    "    for itm in wi:\n",
    "        W[:,itm]=wi[itm]\n",
    "    \n",
    "    Wt=W.T\n",
    "\n",
    "    for itm in wi:\n",
    "        wi_len = np.sqrt(np.dot(wi[itm], wi[itm]))\n",
    "        D[itm][itm] = wi_len\n",
    "        \n",
    "    Di=np.linalg.inv(D)\n",
    "    \n",
    "    R=np.dot(np.dot(Di,Wt),A)\n",
    "    \n",
    "    Q=np.dot(W,Di)\n",
    "    \n",
    "    return A, W, Wt, D, Di, R, Q;\n"
   ]
  },
  {
   "cell_type": "markdown",
   "metadata": {},
   "source": [
    "### (a)"
   ]
  },
  {
   "cell_type": "code",
   "execution_count": 5,
   "metadata": {},
   "outputs": [
    {
     "name": "stdout",
     "output_type": "stream",
     "text": [
      "A= [[ 3 -1]\n",
      " [ 4  3]]\n",
      "W= [[ 3.   -2.08]\n",
      " [ 4.    1.56]]\n",
      "Wt= [[ 3.    4.  ]\n",
      " [-2.08  1.56]]\n",
      "D= [[5.  0. ]\n",
      " [0.  2.6]]\n",
      "Di= [[0.2    0.    ]\n",
      " [0.     0.3846]]\n",
      "R= [[ 5.   1.8]\n",
      " [-0.   2.6]]\n",
      "Q= [[ 0.6 -0.8]\n",
      " [ 0.8  0.6]]\n",
      "True\n"
     ]
    }
   ],
   "source": [
    "B = np.array([[3, -1],\n",
    "     [4, 3]])\n",
    "\n",
    "A, W, Wt, D, Di, R, Q = qr_man(B)\n",
    "\n",
    "print(\"A=\", A)\n",
    "print(\"W=\", W.round(4))\n",
    "print(\"Wt=\", Wt.round(4))\n",
    "print(\"D=\", D.round(4))\n",
    "print(\"Di=\", Di.round(4))\n",
    "print(\"R=\", R.round(4))\n",
    "print(\"Q=\", Q.round(4))\n",
    "print(np.allclose(B,np.dot(Q, R)))"
   ]
  },
  {
   "cell_type": "code",
   "execution_count": 6,
   "metadata": {},
   "outputs": [
    {
     "name": "stdout",
     "output_type": "stream",
     "text": [
      "A =  [[ 3 -1]\n",
      " [ 4  3]]\n",
      "Ra =  [[-5.  -1.8]\n",
      " [ 0.   2.6]]\n",
      "Qa =  [[-0.6 -0.8]\n",
      " [-0.8  0.6]]\n",
      "True\n"
     ]
    }
   ],
   "source": [
    "A = np.array([[3, -1],\n",
    "     [4, 3]])\n",
    "\n",
    "print(\"A = \",A)\n",
    "\n",
    "Qa, Ra=np.linalg.qr(A)\n",
    "print(\"Ra = \", Ra.round(4))\n",
    "print(\"Qa = \", Qa.round(4))\n",
    "\n",
    "print(np.allclose(A,np.dot(Qa, Ra)))"
   ]
  },
  {
   "cell_type": "markdown",
   "metadata": {},
   "source": [
    "### (b)"
   ]
  },
  {
   "cell_type": "code",
   "execution_count": 7,
   "metadata": {},
   "outputs": [
    {
     "name": "stdout",
     "output_type": "stream",
     "text": [
      "A= [[1 2]\n",
      " [2 1]\n",
      " [2 4]]\n",
      "W= [[ 1.      0.6667]\n",
      " [ 2.     -1.6667]\n",
      " [ 2.      1.3333]]\n",
      "Wt= [[ 1.      2.      2.    ]\n",
      " [ 0.6667 -1.6667  1.3333]]\n",
      "D= [[3.     0.    ]\n",
      " [0.     2.2361]]\n",
      "Di= [[0.3333 0.    ]\n",
      " [0.     0.4472]]\n",
      "R= [[3.     4.    ]\n",
      " [0.     2.2361]]\n",
      "Q= [[ 0.3333  0.2981]\n",
      " [ 0.6667 -0.7454]\n",
      " [ 0.6667  0.5963]]\n",
      "True\n"
     ]
    }
   ],
   "source": [
    "B = np.array([[1, 2],\n",
    "              [2, 1],\n",
    "              [2, 4]])\n",
    "\n",
    "A, W, Wt, D, Di, R, Q = qr_man(B)\n",
    "\n",
    "print(\"A=\", A)\n",
    "print(\"W=\", W.round(4))\n",
    "print(\"Wt=\", Wt.round(4))\n",
    "print(\"D=\", D.round(4))\n",
    "print(\"Di=\", Di.round(4))\n",
    "print(\"R=\", R.round(4))\n",
    "print(\"Q=\", Q.round(4))\n",
    "print(np.allclose(B,np.dot(Q, R)))"
   ]
  },
  {
   "cell_type": "code",
   "execution_count": 8,
   "metadata": {},
   "outputs": [
    {
     "name": "stdout",
     "output_type": "stream",
     "text": [
      "A =  [[1 2]\n",
      " [2 1]\n",
      " [2 4]]\n",
      "Ra =  [[-3.     -4.    ]\n",
      " [ 0.      2.2361]]\n",
      "Qa =  [[-0.3333  0.2981]\n",
      " [-0.6667 -0.7454]\n",
      " [-0.6667  0.5963]]\n",
      "True\n"
     ]
    }
   ],
   "source": [
    "A = np.array([[1, 2],\n",
    "              [2, 1],\n",
    "              [2, 4]])\n",
    "\n",
    "print(\"A = \", A)\n",
    "\n",
    "Qa, Ra=np.linalg.qr(A)\n",
    "print(\"Ra = \", Ra.round(4))\n",
    "print(\"Qa = \", Qa.round(4))\n",
    "\n",
    "print(np.allclose(A,np.dot(Qa, Ra)))"
   ]
  },
  {
   "cell_type": "markdown",
   "metadata": {},
   "source": [
    "### (c)"
   ]
  },
  {
   "cell_type": "code",
   "execution_count": 9,
   "metadata": {},
   "outputs": [
    {
     "name": "stdout",
     "output_type": "stream",
     "text": [
      "A= [[ 1  2  2]\n",
      " [ 2 -1  1]\n",
      " [ 2  0  1]]\n",
      "W= [[ 1.      2.      0.1333]\n",
      " [ 2.     -1.      0.2667]\n",
      " [ 2.      0.     -0.3333]]\n",
      "Wt= [[ 1.      2.      2.    ]\n",
      " [ 2.     -1.      0.    ]\n",
      " [ 0.1333  0.2667 -0.3333]]\n",
      "D= [[3.     0.     0.    ]\n",
      " [0.     2.2361 0.    ]\n",
      " [0.     0.     0.4472]]\n",
      "Di= [[0.3333 0.     0.    ]\n",
      " [0.     0.4472 0.    ]\n",
      " [0.     0.     2.2361]]\n",
      "R= [[ 3.      0.      2.    ]\n",
      " [ 0.      2.2361  1.3416]\n",
      " [-0.      0.      0.4472]]\n",
      "Q= [[ 0.3333  0.8944  0.2981]\n",
      " [ 0.6667 -0.4472  0.5963]\n",
      " [ 0.6667  0.     -0.7454]]\n",
      "True\n"
     ]
    }
   ],
   "source": [
    "B = np.array([[1, 2, 2],\n",
    "              [2, -1, 1],\n",
    "              [2, 0, 1]])\n",
    "\n",
    "A, W, Wt, D, Di, R, Q = qr_man(B)\n",
    "\n",
    "print(\"A=\", A)\n",
    "print(\"W=\", W.round(4))\n",
    "print(\"Wt=\", Wt.round(4))\n",
    "print(\"D=\", D.round(4))\n",
    "print(\"Di=\", Di.round(4))\n",
    "print(\"R=\", R.round(4))\n",
    "print(\"Q=\", Q.round(4))\n",
    "print(np.allclose(B,np.dot(Q, R)))"
   ]
  },
  {
   "cell_type": "code",
   "execution_count": 10,
   "metadata": {},
   "outputs": [
    {
     "name": "stdout",
     "output_type": "stream",
     "text": [
      "A =  [[ 1  2  2]\n",
      " [ 2 -1  1]\n",
      " [ 2  0  1]]\n",
      "Ra =  [[-3.      0.     -2.    ]\n",
      " [ 0.      2.2361  1.3416]\n",
      " [ 0.      0.     -0.4472]]\n",
      "Qa =  [[-0.3333  0.8944 -0.2981]\n",
      " [-0.6667 -0.4472 -0.5963]\n",
      " [-0.6667 -0.      0.7454]]\n",
      "True\n"
     ]
    }
   ],
   "source": [
    "A = np.array([[1, 2, 2],\n",
    "              [2, -1, 1],\n",
    "              [2, 0, 1]])\n",
    "\n",
    "print(\"A = \", A)\n",
    "\n",
    "Qa, Ra=np.linalg.qr(A)\n",
    "print(\"Ra = \", Ra.round(4))\n",
    "print(\"Qa = \", Qa.round(4))\n",
    "\n",
    "print(np.allclose(A,np.dot(Qa, Ra)))"
   ]
  },
  {
   "cell_type": "markdown",
   "metadata": {},
   "source": [
    "## Problem 12\n",
    "### (c)"
   ]
  },
  {
   "cell_type": "code",
   "execution_count": 104,
   "metadata": {},
   "outputs": [],
   "source": [
    "def colvec(rowvec):\n",
    "    v = np.asarray(rowvec)\n",
    "    return v.reshape(v.size,1)"
   ]
  },
  {
   "cell_type": "code",
   "execution_count": 250,
   "metadata": {},
   "outputs": [],
   "source": [
    "def householder_qr(A: np.ndarray):\n",
    "    \n",
    "    Atmp = A\n",
    "    Qdict={}\n",
    "    i=0\n",
    "    Q: np.ndarray\n",
    "    \n",
    "    while (Atmp.shape[0] > 1):\n",
    "        print(Atmp.shape)\n",
    "        In=np.identity(Atmp.shape[0])\n",
    "        x = Atmp[:,0]\n",
    "        xn = np.linalg.norm(Atmp[:,0], 2)\n",
    "        ev = np.zeros_like(Atmp[:,0])\n",
    "        ev[0]=xn\n",
    "        u=x-ev\n",
    "        un = u/np.linalg.norm(u, 2)\n",
    "        H=In - 2 * colvec(un) * un.T\n",
    "        print(\"iter=\", x, xn, ev, u, In, H, un, Atmp)\n",
    "    \n",
    "        R=np.dot(H, Atmp)\n",
    "        Qdict[i]=H\n",
    "        i+1\n",
    "        Atmp = np.dot(H, Atmp)\n",
    "        Atmp = Atmp[1:,1:]\n",
    "        print(Atmp)\n",
    "    \n",
    "    print(Qdict)\n",
    "    for itm in Qdict:\n",
    "        if itm == 0:\n",
    "            Q=Qdict[itm]\n",
    "        else:\n",
    "            Q=np.dot(Q, Qdict[itm])\n",
    "    \n",
    "    return R, Q"
   ]
  },
  {
   "cell_type": "code",
   "execution_count": 251,
   "metadata": {},
   "outputs": [
    {
     "name": "stdout",
     "output_type": "stream",
     "text": [
      "(2, 2)\n",
      "iter= [3 4] 5.0 [5 0] [-2  4] [[1. 0.]\n",
      " [0. 1.]] [[ 0.6  0.8]\n",
      " [ 0.8 -0.6]] [-0.4472136   0.89442719] [[ 3 -1]\n",
      " [ 4  3]]\n",
      "[[-2.6]]\n",
      "{0: array([[ 0.6,  0.8],\n",
      "       [ 0.8, -0.6]])}\n",
      "R= [[ 5.   1.8]\n",
      " [ 0.  -2.6]]\n",
      "Q= [[ 0.6  0.8]\n",
      " [ 0.8 -0.6]]\n",
      "True\n"
     ]
    }
   ],
   "source": [
    "B = np.array([[3, -1],\n",
    "              [4, 3]])\n",
    "\n",
    "R, Q = householder_qr(B)\n",
    "\n",
    "print(\"R=\", R.round(4))\n",
    "print(\"Q=\", Q.round(4))\n",
    "print(np.allclose(B,np.dot(Q, R)))"
   ]
  },
  {
   "cell_type": "code",
   "execution_count": 252,
   "metadata": {},
   "outputs": [
    {
     "name": "stdout",
     "output_type": "stream",
     "text": [
      "(3, 2)\n",
      "iter= [1 2 2] 3.0 [3 0 0] [-2  2  2] [[1. 0. 0.]\n",
      " [0. 1. 0.]\n",
      " [0. 0. 1.]] [[ 0.33333333  0.66666667  0.66666667]\n",
      " [ 0.66666667  0.33333333 -0.66666667]\n",
      " [ 0.66666667 -0.66666667  0.33333333]] [-0.57735027  0.57735027  0.57735027] [[1 2]\n",
      " [2 1]\n",
      " [2 4]]\n",
      "[[-1.]\n",
      " [ 2.]]\n",
      "(2, 1)\n",
      "iter= [-1.  2.] 2.2360679774997894 [2.23606798 0.        ] [-3.23606798  2.        ] [[1. 0.]\n",
      " [0. 1.]] [[-0.4472136   0.89442719]\n",
      " [ 0.89442719  0.4472136 ]] [-0.85065081  0.52573111] [[-1.]\n",
      " [ 2.]]\n",
      "[]\n",
      "{0: array([[-0.4472136 ,  0.89442719],\n",
      "       [ 0.89442719,  0.4472136 ]])}\n",
      "R= [[2.2361]\n",
      " [0.    ]]\n",
      "Q= [[-0.4472  0.8944]\n",
      " [ 0.8944  0.4472]]\n"
     ]
    }
   ],
   "source": [
    "B = np.array([[1, 2],\n",
    "              [2, 1],\n",
    "              [2, 4]])\n",
    "\n",
    "R, Q = householder_qr(B)\n",
    "\n",
    "print(\"R=\", R.round(4))\n",
    "print(\"Q=\", Q.round(4))\n",
    "# print(np.allclose(B,np.dot(Q, R)))"
   ]
  }
 ],
 "metadata": {
  "kernelspec": {
   "display_name": "Python 3",
   "language": "python",
   "name": "python3"
  },
  "language_info": {
   "codemirror_mode": {
    "name": "ipython",
    "version": 3
   },
   "file_extension": ".py",
   "mimetype": "text/x-python",
   "name": "python",
   "nbconvert_exporter": "python",
   "pygments_lexer": "ipython3",
   "version": "3.7.3"
  }
 },
 "nbformat": 4,
 "nbformat_minor": 2
}
